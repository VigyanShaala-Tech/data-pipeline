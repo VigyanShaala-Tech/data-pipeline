{
 "cells": [
  {
   "cell_type": "code",
   "execution_count": 1,
   "id": "d8660022-f7fe-4b62-93b8-880bc28b3d93",
   "metadata": {},
   "outputs": [],
   "source": [
    "# Importing the pandas library for data manipulation\n",
    "import pandas as pd \n",
    "\n",
    "# Importing the re library for regular expression operations\n",
    "import re \n",
    "\n",
    "# Importing the os library for operating system dependent functionality\n",
    "import os \n",
    "\n",
    "# Importing the mysql.connector library for connecting to MySQL databases\n",
    "import mysql.connector as msql \n",
    "\n",
    "# Importing the math library for mathematical operations\n",
    "import math\n"
   ]
  },
  {
   "cell_type": "code",
   "execution_count": null,
   "id": "739d87d5-97f8-4160-a41f-5340e496aee4",
   "metadata": {},
   "outputs": [],
   "source": [
    "# Read the data from the summary_overall_performance_monitoring into a pandas DataFrame\n",
    "df = pd.read_csv(r\"\")\n"
   ]
  },
  {
   "cell_type": "code",
   "execution_count": null,
   "id": "3ee0077a-aa30-4c1e-a29b-dea97722726a",
   "metadata": {},
   "outputs": [],
   "source": [
    "# Read the data from the Assignment_Review into a pandas DataFrame\n",
    "\n",
    "df_ass= pd.read_csv(r\"\")\n"
   ]
  },
  {
   "cell_type": "code",
   "execution_count": 4,
   "id": "4bdcdfca-af2f-4b86-a60e-78afbbddd2d2",
   "metadata": {},
   "outputs": [
    {
     "data": {
      "text/plain": [
       "Index(['Email', 'Name', 'Phone', 'Name_of_College_University',\n",
       "       'Currently_Pursuing_Degree', 'Goal_Setting', 'Comments_Goal_Setting',\n",
       "       'SMART_Goal', 'Comments_SMART_Goal', 'CV_Resume', 'Comments_CV_Resume',\n",
       "       'Career_Exploration', 'Comments_Career_Exploration',\n",
       "       'Career_Action_Plan', 'Comments_Career_Action_Plan',\n",
       "       'Internship_Searching', 'Comments_Internship_Searching',\n",
       "       'LinkedIn_Profile', 'Comments_LinkedIn_Profile', 'Assignment_Score'],\n",
       "      dtype='object')"
      ]
     },
     "execution_count": 4,
     "metadata": {},
     "output_type": "execute_result"
    }
   ],
   "source": [
    "df_ass.columns"
   ]
  },
  {
   "cell_type": "code",
   "execution_count": 5,
   "id": "80ecddf9-bca1-454f-8e5a-bc3912119cff",
   "metadata": {},
   "outputs": [],
   "source": [
    "# Drop Multiple columns \n",
    "df_ass = df_ass.drop(['Name', 'Phone', 'Name_of_College_University','Currently_Pursuing_Degree','Assignment_Score'], axis=1)\n"
   ]
  },
  {
   "cell_type": "code",
   "execution_count": 6,
   "id": "33f94849-e1a5-451f-a852-ba96cfe66058",
   "metadata": {},
   "outputs": [],
   "source": [
    "# Create a list of columns that start with 'Assignment' or 'Practice_Assignment'\n",
    "cols = [col for i, col in enumerate(df_ass.columns) if i % 2 != 0]\n",
    "\n",
    "# Add a new column 'Total Assignment' to the DataFrame\n",
    "# For each row, count the number of columns in 'cols' that have values greater than 0\n",
    "df_ass['Total Assignment'] = df_ass[cols].apply(lambda row: sum(1 for val in row if val > 0), axis=1)\n"
   ]
  },
  {
   "cell_type": "code",
   "execution_count": 8,
   "id": "c347eef1-7708-4114-aed6-b48f32108d47",
   "metadata": {},
   "outputs": [
    {
     "data": {
      "text/plain": [
       "Index(['Email', 'Name', 'Phone', 'Name_of_College_University',\n",
       "       'Currently_Pursuing_Degree', 'Pre Recorded Videos- Percentage (%)',\n",
       "       'SUK Sessions - Percentage (%)', 'MasterClass - Percentage (%)',\n",
       "       'Workshop Sessions - Percentage (%)', 'Program Percentage (%)',\n",
       "       'Time Spent on Video content (Hours)', 'Time Spent on Quizzes',\n",
       "       'Time_Spent_on_Assignments', 'Program Overall Time Spent Hours',\n",
       "       'Quiz Score Average Score', 'Assignment Completion Average Score'],\n",
       "      dtype='object')"
      ]
     },
     "execution_count": 8,
     "metadata": {},
     "output_type": "execute_result"
    }
   ],
   "source": [
    "df.columns"
   ]
  },
  {
   "cell_type": "code",
   "execution_count": 10,
   "id": "279ab600-cb72-409c-a71c-694c573d1d29",
   "metadata": {},
   "outputs": [],
   "source": [
    "# Find the maximum value in the 'Attendance Score' column\n",
    "max_attendance_points = df['Program Percentage (%)'].max()"
   ]
  },
  {
   "cell_type": "code",
   "execution_count": 11,
   "id": "2b71215f-5de3-4679-a945-9fc9869ff3ed",
   "metadata": {},
   "outputs": [
    {
     "data": {
      "text/plain": [
       "99.54"
      ]
     },
     "execution_count": 11,
     "metadata": {},
     "output_type": "execute_result"
    }
   ],
   "source": [
    "max_attendance_points"
   ]
  },
  {
   "cell_type": "code",
   "execution_count": 12,
   "id": "f3084141-7f04-4c36-b675-627434f41e48",
   "metadata": {},
   "outputs": [],
   "source": [
    "# Create a new column 'Attendance Points'\n",
    "# For each row, calculate the attendance points using the formula:\n",
    "# (attendance score / maximum attendance score) * 50\n",
    "df['Attendance Points'] = (df['Program Percentage (%)'] / max_attendance_points) * 50"
   ]
  },
  {
   "cell_type": "code",
   "execution_count": 13,
   "id": "20de138b-4b9c-4acb-9edd-ad3c1e8ffd94",
   "metadata": {},
   "outputs": [],
   "source": [
    "# Find the maximum value in the 'Quiz Score Average Score' column\n",
    "max_quiz_points = df['Quiz Score Average Score'].max()"
   ]
  },
  {
   "cell_type": "code",
   "execution_count": 14,
   "id": "918f5fb6-3214-439c-8a87-026c71a54aec",
   "metadata": {},
   "outputs": [
    {
     "data": {
      "text/plain": [
       "93.33"
      ]
     },
     "execution_count": 14,
     "metadata": {},
     "output_type": "execute_result"
    }
   ],
   "source": [
    "max_quiz_points"
   ]
  },
  {
   "cell_type": "code",
   "execution_count": 15,
   "id": "bab05f43-8c70-42bd-be13-13cfd763255a",
   "metadata": {},
   "outputs": [],
   "source": [
    "# Create a new column 'Quiz Points'\n",
    "# For each row, calculate the attendance points using the formula:\n",
    "df['Quiz Points'] = (df['Quiz Score Average Score'] / max_quiz_points) * 20"
   ]
  },
  {
   "cell_type": "code",
   "execution_count": 16,
   "id": "1e6573a4-e2b8-4fc6-aaf7-a8fbb254b629",
   "metadata": {},
   "outputs": [],
   "source": [
    "# Find the maximum value in the 'Quiz Score Average Score' column\n",
    "max_assign_points = df['Assignment Completion Average Score'].max()"
   ]
  },
  {
   "cell_type": "code",
   "execution_count": 17,
   "id": "c05b8e43-b58a-4806-8839-30ae25649c91",
   "metadata": {},
   "outputs": [
    {
     "data": {
      "text/plain": [
       "71.43"
      ]
     },
     "execution_count": 17,
     "metadata": {},
     "output_type": "execute_result"
    }
   ],
   "source": [
    "max_assign_points"
   ]
  },
  {
   "cell_type": "code",
   "execution_count": 18,
   "id": "44e259aa-f10f-42df-91cc-2d7cc8bd88b0",
   "metadata": {},
   "outputs": [],
   "source": [
    "# Create a new column 'Assignment Points'\n",
    "# For each row, calculate the attendance points using the formula:\n",
    "df['Assignment Points'] = (df['Assignment Completion Average Score'] / max_assign_points) * 30"
   ]
  },
  {
   "cell_type": "code",
   "execution_count": 19,
   "id": "4de60b76-0870-4361-a8fd-b1cb65abe189",
   "metadata": {},
   "outputs": [],
   "source": [
    "df_merge = pd.merge(df,df_ass, on=\"Email\") \n"
   ]
  },
  {
   "cell_type": "code",
   "execution_count": 20,
   "id": "64bf9c7b-15cf-4000-906e-2cda022cabc9",
   "metadata": {},
   "outputs": [
    {
     "data": {
      "text/plain": [
       "Index(['Email', 'Name', 'Phone', 'Name_of_College_University',\n",
       "       'Currently_Pursuing_Degree', 'Pre Recorded Videos- Percentage (%)',\n",
       "       'SUK Sessions - Percentage (%)', 'MasterClass - Percentage (%)',\n",
       "       'Workshop Sessions - Percentage (%)', 'Program Percentage (%)',\n",
       "       'Time Spent on Video content (Hours)', 'Time Spent on Quizzes',\n",
       "       'Time_Spent_on_Assignments', 'Program Overall Time Spent Hours',\n",
       "       'Quiz Score Average Score', 'Assignment Completion Average Score',\n",
       "       'Attendance Points', 'Quiz Points', 'Assignment Points', 'Goal_Setting',\n",
       "       'Comments_Goal_Setting', 'SMART_Goal', 'Comments_SMART_Goal',\n",
       "       'CV_Resume', 'Comments_CV_Resume', 'Career_Exploration',\n",
       "       'Comments_Career_Exploration', 'Career_Action_Plan',\n",
       "       'Comments_Career_Action_Plan', 'Internship_Searching',\n",
       "       'Comments_Internship_Searching', 'LinkedIn_Profile',\n",
       "       'Comments_LinkedIn_Profile', 'Total Assignment'],\n",
       "      dtype='object')"
      ]
     },
     "execution_count": 20,
     "metadata": {},
     "output_type": "execute_result"
    }
   ],
   "source": [
    "df_merge.columns"
   ]
  },
  {
   "cell_type": "code",
   "execution_count": 21,
   "id": "110983cc-647e-4eaa-bfaf-b5f1fc600114",
   "metadata": {},
   "outputs": [],
   "source": [
    "# Group by 'Name of the College' and calculate the average for each group\n",
    "df_merge_1 = df_merge.groupby('Name_of_College_University').agg({\n",
    "    'Attendance Points': 'mean',\n",
    "    'Quiz Points': 'mean',\n",
    "    'Assignment Points': 'mean',\n",
    "    'Total Assignment' : 'sum'\n",
    "}).reset_index()\n",
    "\n",
    "# Rename the columns for clarity\n",
    "df_merge_1.columns = ['Name of College', 'Attendance Points', 'Quiz Points', 'Assignment Points','Total Assignment']\n",
    "\n"
   ]
  },
  {
   "cell_type": "code",
   "execution_count": 23,
   "id": "ae8e08db-93af-41db-b1eb-2115123adaa8",
   "metadata": {},
   "outputs": [
    {
     "name": "stdout",
     "output_type": "stream",
     "text": [
      "['0', 'Dev Bhoomi Uttarakhand University, Dehradun ', 'Dr. A.P.J. Abdul Kalam Institute of Technology, Tanakpur', 'G B Pant Institute of Engineering & Technology', 'G.P.G.C.Berinag (Stemchampions)', 'Institute of Technology, Gopeshwar', 'JBIT, Dehradun', 'LSM PG CAMPUS PITHORAGARH (Stemchampions)', 'Nanhi Pari Seemant Institute of Technology, Pithoragarh', 'SSJ Campus, Champawat (Stemchampions)', 'THDC Institute of Hydropower Engineering and Technology, Tehri', 'Tulas Institute, Dehradun', 'UPES, Dehradun', 'Uttaranchal University', 'Women Institute of Technology, Dehradun']\n"
     ]
    }
   ],
   "source": [
    "# Get all values of 'College' column\n",
    "college_values = df_merge_1['Name of College'].tolist()\n",
    "\n",
    "print(college_values)"
   ]
  },
  {
   "cell_type": "code",
   "execution_count": 24,
   "id": "590af23f-7299-40b1-aa18-fa0802ff5956",
   "metadata": {},
   "outputs": [],
   "source": [
    "# Create a new column 'Final Score'\n",
    "# Calculate it by summing the values of 'Attendance Points', 'Quiz Points', and 'Assignment Points' for each row\n",
    "df_merge_1['Final Score'] = df_merge_1[['Attendance Points', 'Quiz Points', 'Assignment Points']].sum(axis=1)"
   ]
  },
  {
   "cell_type": "code",
   "execution_count": 25,
   "id": "b2deb5da-b6cd-4792-8e3d-e9ac88a93e63",
   "metadata": {},
   "outputs": [
    {
     "data": {
      "text/html": [
       "<div>\n",
       "<style scoped>\n",
       "    .dataframe tbody tr th:only-of-type {\n",
       "        vertical-align: middle;\n",
       "    }\n",
       "\n",
       "    .dataframe tbody tr th {\n",
       "        vertical-align: top;\n",
       "    }\n",
       "\n",
       "    .dataframe thead th {\n",
       "        text-align: right;\n",
       "    }\n",
       "</style>\n",
       "<table border=\"1\" class=\"dataframe\">\n",
       "  <thead>\n",
       "    <tr style=\"text-align: right;\">\n",
       "      <th></th>\n",
       "      <th>Name of College</th>\n",
       "      <th>Attendance Points</th>\n",
       "      <th>Quiz Points</th>\n",
       "      <th>Assignment Points</th>\n",
       "      <th>Total Assignment</th>\n",
       "      <th>Final Score</th>\n",
       "    </tr>\n",
       "  </thead>\n",
       "  <tbody>\n",
       "    <tr>\n",
       "      <th>0</th>\n",
       "      <td>0</td>\n",
       "      <td>2.461322</td>\n",
       "      <td>0.000000</td>\n",
       "      <td>4.800504</td>\n",
       "      <td>2</td>\n",
       "      <td>7.261826</td>\n",
       "    </tr>\n",
       "    <tr>\n",
       "      <th>1</th>\n",
       "      <td>Dev Bhoomi Uttarakhand University, Dehradun</td>\n",
       "      <td>3.255614</td>\n",
       "      <td>2.234077</td>\n",
       "      <td>1.723395</td>\n",
       "      <td>15</td>\n",
       "      <td>7.213086</td>\n",
       "    </tr>\n",
       "    <tr>\n",
       "      <th>2</th>\n",
       "      <td>Dr. A.P.J. Abdul Kalam Institute of Technology...</td>\n",
       "      <td>6.514541</td>\n",
       "      <td>0.486309</td>\n",
       "      <td>1.263817</td>\n",
       "      <td>11</td>\n",
       "      <td>8.264668</td>\n",
       "    </tr>\n",
       "    <tr>\n",
       "      <th>3</th>\n",
       "      <td>G B Pant Institute of Engineering &amp; Technology</td>\n",
       "      <td>1.140863</td>\n",
       "      <td>0.417608</td>\n",
       "      <td>0.000000</td>\n",
       "      <td>0</td>\n",
       "      <td>1.558472</td>\n",
       "    </tr>\n",
       "    <tr>\n",
       "      <th>4</th>\n",
       "      <td>G.P.G.C.Berinag (Stemchampions)</td>\n",
       "      <td>46.475789</td>\n",
       "      <td>15.143684</td>\n",
       "      <td>23.039059</td>\n",
       "      <td>20</td>\n",
       "      <td>84.658532</td>\n",
       "    </tr>\n",
       "    <tr>\n",
       "      <th>5</th>\n",
       "      <td>Institute of Technology, Gopeshwar</td>\n",
       "      <td>18.095269</td>\n",
       "      <td>8.683234</td>\n",
       "      <td>13.330927</td>\n",
       "      <td>74</td>\n",
       "      <td>40.109431</td>\n",
       "    </tr>\n",
       "    <tr>\n",
       "      <th>6</th>\n",
       "      <td>JBIT, Dehradun</td>\n",
       "      <td>2.254621</td>\n",
       "      <td>0.642880</td>\n",
       "      <td>0.300084</td>\n",
       "      <td>1</td>\n",
       "      <td>3.197585</td>\n",
       "    </tr>\n",
       "    <tr>\n",
       "      <th>7</th>\n",
       "      <td>LSM PG CAMPUS PITHORAGARH (Stemchampions)</td>\n",
       "      <td>42.875800</td>\n",
       "      <td>15.612496</td>\n",
       "      <td>22.713746</td>\n",
       "      <td>28</td>\n",
       "      <td>81.202042</td>\n",
       "    </tr>\n",
       "    <tr>\n",
       "      <th>8</th>\n",
       "      <td>Nanhi Pari Seemant Institute of Technology, Pi...</td>\n",
       "      <td>22.332512</td>\n",
       "      <td>6.553184</td>\n",
       "      <td>7.435312</td>\n",
       "      <td>35</td>\n",
       "      <td>36.321009</td>\n",
       "    </tr>\n",
       "    <tr>\n",
       "      <th>9</th>\n",
       "      <td>SSJ Campus, Champawat (Stemchampions)</td>\n",
       "      <td>33.668336</td>\n",
       "      <td>12.253295</td>\n",
       "      <td>18.737441</td>\n",
       "      <td>41</td>\n",
       "      <td>64.659071</td>\n",
       "    </tr>\n",
       "    <tr>\n",
       "      <th>10</th>\n",
       "      <td>THDC Institute of Hydropower Engineering and T...</td>\n",
       "      <td>1.225933</td>\n",
       "      <td>0.000000</td>\n",
       "      <td>0.094128</td>\n",
       "      <td>1</td>\n",
       "      <td>1.320061</td>\n",
       "    </tr>\n",
       "    <tr>\n",
       "      <th>11</th>\n",
       "      <td>Tulas Institute, Dehradun</td>\n",
       "      <td>1.237330</td>\n",
       "      <td>0.455669</td>\n",
       "      <td>0.082767</td>\n",
       "      <td>1</td>\n",
       "      <td>1.775766</td>\n",
       "    </tr>\n",
       "    <tr>\n",
       "      <th>12</th>\n",
       "      <td>UPES, Dehradun</td>\n",
       "      <td>1.270344</td>\n",
       "      <td>0.000000</td>\n",
       "      <td>0.000000</td>\n",
       "      <td>0</td>\n",
       "      <td>1.270344</td>\n",
       "    </tr>\n",
       "    <tr>\n",
       "      <th>13</th>\n",
       "      <td>Uttaranchal University</td>\n",
       "      <td>0.899136</td>\n",
       "      <td>0.079348</td>\n",
       "      <td>0.400042</td>\n",
       "      <td>3</td>\n",
       "      <td>1.378526</td>\n",
       "    </tr>\n",
       "    <tr>\n",
       "      <th>14</th>\n",
       "      <td>Women Institute of Technology, Dehradun</td>\n",
       "      <td>2.076753</td>\n",
       "      <td>0.000000</td>\n",
       "      <td>0.000000</td>\n",
       "      <td>0</td>\n",
       "      <td>2.076753</td>\n",
       "    </tr>\n",
       "  </tbody>\n",
       "</table>\n",
       "</div>"
      ],
      "text/plain": [
       "                                      Name of College  Attendance Points  \\\n",
       "0                                                   0           2.461322   \n",
       "1        Dev Bhoomi Uttarakhand University, Dehradun            3.255614   \n",
       "2   Dr. A.P.J. Abdul Kalam Institute of Technology...           6.514541   \n",
       "3      G B Pant Institute of Engineering & Technology           1.140863   \n",
       "4                     G.P.G.C.Berinag (Stemchampions)          46.475789   \n",
       "5                  Institute of Technology, Gopeshwar          18.095269   \n",
       "6                                      JBIT, Dehradun           2.254621   \n",
       "7           LSM PG CAMPUS PITHORAGARH (Stemchampions)          42.875800   \n",
       "8   Nanhi Pari Seemant Institute of Technology, Pi...          22.332512   \n",
       "9               SSJ Campus, Champawat (Stemchampions)          33.668336   \n",
       "10  THDC Institute of Hydropower Engineering and T...           1.225933   \n",
       "11                          Tulas Institute, Dehradun           1.237330   \n",
       "12                                     UPES, Dehradun           1.270344   \n",
       "13                             Uttaranchal University           0.899136   \n",
       "14            Women Institute of Technology, Dehradun           2.076753   \n",
       "\n",
       "    Quiz Points  Assignment Points  Total Assignment  Final Score  \n",
       "0      0.000000           4.800504                 2     7.261826  \n",
       "1      2.234077           1.723395                15     7.213086  \n",
       "2      0.486309           1.263817                11     8.264668  \n",
       "3      0.417608           0.000000                 0     1.558472  \n",
       "4     15.143684          23.039059                20    84.658532  \n",
       "5      8.683234          13.330927                74    40.109431  \n",
       "6      0.642880           0.300084                 1     3.197585  \n",
       "7     15.612496          22.713746                28    81.202042  \n",
       "8      6.553184           7.435312                35    36.321009  \n",
       "9     12.253295          18.737441                41    64.659071  \n",
       "10     0.000000           0.094128                 1     1.320061  \n",
       "11     0.455669           0.082767                 1     1.775766  \n",
       "12     0.000000           0.000000                 0     1.270344  \n",
       "13     0.079348           0.400042                 3     1.378526  \n",
       "14     0.000000           0.000000                 0     2.076753  "
      ]
     },
     "execution_count": 25,
     "metadata": {},
     "output_type": "execute_result"
    }
   ],
   "source": [
    "df_merge_1"
   ]
  },
  {
   "cell_type": "code",
   "execution_count": 26,
   "id": "ffc5cd20-437e-4936-86d2-6c5028c31f36",
   "metadata": {},
   "outputs": [],
   "source": [
    "# Drop rows where 'Name of College' has only one letter\n",
    "df_merge_1 = df_merge_1[df_merge_1['Name of College'].str.len() > 1]"
   ]
  },
  {
   "cell_type": "code",
   "execution_count": 27,
   "id": "e3cc3e62-6629-47f1-bffe-ace03f8d2ebc",
   "metadata": {},
   "outputs": [
    {
     "data": {
      "text/plain": [
       "Index(['Email', 'Name', 'Phone', 'Name_of_College_University',\n",
       "       'Currently_Pursuing_Degree', 'Pre Recorded Videos- Percentage (%)',\n",
       "       'SUK Sessions - Percentage (%)', 'MasterClass - Percentage (%)',\n",
       "       'Workshop Sessions - Percentage (%)', 'Program Percentage (%)',\n",
       "       'Time Spent on Video content (Hours)', 'Time Spent on Quizzes',\n",
       "       'Time_Spent_on_Assignments', 'Program Overall Time Spent Hours',\n",
       "       'Quiz Score Average Score', 'Assignment Completion Average Score',\n",
       "       'Attendance Points', 'Quiz Points', 'Assignment Points', 'Goal_Setting',\n",
       "       'Comments_Goal_Setting', 'SMART_Goal', 'Comments_SMART_Goal',\n",
       "       'CV_Resume', 'Comments_CV_Resume', 'Career_Exploration',\n",
       "       'Comments_Career_Exploration', 'Career_Action_Plan',\n",
       "       'Comments_Career_Action_Plan', 'Internship_Searching',\n",
       "       'Comments_Internship_Searching', 'LinkedIn_Profile',\n",
       "       'Comments_LinkedIn_Profile', 'Total Assignment'],\n",
       "      dtype='object')"
      ]
     },
     "execution_count": 27,
     "metadata": {},
     "output_type": "execute_result"
    }
   ],
   "source": [
    "df_merge.columns"
   ]
  },
  {
   "cell_type": "code",
   "execution_count": 29,
   "id": "3c30f1dd-0f8c-4aeb-ac2b-32e8fccdcc69",
   "metadata": {},
   "outputs": [],
   "source": [
    "# Rename the columns for clarity\n",
    "college_student_count.columns = ['Name of College', 'Number of Students']"
   ]
  },
  {
   "cell_type": "code",
   "execution_count": 30,
   "id": "daf318a5-11ab-465b-997f-06ca2ace51b3",
   "metadata": {},
   "outputs": [],
   "source": [
    "# Drop rows where 'Name of College' has only one letter\n",
    "college_student_count = college_student_count[college_student_count['Name of College'].str.len() > 1]"
   ]
  },
  {
   "cell_type": "code",
   "execution_count": 31,
   "id": "b9907416-47ac-4a04-898b-767e859dacb0",
   "metadata": {},
   "outputs": [],
   "source": [
    "# Merge two DataFrames, `college_student_count` and `df_merge_1`, based on the 'College' column\n",
    "# Use an inner join to include only rows with matching 'College' values in both DataFrames\n",
    "leaderboard =pd.merge(college_student_count,df_merge_1,on='Name of College',how='inner')"
   ]
  },
  {
   "cell_type": "code",
   "execution_count": 33,
   "id": "b6f042e0-b806-4532-abb6-ec276faa853f",
   "metadata": {},
   "outputs": [
    {
     "data": {
      "text/plain": [
       "Index(['Name of College', 'Number of Students', 'Attendance Points',\n",
       "       'Quiz Points', 'Assignment Points', 'Total Assignment', 'Final Score'],\n",
       "      dtype='object')"
      ]
     },
     "execution_count": 33,
     "metadata": {},
     "output_type": "execute_result"
    }
   ],
   "source": [
    "leaderboard.columns"
   ]
  },
  {
   "cell_type": "code",
   "execution_count": 34,
   "id": "933f3469-d8dc-4a37-a82c-cae0d0678fb3",
   "metadata": {},
   "outputs": [],
   "source": [
    "# Reordering columns\n",
    "leaderboard = leaderboard[['Name of College', 'Number of Students', 'Attendance Points',\n",
    "         'Quiz Points', 'Assignment Points', 'Final Score', 'Total Assignment']]"
   ]
  },
  {
   "cell_type": "code",
   "execution_count": 35,
   "id": "ca278cd8-6f08-4217-b91d-f36ad7b79158",
   "metadata": {},
   "outputs": [],
   "source": [
    "# Filling Null values with zero and rounding off upto 2 decimal points\n",
    "leaderboard=leaderboard.fillna(0)\n",
    "leaderboard=leaderboard.round(2)"
   ]
  },
  {
   "cell_type": "markdown",
   "id": "6108a69c-bd42-4994-8b68-1d8b3cf837a3",
   "metadata": {},
   "source": [
    "#### Stake holders Report"
   ]
  },
  {
   "cell_type": "code",
   "execution_count": 36,
   "id": "8ac6bd3b-6542-4aa6-ad9b-bd8e5a3915fc",
   "metadata": {},
   "outputs": [],
   "source": [
    "# Define a list of columns to be dropped from the DataFrame\n",
    "columns_to_drop = ['Assignment Points', 'Final Score']\n",
    "\n",
    "# Drop the specified columns from the DataFrame\n",
    "# The `inplace=True` parameter modifies the DataFrame directly without creating a copy\n",
    "stake_holders = leaderboard.drop(columns=columns_to_drop)"
   ]
  },
  {
   "cell_type": "code",
   "execution_count": 37,
   "id": "30c476c8-cf61-4983-80a1-89cc042d5bea",
   "metadata": {},
   "outputs": [],
   "source": [
    "# Filling Null values with zero and rounding off upto 2 decimal points\n",
    "stake_holders=stake_holders.fillna(0)\n",
    "stake_holders=stake_holders.round(2)"
   ]
  },
  {
   "cell_type": "code",
   "execution_count": 38,
   "id": "7ebfc8ee-153e-4595-9e53-1b1f293f4e2e",
   "metadata": {},
   "outputs": [],
   "source": [
    "# Adjust the values in the 'Quiz Points' column\n",
    "# Divide each value in 'Quiz Points' by 2\n",
    "stake_holders['Quiz Points'] = stake_holders['Quiz Points'] / 2"
   ]
  },
  {
   "cell_type": "code",
   "execution_count": 39,
   "id": "67a7ce0a-d1ce-4909-b203-713fb4c1204f",
   "metadata": {},
   "outputs": [],
   "source": [
    "# Adjust the values in the 'Attendance Points' column\n",
    "# Multiply each value in 'Attendance Points' by 2\n",
    "stake_holders['Attendance Points'] = stake_holders['Attendance Points'] * 2"
   ]
  },
  {
   "cell_type": "code",
   "execution_count": 40,
   "id": "1e239340-6321-4cfc-a144-2069b248a73e",
   "metadata": {},
   "outputs": [],
   "source": [
    "# Rename columns in the DataFrame\n",
    "stake_holders = stake_holders.rename(columns={'Attendance Points': 'Average Attendance %','Quiz Points': 'Average Quiz Score (Out of 10)','Total Assignment': 'Total Assignment submissions'})\n"
   ]
  },
  {
   "cell_type": "markdown",
   "id": "5759267f-d7d8-46ed-8998-3df4444350d7",
   "metadata": {},
   "source": [
    "#### Dumping Data"
   ]
  },
  {
   "cell_type": "code",
   "execution_count": null,
   "id": "6ffb8099-8fe6-4d59-9cf1-d65f2204d289",
   "metadata": {},
   "outputs": [],
   "source": [
    "# Assuming df is your final DataFrame\n",
    "output_directory = r\"\"\n",
    "# Create the directory if it doesn't exist\n",
    "if not os.path.exists(output_directory):\n",
    "    os.makedirs(output_directory)\n",
    "\n",
    "output_path = os.path.join(output_directory, 'Colleges_Leaderboard.csv')\n",
    "leaderboard.to_csv(output_path, index=False)\n"
   ]
  },
  {
   "cell_type": "code",
   "execution_count": null,
   "id": "dc3b2eac-889b-4a5a-8fa3-92660fb72db0",
   "metadata": {},
   "outputs": [],
   "source": [
    "# Assuming df is your final DataFrame\n",
    "output_directory = r\"\"\n",
    "# Create the directory if it doesn't exist\n",
    "if not os.path.exists(output_directory):\n",
    "    os.makedirs(output_directory)\n",
    "\n",
    "output_path = os.path.join(output_directory, 'Summary_Report.csv')\n",
    "stake_holders.to_csv(output_path, index=False)\n"
   ]
  },
  {
   "cell_type": "code",
   "execution_count": 43,
   "id": "f03712d5-4abb-4997-b82a-fd96a688fcaf",
   "metadata": {},
   "outputs": [
    {
     "data": {
      "text/html": [
       "<div>\n",
       "<style scoped>\n",
       "    .dataframe tbody tr th:only-of-type {\n",
       "        vertical-align: middle;\n",
       "    }\n",
       "\n",
       "    .dataframe tbody tr th {\n",
       "        vertical-align: top;\n",
       "    }\n",
       "\n",
       "    .dataframe thead th {\n",
       "        text-align: right;\n",
       "    }\n",
       "</style>\n",
       "<table border=\"1\" class=\"dataframe\">\n",
       "  <thead>\n",
       "    <tr style=\"text-align: right;\">\n",
       "      <th></th>\n",
       "      <th>Name of College</th>\n",
       "      <th>Number of Students</th>\n",
       "      <th>Attendance Points</th>\n",
       "      <th>Quiz Points</th>\n",
       "      <th>Assignment Points</th>\n",
       "      <th>Final Score</th>\n",
       "      <th>Total Assignment</th>\n",
       "    </tr>\n",
       "  </thead>\n",
       "  <tbody>\n",
       "    <tr>\n",
       "      <th>0</th>\n",
       "      <td>Dev Bhoomi Uttarakhand University, Dehradun</td>\n",
       "      <td>47</td>\n",
       "      <td>3.26</td>\n",
       "      <td>2.23</td>\n",
       "      <td>1.72</td>\n",
       "      <td>7.21</td>\n",
       "      <td>15</td>\n",
       "    </tr>\n",
       "    <tr>\n",
       "      <th>1</th>\n",
       "      <td>Dr. A.P.J. Abdul Kalam Institute of Technology...</td>\n",
       "      <td>47</td>\n",
       "      <td>6.51</td>\n",
       "      <td>0.49</td>\n",
       "      <td>1.26</td>\n",
       "      <td>8.26</td>\n",
       "      <td>11</td>\n",
       "    </tr>\n",
       "    <tr>\n",
       "      <th>2</th>\n",
       "      <td>G B Pant Institute of Engineering &amp; Technology</td>\n",
       "      <td>65</td>\n",
       "      <td>1.14</td>\n",
       "      <td>0.42</td>\n",
       "      <td>0.00</td>\n",
       "      <td>1.56</td>\n",
       "      <td>0</td>\n",
       "    </tr>\n",
       "    <tr>\n",
       "      <th>3</th>\n",
       "      <td>G.P.G.C.Berinag (Stemchampions)</td>\n",
       "      <td>5</td>\n",
       "      <td>46.48</td>\n",
       "      <td>15.14</td>\n",
       "      <td>23.04</td>\n",
       "      <td>84.66</td>\n",
       "      <td>20</td>\n",
       "    </tr>\n",
       "    <tr>\n",
       "      <th>4</th>\n",
       "      <td>Institute of Technology, Gopeshwar</td>\n",
       "      <td>32</td>\n",
       "      <td>18.10</td>\n",
       "      <td>8.68</td>\n",
       "      <td>13.33</td>\n",
       "      <td>40.11</td>\n",
       "      <td>74</td>\n",
       "    </tr>\n",
       "  </tbody>\n",
       "</table>\n",
       "</div>"
      ],
      "text/plain": [
       "                                     Name of College  Number of Students  \\\n",
       "0       Dev Bhoomi Uttarakhand University, Dehradun                   47   \n",
       "1  Dr. A.P.J. Abdul Kalam Institute of Technology...                  47   \n",
       "2     G B Pant Institute of Engineering & Technology                  65   \n",
       "3                    G.P.G.C.Berinag (Stemchampions)                   5   \n",
       "4                 Institute of Technology, Gopeshwar                  32   \n",
       "\n",
       "   Attendance Points  Quiz Points  Assignment Points  Final Score  \\\n",
       "0               3.26         2.23               1.72         7.21   \n",
       "1               6.51         0.49               1.26         8.26   \n",
       "2               1.14         0.42               0.00         1.56   \n",
       "3              46.48        15.14              23.04        84.66   \n",
       "4              18.10         8.68              13.33        40.11   \n",
       "\n",
       "   Total Assignment  \n",
       "0                15  \n",
       "1                11  \n",
       "2                 0  \n",
       "3                20  \n",
       "4                74  "
      ]
     },
     "execution_count": 43,
     "metadata": {},
     "output_type": "execute_result"
    }
   ],
   "source": [
    "leaderboard.head()"
   ]
  },
  {
   "cell_type": "code",
   "execution_count": null,
   "id": "1108cd2d-9581-4866-aa6a-ab59f8a1e349",
   "metadata": {},
   "outputs": [],
   "source": []
  },
  {
   "cell_type": "code",
   "execution_count": 44,
   "id": "43ed5760-32fb-47c0-b5dd-13816969b608",
   "metadata": {},
   "outputs": [],
   "source": [
    "# Add Incubator_Batch column with all values set to 'Incubator 6.0'\n",
    "leaderboard['Incubator_Batch'] = 'Incubator 6.0'"
   ]
  },
  {
   "cell_type": "code",
   "execution_count": 45,
   "id": "fc945d84-4779-4b2e-8c87-90c4c041511d",
   "metadata": {},
   "outputs": [
    {
     "data": {
      "text/plain": [
       "Index(['Name of College', 'Number of Students', 'Attendance Points',\n",
       "       'Quiz Points', 'Assignment Points', 'Final Score', 'Total Assignment',\n",
       "       'Incubator_Batch'],\n",
       "      dtype='object')"
      ]
     },
     "execution_count": 45,
     "metadata": {},
     "output_type": "execute_result"
    }
   ],
   "source": [
    "leaderboard.columns"
   ]
  },
  {
   "cell_type": "code",
   "execution_count": 46,
   "id": "f390fa9f-4c16-40bc-b3c2-9314de536dc1",
   "metadata": {},
   "outputs": [],
   "source": [
    "# Rename columns\n",
    "leaderboard.rename(columns={\n",
    "    'Name of College': 'College_Name',\n",
    "    'Number of Students': 'Number_of_Students',\n",
    "    'Attendance Points': 'Attendance_Points',\n",
    "    'Quiz Points': 'Quiz_Points',\n",
    "    'Assignment Points': 'Assignment_Points',\n",
    "    'Final Score': 'Final_Score',\n",
    "    'Total Assignment': 'Total_Assignment',\n",
    "    'Incubator_Batch': 'Incubator_Batch'\n",
    "}, inplace=True)\n",
    "\n"
   ]
  },
  {
   "cell_type": "markdown",
   "id": "de3b009e-0e70-4b49-a2b8-b96a4d86800e",
   "metadata": {},
   "source": [
    "# Summary Date MySQL Table"
   ]
  },
  {
   "cell_type": "code",
   "execution_count": null,
   "id": "410658f5-a087-489c-928f-6d484817cf74",
   "metadata": {},
   "outputs": [],
   "source": [
    "# Connecting to MySQL Database\n",
    "conn= msql.connect(host='',user='',password=\"\",database=\"\",auth_plugin='')\n",
    "cursor =conn.cursor()"
   ]
  },
  {
   "cell_type": "code",
   "execution_count": 48,
   "id": "ae6a2771-bbb8-4a28-adfb-f38e77010572",
   "metadata": {},
   "outputs": [],
   "source": [
    "# Your existing code for inserting data into the database table\n",
    "for i, row in leaderboard.iterrows():\n",
    "    row = [None if isinstance(val, float) and math.isnan(val) else val for val in row] # replace \"nan\" values with None\n",
    "    columns = ','.join(leaderboard.columns)\n",
    "    placeholders = ','.join(['%s']*len(row))\n",
    "    # Construct the INSERT query with ON DUPLICATE KEY UPDATE clause\n",
    "    query = f\"INSERT INTO she_for_stem.23_college_wise_leaderboard ({columns}) VALUES ({placeholders}) ON DUPLICATE KEY UPDATE \"\n",
    "    query += \", \".join([f\"{col}=VALUES({col})\" for col in leaderboard.columns if col != 'Email'])\n",
    "    # Execute the query\n",
    "    cursor.execute(query, tuple(row))\n"
   ]
  },
  {
   "cell_type": "code",
   "execution_count": 49,
   "id": "d222df2b-ddbc-4a7a-a47e-3d19fe642e4f",
   "metadata": {},
   "outputs": [],
   "source": [
    "conn.commit()"
   ]
  }
 ],
 "metadata": {
  "kernelspec": {
   "display_name": "Python 3 (ipykernel)",
   "language": "python",
   "name": "python3"
  },
  "language_info": {
   "codemirror_mode": {
    "name": "ipython",
    "version": 3
   },
   "file_extension": ".py",
   "mimetype": "text/x-python",
   "name": "python",
   "nbconvert_exporter": "python",
   "pygments_lexer": "ipython3",
   "version": "3.11.7"
  }
 },
 "nbformat": 4,
 "nbformat_minor": 5
}
