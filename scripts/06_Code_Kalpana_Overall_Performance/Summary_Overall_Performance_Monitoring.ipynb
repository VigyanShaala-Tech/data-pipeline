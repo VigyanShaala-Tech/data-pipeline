{
 "cells": [
  {
   "cell_type": "code",
   "execution_count": 1,
   "id": "e043179c",
   "metadata": {},
   "outputs": [],
   "source": [
    "# Importing reequired modules\n",
    "import pandas as pd\n",
    "import mysql.connector as msql\n",
    "import math\n",
    "import re\n",
    "import requests"
   ]
  },
  {
   "cell_type": "code",
   "execution_count": 2,
   "id": "97c91dab",
   "metadata": {},
   "outputs": [
    {
     "data": {
      "text/plain": [
       "'2.1.4'"
      ]
     },
     "execution_count": 2,
     "metadata": {},
     "output_type": "execute_result"
    }
   ],
   "source": [
    "pd.__version__"
   ]
  },
  {
   "cell_type": "code",
   "execution_count": 3,
   "id": "b46f972f",
   "metadata": {},
   "outputs": [],
   "source": [
    "# Displaying all columns and rows\n",
    "pd.set_option('display.max_columns',None)\n",
    "pd.set_option('display.max_rows',None)"
   ]
  },
  {
   "cell_type": "code",
   "execution_count": null,
   "id": "93eb78fc",
   "metadata": {},
   "outputs": [],
   "source": [
    "# Reading data from incubator attendence monitoring sheet present on output folder\n",
    "df=pd.read_csv(r\"\")"
   ]
  },
  {
   "cell_type": "code",
   "execution_count": 5,
   "id": "ce95b6b0-9863-412b-a470-c43fca3e8703",
   "metadata": {},
   "outputs": [
    {
     "data": {
      "text/plain": [
       "Index(['Email', 'Name', 'Phone', 'Name_of_College_University',\n",
       "       'Currently_Pursuing_Degree', 'WK0_V1', 'WK0_V2', 'WK0_SUK_V', 'WK1_V1',\n",
       "       'WK1_V2', 'WK1_WS1', 'WK1_Master1', 'WK2_SUK_V', 'WK3_V1', 'WK3_V2',\n",
       "       'WK3_WS2', 'WK3_Master2', 'WK4_SUK_V', 'WK4_WS3', 'WK5_V1', 'WK5_V2',\n",
       "       'WK5_V3', 'WK5_WS4', 'WK5_WS5', 'WK5_Master3', 'WK6_WS6', 'WK6_SUK_V',\n",
       "       'WK7_V1', 'WK7_WS7', 'WK9_V1', 'WK9_V2', 'WK9_WS8', 'WK9_Master4',\n",
       "       'WK10_V1', 'WK10_V2', 'WK10_V3', 'WK10_V4', 'WK10_WS9', 'WK10_Master5',\n",
       "       'WK10_WS10', 'WK10_SUK_V', 'Pre_Recorded_Total_Hours',\n",
       "       'SUK_Total_Hours', 'Masterclass_Total_Hours', 'Workshop_Total_Hours',\n",
       "       'Program_Total_Hours', 'Pre_Recorded_Percentage', 'SUK_Percentage',\n",
       "       'Masterclass_Percentage', 'Workshop_Percentage', 'Program_Percentage'],\n",
       "      dtype='object')"
      ]
     },
     "execution_count": 5,
     "metadata": {},
     "output_type": "execute_result"
    }
   ],
   "source": [
    "df.columns"
   ]
  },
  {
   "cell_type": "code",
   "execution_count": null,
   "id": "b09cbf9c",
   "metadata": {},
   "outputs": [],
   "source": [
    "# Reading Quiz score from Quiz Information sheet present on output folder\n",
    "Quiz=pd.read_csv(r\"\"])\n"
   ]
  },
  {
   "cell_type": "code",
   "execution_count": 8,
   "id": "b9cc04ee",
   "metadata": {},
   "outputs": [],
   "source": [
    "# Reading Assignment Score from Assignment sheet present on output folder\n",
    "Assignment=pd.read_csv(r\"C:\\Users\\spjay\\OneDrive - VigyanShaala\\02 Products  Initiatives\\01 SheForSTEM\\05 Kalpana M&E\\00 DBMS 1.0\\Kalpana\\Kalpana\\04 Incubator - Curriculum Cohort\\Incubator 6.0 UK\\output\\Assignment_Review.csv\",usecols=[\"Email\",\"Assignment_Score\"])"
   ]
  },
  {
   "cell_type": "code",
   "execution_count": 9,
   "id": "cd02b74c",
   "metadata": {},
   "outputs": [
    {
     "data": {
      "text/plain": [
       "'Email'"
      ]
     },
     "execution_count": 9,
     "metadata": {},
     "output_type": "execute_result"
    }
   ],
   "source": [
    "# Cheaking the first column of datafame 'df'\n",
    "df.columns[0]"
   ]
  },
  {
   "cell_type": "code",
   "execution_count": 10,
   "id": "e47dde7a-fe3b-4d0c-912d-480b199ee445",
   "metadata": {},
   "outputs": [
    {
     "data": {
      "text/plain": [
       "Index(['Email', 'Name', 'Phone', 'Name_of_College_University',\n",
       "       'Currently_Pursuing_Degree', 'WK0_V1', 'WK0_V2', 'WK0_SUK_V', 'WK1_V1',\n",
       "       'WK1_V2', 'WK1_WS1', 'WK1_Master1', 'WK2_SUK_V', 'WK3_V1', 'WK3_V2',\n",
       "       'WK3_WS2', 'WK3_Master2', 'WK4_SUK_V', 'WK4_WS3', 'WK5_V1', 'WK5_V2',\n",
       "       'WK5_V3', 'WK5_WS4', 'WK5_WS5', 'WK5_Master3', 'WK6_WS6', 'WK6_SUK_V',\n",
       "       'WK7_V1', 'WK7_WS7', 'WK9_V1', 'WK9_V2', 'WK9_WS8', 'WK9_Master4',\n",
       "       'WK10_V1', 'WK10_V2', 'WK10_V3', 'WK10_V4', 'WK10_WS9', 'WK10_Master5',\n",
       "       'WK10_WS10', 'WK10_SUK_V', 'Pre_Recorded_Total_Hours',\n",
       "       'SUK_Total_Hours', 'Masterclass_Total_Hours', 'Workshop_Total_Hours',\n",
       "       'Program_Total_Hours', 'Pre_Recorded_Percentage', 'SUK_Percentage',\n",
       "       'Masterclass_Percentage', 'Workshop_Percentage', 'Program_Percentage'],\n",
       "      dtype='object')"
      ]
     },
     "execution_count": 10,
     "metadata": {},
     "output_type": "execute_result"
    }
   ],
   "source": [
    "df.columns"
   ]
  },
  {
   "cell_type": "code",
   "execution_count": 11,
   "id": "a8dc37b4",
   "metadata": {},
   "outputs": [],
   "source": [
    "# Taking Email and % of all Recorded, SUK Live,SUK sessions, Master\n",
    "df1 = df[['Email', 'Pre_Recorded_Percentage', 'SUK_Percentage', 'Masterclass_Percentage','Workshop_Percentage', 'Program_Total_Hours', 'Program_Percentage']].copy()"
   ]
  },
  {
   "cell_type": "code",
   "execution_count": 12,
   "id": "e57643ea",
   "metadata": {},
   "outputs": [],
   "source": [
    "# Adding Quiz score\n",
    "df1=pd.merge(df1,Quiz, how ='left', on='Email')"
   ]
  },
  {
   "cell_type": "code",
   "execution_count": 13,
   "id": "a8590880",
   "metadata": {},
   "outputs": [],
   "source": [
    "# Adding Assignment Score\n",
    "df1=pd.merge(df1,Assignment, how ='left', on='Email')"
   ]
  },
  {
   "cell_type": "code",
   "execution_count": 14,
   "id": "0a25c120",
   "metadata": {},
   "outputs": [],
   "source": [
    "# Adding Time spend quizzes columns\n",
    "df1[\"Time_Spent_On_Quizzes\"]=2*0.167*df1[\"Overall_Average\"]/100"
   ]
  },
  {
   "cell_type": "code",
   "execution_count": 15,
   "id": "0847a594",
   "metadata": {},
   "outputs": [],
   "source": [
    "# Filling null values with '0.0'\n",
    "df1=df1.fillna('0.0')"
   ]
  },
  {
   "cell_type": "code",
   "execution_count": 16,
   "id": "372582e1",
   "metadata": {},
   "outputs": [],
   "source": [
    "# Making 'Assignment_Score' column data type as 'float'\n",
    "df1['Assignment_Score'] = df1['Assignment_Score'].astype(float)"
   ]
  },
  {
   "cell_type": "code",
   "execution_count": 17,
   "id": "de6e45ed",
   "metadata": {},
   "outputs": [],
   "source": [
    "# Adding Time spent on assignments\n",
    "df1[\"Time_Spent_On_Assignments\"]=10*2.67*df1[\"Assignment_Score\"]/100"
   ]
  },
  {
   "cell_type": "code",
   "execution_count": null,
   "id": "1f82c07a-e9ea-4de1-bec6-0aeb8069f404",
   "metadata": {},
   "outputs": [],
   "source": []
  },
  {
   "cell_type": "code",
   "execution_count": 22,
   "id": "4cae151d-4b65-4b01-8c47-1817d7fe2ee8",
   "metadata": {},
   "outputs": [],
   "source": [
    "df1['Time_Spent_On_Quizzes'] = df1['Time_Spent_On_Quizzes'].astype(float)\n",
    "df1['Program_Total_Hours'] = df1['Program_Total_Hours'].astype(float)"
   ]
  },
  {
   "cell_type": "code",
   "execution_count": 23,
   "id": "8767683c",
   "metadata": {},
   "outputs": [],
   "source": [
    "# Creating 'Program_Overall_Time_Spent_Hours' by adding all necessary columns\n",
    "df1[\"Program_Overall_Time_Spent_Hours\"]=df1[[\"Program_Total_Hours\",\"Time_Spent_On_Quizzes\",\"Time_Spent_On_Assignments\"]].sum(axis=1)\n"
   ]
  },
  {
   "cell_type": "markdown",
   "id": "ebf6d24f-3570-4221-82cb-ef689b6027aa",
   "metadata": {},
   "source": [
    "# 👆 change when you add quiz"
   ]
  },
  {
   "cell_type": "code",
   "execution_count": 24,
   "id": "e368fc22",
   "metadata": {},
   "outputs": [],
   "source": [
    "# Filling Null values with zero and rounding off upto 2 decimal points\n",
    "df1=df1.fillna(0)\n",
    "df1=df1.round(2)"
   ]
  },
  {
   "cell_type": "code",
   "execution_count": 25,
   "id": "d374c8f3",
   "metadata": {},
   "outputs": [
    {
     "data": {
      "text/plain": [
       "Index(['Email', 'Pre_Recorded_Percentage', 'SUK_Percentage',\n",
       "       'Masterclass_Percentage', 'Workshop_Percentage', 'Program_Total_Hours',\n",
       "       'Program_Percentage', 'Overall_Average', 'Assignment_Score',\n",
       "       'Time_Spent_On_Quizzes', 'Time_Spent_On_Assignments',\n",
       "       'Program_Overall_Time_Spent_Hours'],\n",
       "      dtype='object')"
      ]
     },
     "execution_count": 25,
     "metadata": {},
     "output_type": "execute_result"
    }
   ],
   "source": [
    "df1.columns"
   ]
  },
  {
   "cell_type": "markdown",
   "id": "e83c3fa7-0d80-4230-9733-b90077600342",
   "metadata": {},
   "source": [
    "# Define a dictionary that maps column names to their desired new names\n",
    "new_names = {\n",
    "    'Pre_Recorded_Percentage': 'Pre_Recorded_Videos_Percentage_WatchTime_Per_Week',\n",
    "    'SUK_Percentage': 'SUK_Sessions_Percentage_WatchTime_Per_Week',\n",
    "    'Masterclass_Percentage': 'MasterClass_Percentage_WatchTime_Per_Week',\n",
    "    'Workshop_Percentage':'Workshop_Percentage_WatchTime_Per_Week',\n",
    "    'Program_Percentage': 'Program_Percentage_WatchTime_Per_Week',\n",
    "    'Program_Total_Hours': 'Program_Total_WatchTime_Per_Week',\n",
    "    'Time_Spent_on_Assignments': 'Time_Spent_On_Assignments',\n",
    "    'Program_Overall_Time_Spent_Hours': 'Program_Overall_Time_Spent_Hours'\n",
    "}\n",
    "\n",
    "\n",
    "# Iterate over the columns in Kalpana DataFrame\n",
    "for col in df1.columns:\n",
    "    # Check if the column name is in the new_names dictionary\n",
    "    if col in new_names:\n",
    "        # Rename the column using the corresponding new name from the dictionary\n",
    "        df1.rename(columns={col: new_names[col]}, inplace=True)\n"
   ]
  },
  {
   "cell_type": "code",
   "execution_count": 27,
   "id": "30506a12-233b-48cf-a085-c16c63135514",
   "metadata": {},
   "outputs": [],
   "source": [
    "# Function to clean email addresses\n",
    "def clean_email(email):\n",
    "\n",
    "    # Convert to lowercase and remove extra spaces\n",
    "    cleaned_email = email.lower().strip()\n",
    "    # Remove patterns like \".com.1\"\n",
    "    cleaned_email = re.sub(r'\\.com\\.\\d+', '.com', cleaned_email)\n",
    "    return cleaned_email\n",
    "\n",
    "# Apply the function to the 'email' column\n",
    "df1['Email'] = df1['Email'].apply(clean_email)"
   ]
  },
  {
   "cell_type": "markdown",
   "id": "729228be-2027-45ad-9fd0-d03580964ff3",
   "metadata": {},
   "source": [
    "# Adding Genral Info as df2"
   ]
  },
  {
   "cell_type": "code",
   "execution_count": null,
   "id": "7614bb0e-1bb0-4ca3-b895-46c835d01bcd",
   "metadata": {},
   "outputs": [],
   "source": [
    "gi = pd.read_csv(r\"\")"
   ]
  },
  {
   "cell_type": "code",
   "execution_count": 29,
   "id": "1de8fe34-5bf5-4304-81cd-7afffc7188fc",
   "metadata": {},
   "outputs": [],
   "source": [
    "gi = gi[['Email', 'Name', 'Phone', 'Name_of_College_University','Currently_Pursuing_Degree']].copy()"
   ]
  },
  {
   "cell_type": "code",
   "execution_count": 30,
   "id": "5f42d421-eaaf-4f08-a928-2f97f1bc9da8",
   "metadata": {},
   "outputs": [],
   "source": [
    "# Merge with gi\n",
    "df2 = pd.merge(gi, df1, on='Email', how='outer')"
   ]
  },
  {
   "cell_type": "code",
   "execution_count": 31,
   "id": "00910151-4531-4bbd-a245-434aec7bdfff",
   "metadata": {},
   "outputs": [],
   "source": [
    "df2 =df2.drop_duplicates()"
   ]
  },
  {
   "cell_type": "code",
   "execution_count": 32,
   "id": "e6986db7-a90b-494d-8e1c-90a460e348d9",
   "metadata": {},
   "outputs": [
    {
     "data": {
      "text/html": [
       "<div>\n",
       "<style scoped>\n",
       "    .dataframe tbody tr th:only-of-type {\n",
       "        vertical-align: middle;\n",
       "    }\n",
       "\n",
       "    .dataframe tbody tr th {\n",
       "        vertical-align: top;\n",
       "    }\n",
       "\n",
       "    .dataframe thead th {\n",
       "        text-align: right;\n",
       "    }\n",
       "</style>\n",
       "<table border=\"1\" class=\"dataframe\">\n",
       "  <thead>\n",
       "    <tr style=\"text-align: right;\">\n",
       "      <th></th>\n",
       "      <th>Email</th>\n",
       "      <th>Name</th>\n",
       "      <th>Phone</th>\n",
       "      <th>Name_of_College_University</th>\n",
       "      <th>Currently_Pursuing_Degree</th>\n",
       "      <th>Pre_Recorded_Percentage</th>\n",
       "      <th>SUK_Percentage</th>\n",
       "      <th>Masterclass_Percentage</th>\n",
       "      <th>Workshop_Percentage</th>\n",
       "      <th>Program_Total_Hours</th>\n",
       "      <th>Program_Percentage</th>\n",
       "      <th>Overall_Average</th>\n",
       "      <th>Assignment_Score</th>\n",
       "      <th>Time_Spent_On_Quizzes</th>\n",
       "      <th>Time_Spent_On_Assignments</th>\n",
       "      <th>Program_Overall_Time_Spent_Hours</th>\n",
       "    </tr>\n",
       "  </thead>\n",
       "  <tbody>\n",
       "    <tr>\n",
       "      <th>0</th>\n",
       "      <td>nehakr2022@gmail.com</td>\n",
       "      <td>Neha Kumari</td>\n",
       "      <td>8.126394e+09</td>\n",
       "      <td>Dr. A.P.J. Abdul Kalam Institute of Technology...</td>\n",
       "      <td>B.E./B.Tech 3rd year</td>\n",
       "      <td>0.0</td>\n",
       "      <td>50.0</td>\n",
       "      <td>60.0</td>\n",
       "      <td>66.67</td>\n",
       "      <td>11.00</td>\n",
       "      <td>44.17</td>\n",
       "      <td>0.0</td>\n",
       "      <td>0.00</td>\n",
       "      <td>0.00</td>\n",
       "      <td>0.00</td>\n",
       "      <td>11.00</td>\n",
       "    </tr>\n",
       "    <tr>\n",
       "      <th>1</th>\n",
       "      <td>ankitapandey.bgr2005@gmail.com</td>\n",
       "      <td>Ankita Pandey</td>\n",
       "      <td>8.394071e+09</td>\n",
       "      <td>Dr. A.P.J. Abdul Kalam Institute of Technology...</td>\n",
       "      <td>B.E./B.Tech 3rd year</td>\n",
       "      <td>1.0</td>\n",
       "      <td>100.0</td>\n",
       "      <td>100.0</td>\n",
       "      <td>77.78</td>\n",
       "      <td>16.41</td>\n",
       "      <td>69.69</td>\n",
       "      <td>70.0</td>\n",
       "      <td>58.57</td>\n",
       "      <td>0.23</td>\n",
       "      <td>15.64</td>\n",
       "      <td>32.28</td>\n",
       "    </tr>\n",
       "    <tr>\n",
       "      <th>2</th>\n",
       "      <td>ridhimadixit1409@gmail.com</td>\n",
       "      <td>Ridhima Dixit</td>\n",
       "      <td>9.359899e+09</td>\n",
       "      <td>Dr. A.P.J. Abdul Kalam Institute of Technology...</td>\n",
       "      <td>B.E./B.Tech 3rd year</td>\n",
       "      <td>0.0</td>\n",
       "      <td>75.0</td>\n",
       "      <td>40.0</td>\n",
       "      <td>44.44</td>\n",
       "      <td>9.00</td>\n",
       "      <td>39.86</td>\n",
       "      <td>0.0</td>\n",
       "      <td>0.00</td>\n",
       "      <td>0.00</td>\n",
       "      <td>0.00</td>\n",
       "      <td>9.00</td>\n",
       "    </tr>\n",
       "    <tr>\n",
       "      <th>3</th>\n",
       "      <td>guptaminkashi153@gmail.com</td>\n",
       "      <td>Minakshi gupta</td>\n",
       "      <td>9.760190e+09</td>\n",
       "      <td>Dr. A.P.J. Abdul Kalam Institute of Technology...</td>\n",
       "      <td>B.E./B.Tech 3rd year</td>\n",
       "      <td>0.0</td>\n",
       "      <td>25.0</td>\n",
       "      <td>0.0</td>\n",
       "      <td>0.00</td>\n",
       "      <td>1.00</td>\n",
       "      <td>6.25</td>\n",
       "      <td>0.0</td>\n",
       "      <td>0.00</td>\n",
       "      <td>0.00</td>\n",
       "      <td>0.00</td>\n",
       "      <td>1.00</td>\n",
       "    </tr>\n",
       "    <tr>\n",
       "      <th>4</th>\n",
       "      <td>ankitapargai@gmail.com</td>\n",
       "      <td>Ankita Pargai</td>\n",
       "      <td>9.548626e+09</td>\n",
       "      <td>Dr. A.P.J. Abdul Kalam Institute of Technology...</td>\n",
       "      <td>B.E./B.Tech 4th year</td>\n",
       "      <td>0.0</td>\n",
       "      <td>25.0</td>\n",
       "      <td>20.0</td>\n",
       "      <td>33.33</td>\n",
       "      <td>5.00</td>\n",
       "      <td>19.58</td>\n",
       "      <td>0.0</td>\n",
       "      <td>0.00</td>\n",
       "      <td>0.00</td>\n",
       "      <td>0.00</td>\n",
       "      <td>5.00</td>\n",
       "    </tr>\n",
       "  </tbody>\n",
       "</table>\n",
       "</div>"
      ],
      "text/plain": [
       "                            Email            Name         Phone  \\\n",
       "0            nehakr2022@gmail.com     Neha Kumari  8.126394e+09   \n",
       "1  ankitapandey.bgr2005@gmail.com   Ankita Pandey  8.394071e+09   \n",
       "2      ridhimadixit1409@gmail.com   Ridhima Dixit  9.359899e+09   \n",
       "3      guptaminkashi153@gmail.com  Minakshi gupta  9.760190e+09   \n",
       "4          ankitapargai@gmail.com   Ankita Pargai  9.548626e+09   \n",
       "\n",
       "                          Name_of_College_University  \\\n",
       "0  Dr. A.P.J. Abdul Kalam Institute of Technology...   \n",
       "1  Dr. A.P.J. Abdul Kalam Institute of Technology...   \n",
       "2  Dr. A.P.J. Abdul Kalam Institute of Technology...   \n",
       "3  Dr. A.P.J. Abdul Kalam Institute of Technology...   \n",
       "4  Dr. A.P.J. Abdul Kalam Institute of Technology...   \n",
       "\n",
       "  Currently_Pursuing_Degree Pre_Recorded_Percentage  SUK_Percentage  \\\n",
       "0      B.E./B.Tech 3rd year                     0.0            50.0   \n",
       "1      B.E./B.Tech 3rd year                     1.0           100.0   \n",
       "2      B.E./B.Tech 3rd year                     0.0            75.0   \n",
       "3      B.E./B.Tech 3rd year                     0.0            25.0   \n",
       "4      B.E./B.Tech 4th year                     0.0            25.0   \n",
       "\n",
       "   Masterclass_Percentage  Workshop_Percentage  Program_Total_Hours  \\\n",
       "0                    60.0                66.67                11.00   \n",
       "1                   100.0                77.78                16.41   \n",
       "2                    40.0                44.44                 9.00   \n",
       "3                     0.0                 0.00                 1.00   \n",
       "4                    20.0                33.33                 5.00   \n",
       "\n",
       "   Program_Percentage Overall_Average  Assignment_Score  \\\n",
       "0               44.17             0.0              0.00   \n",
       "1               69.69            70.0             58.57   \n",
       "2               39.86             0.0              0.00   \n",
       "3                6.25             0.0              0.00   \n",
       "4               19.58             0.0              0.00   \n",
       "\n",
       "   Time_Spent_On_Quizzes  Time_Spent_On_Assignments  \\\n",
       "0                   0.00                       0.00   \n",
       "1                   0.23                      15.64   \n",
       "2                   0.00                       0.00   \n",
       "3                   0.00                       0.00   \n",
       "4                   0.00                       0.00   \n",
       "\n",
       "   Program_Overall_Time_Spent_Hours  \n",
       "0                             11.00  \n",
       "1                             32.28  \n",
       "2                              9.00  \n",
       "3                              1.00  \n",
       "4                              5.00  "
      ]
     },
     "execution_count": 32,
     "metadata": {},
     "output_type": "execute_result"
    }
   ],
   "source": [
    "df2.head()"
   ]
  },
  {
   "cell_type": "code",
   "execution_count": 33,
   "id": "6b1e6738-c1b1-49e9-8c4b-32fedf6afba5",
   "metadata": {},
   "outputs": [
    {
     "data": {
      "text/plain": [
       "Index(['Email', 'Pre_Recorded_Percentage', 'SUK_Percentage',\n",
       "       'Masterclass_Percentage', 'Workshop_Percentage', 'Program_Total_Hours',\n",
       "       'Program_Percentage', 'Overall_Average', 'Assignment_Score',\n",
       "       'Time_Spent_On_Quizzes', 'Time_Spent_On_Assignments',\n",
       "       'Program_Overall_Time_Spent_Hours'],\n",
       "      dtype='object')"
      ]
     },
     "execution_count": 33,
     "metadata": {},
     "output_type": "execute_result"
    }
   ],
   "source": [
    "df1.columns"
   ]
  },
  {
   "cell_type": "code",
   "execution_count": 34,
   "id": "92b398b6-9b8a-42e5-9d42-9d5ab07c0620",
   "metadata": {},
   "outputs": [],
   "source": [
    "# Define a dictionary that maps column names to their desired new names\n",
    "new_names = {\n",
    "    'Overall_Average': 'Quizzes_Average',\n",
    "    'Assignment_Score': 'Assignments_Average',\n",
    "    'Program_Total_Hours': 'Time_Spent_On_Video_Content_Hours',\n",
    "    'Pre_Recorded_Percentage':'Pre_Recorded_Percentage'\n",
    "}\n",
    "\n",
    "\n",
    "# Iterate over the columns in Kalpana DataFrame\n",
    "for col in df1.columns:\n",
    "    # Check if the column name is in the new_names dictionary\n",
    "    if col in new_names:\n",
    "        # Rename the column using the corresponding new name from the dictionary\n",
    "        df1.rename(columns={col: new_names[col]}, inplace=True)\n"
   ]
  },
  {
   "cell_type": "markdown",
   "id": "34ba9ad8",
   "metadata": {},
   "source": [
    "# Summary Date MySQL Table"
   ]
  },
  {
   "cell_type": "code",
   "execution_count": null,
   "id": "266cbc49",
   "metadata": {},
   "outputs": [],
   "source": [
    "# Connecting to Database select database and password here\n",
    "conn= msql.connect(host='',user='',password=\"\",database=\"\",auth_plugin='')\n"
   ]
  },
  {
   "cell_type": "code",
   "execution_count": 36,
   "id": "3e9ddcf1",
   "metadata": {},
   "outputs": [],
   "source": [
    "cursor =conn.cursor()"
   ]
  },
  {
   "cell_type": "code",
   "execution_count": 37,
   "id": "574a1d78",
   "metadata": {},
   "outputs": [],
   "source": [
    "# Your existing code for inserting data into the database table\n",
    "for i, row in df1.iterrows():\n",
    "    row = [None if isinstance(val, float) and math.isnan(val) else val for val in row] # replace \"nan\" values with None\n",
    "    columns = ','.join(df1.columns)\n",
    "    placeholders = ','.join(['%s']*len(row))\n",
    "    # Construct the INSERT query with ON DUPLICATE KEY UPDATE clause\n",
    "    query = f\"INSERT INTO she_for_stem.07_summary_overall_performance_monitoring ({columns}) VALUES ({placeholders}) ON DUPLICATE KEY UPDATE \"\n",
    "    query += \", \".join([f\"{col}=VALUES({col})\" for col in df1.columns if col != 'Email'])\n",
    "    # Execute the query\n",
    "    cursor.execute(query, tuple(row))\n"
   ]
  },
  {
   "cell_type": "code",
   "execution_count": 38,
   "id": "01836fa4",
   "metadata": {},
   "outputs": [],
   "source": [
    "conn.commit()"
   ]
  },
  {
   "cell_type": "markdown",
   "id": "95001316-1225-4449-9441-6d1505cf8fa5",
   "metadata": {},
   "source": [
    "# Storing Data in Supabase"
   ]
  },
  {
   "cell_type": "code",
   "execution_count": null,
   "id": "4e657883-ed9b-47e3-862f-56fbe3f5fe25",
   "metadata": {},
   "outputs": [],
   "source": [
    "# Supabase URL and API key\n",
    "url = ''\n",
    "api_key = ''\n",
    "\n",
    "\n",
    "# Headers for the request\n",
    "headers = {\n",
    "    'apikey': api_key,\n",
    "    'Authorization': f'Bearer {api_key}',\n",
    "    'Content-Type': 'application/json',\n",
    "    'Prefer': 'resolution=merge-duplicates'  # Enable upsert functionality\n",
    "}\n"
   ]
  },
  {
   "cell_type": "code",
   "execution_count": 40,
   "id": "86ece39a-ce53-4c3e-97ab-35189ca1a8a0",
   "metadata": {},
   "outputs": [
    {
     "name": "stdout",
     "output_type": "stream",
     "text": [
      "Final batch of 639 rows upserted successfully\n"
     ]
    }
   ],
   "source": [
    "table_name = '07_summary_overall_performance_monitoring'\n",
    "\n",
    "# Batch size for upserting\n",
    "batch_size = 1000  # You can adjust this value based on your performance needs\n",
    "\n",
    "# List to store rows before sending them in batches\n",
    "batch_data = []\n",
    "\n",
    "# Iterate through each row in the DataFrame\n",
    "for i, row in df1.iterrows():\n",
    "    # Replace NaN values with None\n",
    "    row = [None if isinstance(val, float) and math.isnan(val) else val for val in row]\n",
    "    # Convert row to a dictionary\n",
    "    row_dict = dict(zip(df1.columns, row))\n",
    "    \n",
    "    # Add the row to the batch\n",
    "    batch_data.append(row_dict)\n",
    "    \n",
    "    # If the batch size is reached, send the data\n",
    "    if len(batch_data) >= batch_size:\n",
    "        # Send a batch of rows\n",
    "        response = requests.post(f'{url}/rest/v1/{table_name}', headers=headers, json=batch_data)\n",
    "        \n",
    "        # Check response\n",
    "        if response.status_code in [200, 201]:\n",
    "            print(f'Batch of {len(batch_data)} rows upserted successfully')\n",
    "        else:\n",
    "            print(f'Failed to upsert batch: {response.status_code}, {response.text}')\n",
    "        \n",
    "        # Clear the batch after sending\n",
    "        batch_data = []\n",
    "\n",
    "# Send any remaining rows in the last batch\n",
    "if batch_data:\n",
    "    response = requests.post(f'{url}/rest/v1/{table_name}', headers=headers, json=batch_data)\n",
    "    \n",
    "    if response.status_code in [200, 201]:\n",
    "        print(f'Final batch of {len(batch_data)} rows upserted successfully')\n",
    "    else:\n",
    "        print(f'Failed to upsert final batch: {response.status_code}, {response.text}')\n"
   ]
  },
  {
   "cell_type": "markdown",
   "id": "53ae4991",
   "metadata": {},
   "source": [
    "# Summary data in CSV"
   ]
  },
  {
   "cell_type": "code",
   "execution_count": 41,
   "id": "a0a25343",
   "metadata": {},
   "outputs": [
    {
     "data": {
      "text/plain": [
       "Index(['Email', 'Name', 'Phone', 'Name_of_College_University',\n",
       "       'Currently_Pursuing_Degree', 'Pre_Recorded_Percentage',\n",
       "       'SUK_Percentage', 'Masterclass_Percentage', 'Workshop_Percentage',\n",
       "       'Program_Total_Hours', 'Program_Percentage', 'Overall_Average',\n",
       "       'Assignment_Score', 'Time_Spent_On_Quizzes',\n",
       "       'Time_Spent_On_Assignments', 'Program_Overall_Time_Spent_Hours'],\n",
       "      dtype='object')"
      ]
     },
     "execution_count": 41,
     "metadata": {},
     "output_type": "execute_result"
    }
   ],
   "source": [
    "# Checking columns name in table\n",
    "df2.columns"
   ]
  },
  {
   "cell_type": "code",
   "execution_count": 42,
   "id": "b31a41b6-a7f6-4a91-828a-1130dc3a1578",
   "metadata": {},
   "outputs": [],
   "source": [
    "# Define a dictionary that maps column names to their desired new names\n",
    "new_names = {\n",
    "    'Pre_Recorded_Percentage': 'Pre Recorded Videos- Percentage (%)',\n",
    "    'SUK_Percentage': 'SUK Sessions - Percentage (%)',\n",
    "    'Masterclass_Percentage': 'MasterClass - Percentage (%)',\n",
    "    'Workshop_Percentage':'Workshop Sessions - Percentage (%)',\n",
    "    'Program_Percentage': 'Program Percentage (%)',\n",
    "    'Program_Total_Hours': 'Time Spent on Video content (Hours)',\n",
    "    'Overall_Average' : 'Quiz Score Average Score',\n",
    "    'Time_Spent_On_Assignments': 'Time Spent on Assignments',\n",
    "    'Time_Spent_On_Quizzes' : 'Time Spent on Quizzes',\n",
    "    'Assignment_Score' : 'Assignment Completion Average Score',\n",
    "    'Program_Overall_Time_Spent_Hours': 'Program Overall Time Spent Hours'\n",
    "}\n",
    "\n",
    "\n",
    "# Iterate over the columns in Kalpana DataFrame\n",
    "for col in df2.columns:\n",
    "    # Check if the column name is in the new_names dictionary\n",
    "    if col in new_names:\n",
    "        # Rename the column using the corresponding new name from the dictionary\n",
    "        df2.rename(columns={col: new_names[col]}, inplace=True)\n"
   ]
  },
  {
   "cell_type": "code",
   "execution_count": 43,
   "id": "b5fdae8b-a9a7-41da-a643-15ecc4ef9ff4",
   "metadata": {},
   "outputs": [],
   "source": [
    "# Correcting the column list definition\n",
    "cols = [\n",
    "  'Email', 'Name', 'Phone', 'Name_of_College_University',\n",
    "       'Currently_Pursuing_Degree', 'Pre Recorded Videos- Percentage (%)',\n",
    "       'SUK Sessions - Percentage (%)', 'MasterClass - Percentage (%)',\n",
    "       'Workshop Sessions - Percentage (%)', 'Program Percentage (%)',\n",
    "       'Time Spent on Video content (Hours)','Time Spent on Quizzes', 'Time_Spent_on_Assignments',\n",
    "       'Program Overall Time Spent Hours',\n",
    "       'Quiz Score Average Score', 'Assignment Completion Average Score'\n",
    "\n",
    "]\n",
    "\n",
    "# Reindexing the dataframe with the correct column order\n",
    "df2 = df2.reindex(columns=cols)\n"
   ]
  },
  {
   "cell_type": "code",
   "execution_count": 44,
   "id": "00a1dd41-33d9-49e8-bb9d-436226ef5821",
   "metadata": {},
   "outputs": [
    {
     "data": {
      "text/plain": [
       "0"
      ]
     },
     "execution_count": 44,
     "metadata": {},
     "output_type": "execute_result"
    }
   ],
   "source": [
    "df2.duplicated().sum()"
   ]
  },
  {
   "cell_type": "code",
   "execution_count": 45,
   "id": "8e714cbf",
   "metadata": {},
   "outputs": [],
   "source": [
    "# Filling Null values with zero and rounding off upto 2 decimal points\n",
    "df2=df2.fillna(0)\n",
    "df2=df2.round(2)"
   ]
  },
  {
   "cell_type": "code",
   "execution_count": null,
   "id": "d34e6d51",
   "metadata": {},
   "outputs": [],
   "source": [
    "# Exporting final sheet to Output folder\n",
    "df2.to_csv(r\"\")"
   ]
  }
 ],
 "metadata": {
  "kernelspec": {
   "display_name": "Python 3 (ipykernel)",
   "language": "python",
   "name": "python3"
  },
  "language_info": {
   "codemirror_mode": {
    "name": "ipython",
    "version": 3
   },
   "file_extension": ".py",
   "mimetype": "text/x-python",
   "name": "python",
   "nbconvert_exporter": "python",
   "pygments_lexer": "ipython3",
   "version": "3.11.7"
  },
  "varInspector": {
   "cols": {
    "lenName": 16,
    "lenType": 16,
    "lenVar": 40
   },
   "kernels_config": {
    "python": {
     "delete_cmd_postfix": "",
     "delete_cmd_prefix": "del ",
     "library": "var_list.py",
     "varRefreshCmd": "print(var_dic_list())"
    },
    "r": {
     "delete_cmd_postfix": ") ",
     "delete_cmd_prefix": "rm(",
     "library": "var_list.r",
     "varRefreshCmd": "cat(var_dic_list()) "
    }
   },
   "types_to_exclude": [
    "module",
    "function",
    "builtin_function_or_method",
    "instance",
    "_Feature"
   ],
   "window_display": false
  }
 },
 "nbformat": 4,
 "nbformat_minor": 5
}
