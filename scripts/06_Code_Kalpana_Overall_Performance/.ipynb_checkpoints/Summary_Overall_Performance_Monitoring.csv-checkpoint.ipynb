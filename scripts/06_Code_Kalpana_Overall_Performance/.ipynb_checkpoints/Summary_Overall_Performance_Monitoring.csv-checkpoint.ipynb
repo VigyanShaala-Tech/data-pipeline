{
 "cells": [
  {
   "cell_type": "code",
   "execution_count": 1,
   "id": "e043179c",
   "metadata": {},
   "outputs": [],
   "source": [
    "import pandas as pd"
   ]
  },
  {
   "cell_type": "code",
   "execution_count": 2,
   "id": "93eb78fc",
   "metadata": {},
   "outputs": [],
   "source": [
    "# Reading data from incubator attendence monitoring sheet present on output folder\n",
    "df=pd.read_csv(\"C:\\\\Users\\\\Vigyanshaala\\\\OneDrive - VigyanShaala\\\\02 Products  Initiatives-LAPTOP-D2TFS89H\\\\01 Kalpana\\\\05 Kalpana M&E\\\\00 DBMS 1.0\\\\Kalpana\\\\Kalpana Output\\\\Incubator_and_attendence_monitoring.csv\")"
   ]
  },
  {
   "cell_type": "code",
   "execution_count": 3,
   "id": "b09cbf9c",
   "metadata": {},
   "outputs": [],
   "source": [
    "# Reading Quiz score from Quiz Information sheet present on output folder\n",
    "Quiz=pd.read_csv(\"C:\\\\Users\\\\Vigyanshaala\\\\OneDrive - VigyanShaala\\\\02 Products  Initiatives-LAPTOP-D2TFS89H\\\\01 Kalpana\\\\05 Kalpana M&E\\\\00 DBMS 1.0\\\\Kalpana\\\\Kalpana Output\\\\Quiz_information.csv\",usecols=[\"Email\",'Overall_Average'])"
   ]
  },
  {
   "cell_type": "code",
   "execution_count": 4,
   "id": "b9cc04ee",
   "metadata": {},
   "outputs": [],
   "source": [
    "# Reading Assignment Score from Assignment sheet present on output folder\n",
    "Assignment=pd.read_csv(\"C:\\\\Users\\\\Vigyanshaala\\\\OneDrive - VigyanShaala\\\\02 Products  Initiatives-LAPTOP-D2TFS89H\\\\01 Kalpana\\\\05 Kalpana M&E\\\\00 DBMS 1.0\\\\Kalpana\\\\Kalpana Output\\\\Assignment_Review.csv\",usecols=[\"Email\",\"Assignment_Score\"])"
   ]
  },
  {
   "cell_type": "code",
   "execution_count": 5,
   "id": "cd02b74c",
   "metadata": {},
   "outputs": [
    {
     "data": {
      "text/plain": [
       "'Email'"
      ]
     },
     "execution_count": 5,
     "metadata": {},
     "output_type": "execute_result"
    }
   ],
   "source": [
    "df.columns[0]"
   ]
  },
  {
   "cell_type": "code",
   "execution_count": 6,
   "id": "a8dc37b4",
   "metadata": {},
   "outputs": [],
   "source": [
    "# Taking Email and % of all Recorded, SUK Live,SUK sessions, Master\n",
    "df1=df.iloc[:,[0,77,80,83,86,89]].copy()"
   ]
  },
  {
   "cell_type": "code",
   "execution_count": 7,
   "id": "e57643ea",
   "metadata": {},
   "outputs": [],
   "source": [
    "# Adding Quiz score\n",
    "df1=pd.merge(df1,Quiz, how ='left', on='Email')"
   ]
  },
  {
   "cell_type": "code",
   "execution_count": 8,
   "id": "a8590880",
   "metadata": {},
   "outputs": [],
   "source": [
    "# Adding Assignment Score\n",
    "df1=pd.merge(df1,Assignment, how ='left', on='Email')"
   ]
  },
  {
   "cell_type": "code",
   "execution_count": 9,
   "id": "0a25c120",
   "metadata": {},
   "outputs": [],
   "source": [
    "# Adding Time spend quizzes columns\n",
    "df1[\"Time Spent on quizzes  Quizzes\"]=6*0.167*df1[\"Overall_Average\"]/100"
   ]
  },
  {
   "cell_type": "code",
   "execution_count": 10,
   "id": "de6e45ed",
   "metadata": {},
   "outputs": [],
   "source": [
    "# Adding Time spent on assignments\n",
    "df1[\"Time Spent on Assignments\"]=9*2.67*df1[\"Assignment_Score\"]/100"
   ]
  },
  {
   "cell_type": "code",
   "execution_count": 11,
   "id": "d29fa9ed",
   "metadata": {},
   "outputs": [],
   "source": [
    "# Changing name of columns\n",
    "df1.columns=[['Email', 'Recorded Videos- Percentage WatchTime per Week (%)',\n",
    "       'SUK Live - Percentage WatchTime per Week (%)',\n",
    "       'SUK Sessions - Percentage WatchTime per Week (%)',\n",
    "       'MasterClass - Percentage WatchTime per Week (%) ',\n",
    "       'Program Percentage WatchTime per Week (%', 'Quiz Score Average Score (%)',\n",
    "       'Assignment Completion Average Score (%)', 'Time Spent on quizzes  Quizzes',\n",
    "       'Time Spent on Assignments']]"
   ]
  },
  {
   "cell_type": "code",
   "execution_count": 12,
   "id": "59b16be9",
   "metadata": {},
   "outputs": [],
   "source": [
    "# Rearranging columns of Final Report\n",
    "cols=[['Email', 'Recorded Videos- Percentage WatchTime per Week (%)',\n",
    "       'SUK Live - Percentage WatchTime per Week (%)',\n",
    "       'SUK Sessions - Percentage WatchTime per Week (%)',\n",
    "       'MasterClass - Percentage WatchTime per Week (%) ',\n",
    "       'Program Percentage WatchTime per Week (%', 'Time Spent on quizzes  Quizzes',\n",
    "       'Time Spent on Assignments' ,'Quiz Score Average Score (%)',\n",
    "       'Assignment Completion Average Score (%)']]\n",
    "df1 = df1.reindex(cols, axis=1)"
   ]
  },
  {
   "cell_type": "code",
   "execution_count": 13,
   "id": "8e714cbf",
   "metadata": {},
   "outputs": [],
   "source": [
    "# Filling Null values with zero\n",
    "df1=df1.fillna(0)"
   ]
  },
  {
   "cell_type": "code",
   "execution_count": 14,
   "id": "d34e6d51",
   "metadata": {},
   "outputs": [],
   "source": [
    "# Exporting final sheet to Output folder\n",
    "df1.to_csv(\"C:\\\\Users\\\\Vigyanshaala\\\\OneDrive - VigyanShaala\\\\02 Products  Initiatives-LAPTOP-D2TFS89H\\\\01 Kalpana\\\\05 Kalpana M&E\\\\00 DBMS 1.0\\\\Kalpana\\\\Kalpana Output\\\\Final_Report.csv\",index=False)"
   ]
  }
 ],
 "metadata": {
  "kernelspec": {
   "display_name": "Python 3 (ipykernel)",
   "language": "python",
   "name": "python3"
  },
  "language_info": {
   "codemirror_mode": {
    "name": "ipython",
    "version": 3
   },
   "file_extension": ".py",
   "mimetype": "text/x-python",
   "name": "python",
   "nbconvert_exporter": "python",
   "pygments_lexer": "ipython3",
   "version": "3.9.12"
  }
 },
 "nbformat": 4,
 "nbformat_minor": 5
}
