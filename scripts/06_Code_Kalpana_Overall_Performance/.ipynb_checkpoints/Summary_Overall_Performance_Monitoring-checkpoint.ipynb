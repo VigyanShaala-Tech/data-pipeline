{
 "cells": [
  {
   "cell_type": "code",
   "execution_count": 37,
   "id": "e043179c",
   "metadata": {},
   "outputs": [],
   "source": [
    "# Importing reequired modules\n",
    "import pandas as pd\n",
    "import mysql.connector as msql\n",
    "import math\n"
   ]
  },
  {
   "cell_type": "code",
   "execution_count": 38,
   "id": "97c91dab",
   "metadata": {},
   "outputs": [
    {
     "data": {
      "text/plain": [
       "'2.0.3'"
      ]
     },
     "execution_count": 38,
     "metadata": {},
     "output_type": "execute_result"
    }
   ],
   "source": [
    "pd.__version__"
   ]
  },
  {
   "cell_type": "code",
   "execution_count": 39,
   "id": "b46f972f",
   "metadata": {},
   "outputs": [],
   "source": [
    "# Displaying all columns and rows\n",
    "pd.set_option('display.max_columns',None)\n",
    "pd.set_option('display.max_rows',None)"
   ]
  },
  {
   "cell_type": "code",
   "execution_count": 40,
   "id": "93eb78fc",
   "metadata": {},
   "outputs": [],
   "source": [
    "# Reading data from incubator attendence monitoring sheet present on output folder\n",
    "df=pd.read_csv(r\"C:\\Users\\HP\\OneDrive - VigyanShaala\\02 Products  Initiatives\\01 Kalpana\\05 Kalpana M&E\\00 DBMS 1.0\\Kalpana\\Incubator New Remapping Code\\Kalpana Output\\Incubator_and_attendence_monitoring.csv\")"
   ]
  },
  {
   "cell_type": "code",
   "execution_count": 41,
   "id": "b09cbf9c",
   "metadata": {},
   "outputs": [],
   "source": [
    "# Reading Quiz score from Quiz Information sheet present on output folder\n",
    "Quiz=pd.read_csv(r\"C:\\Users\\HP\\OneDrive - VigyanShaala\\02 Products  Initiatives\\01 Kalpana\\05 Kalpana M&E\\00 DBMS 1.0\\Kalpana\\Incubator New Remapping Code\\Kalpana Output\\Quiz_Information.csv\",usecols=[\"Email\",'Overall_Average'])\n"
   ]
  },
  {
   "cell_type": "code",
   "execution_count": 42,
   "id": "b9cc04ee",
   "metadata": {},
   "outputs": [],
   "source": [
    "# Reading Assignment Score from Assignment sheet present on output folder\n",
    "Assignment=pd.read_csv(r\"C:\\Users\\HP\\OneDrive - VigyanShaala\\02 Products  Initiatives\\01 Kalpana\\05 Kalpana M&E\\00 DBMS 1.0\\Kalpana\\Incubator New Remapping Code\\Kalpana Output\\Assignment_Review.csv\",usecols=[\"Email\",\"Assignment_Score\"])"
   ]
  },
  {
   "cell_type": "code",
   "execution_count": 43,
   "id": "cd02b74c",
   "metadata": {},
   "outputs": [
    {
     "data": {
      "text/plain": [
       "'Email'"
      ]
     },
     "execution_count": 43,
     "metadata": {},
     "output_type": "execute_result"
    }
   ],
   "source": [
    "# Cheaking the first column of datafame 'df'\n",
    "df.columns[0]"
   ]
  },
  {
   "cell_type": "code",
   "execution_count": 44,
   "id": "a8dc37b4",
   "metadata": {},
   "outputs": [],
   "source": [
    "# Taking Email and % of all Recorded, SUK Live,SUK sessions, Master\n",
    "df1 = df[['Email', 'Recorded_Percentage', 'SUK_Recorded_Percentage', 'Masterclass_Percentage', 'Program_Total', 'Program_percentage']].copy()"
   ]
  },
  {
   "cell_type": "code",
   "execution_count": 45,
   "id": "e57643ea",
   "metadata": {},
   "outputs": [],
   "source": [
    "# Adding Quiz score\n",
    "df1=pd.merge(df1,Quiz, how ='left', on='Email')"
   ]
  },
  {
   "cell_type": "code",
   "execution_count": 46,
   "id": "a8590880",
   "metadata": {},
   "outputs": [],
   "source": [
    "# Adding Assignment Score\n",
    "df1=pd.merge(df1,Assignment, how ='left', on='Email')"
   ]
  },
  {
   "cell_type": "code",
   "execution_count": 47,
   "id": "0a25c120",
   "metadata": {},
   "outputs": [],
   "source": [
    "# Adding Time spend quizzes columns\n",
    "df1[\"Time_Spent_On_Quizzes\"]=6*0.167*df1[\"Overall_Average\"]/100"
   ]
  },
  {
   "cell_type": "code",
   "execution_count": 48,
   "id": "0847a594",
   "metadata": {},
   "outputs": [],
   "source": [
    "# Filling null values with '0.0'\n",
    "df1=df1.fillna('0.0')"
   ]
  },
  {
   "cell_type": "code",
   "execution_count": 49,
   "id": "372582e1",
   "metadata": {},
   "outputs": [],
   "source": [
    "# Making 'Assignment_Score' column data type as 'float'\n",
    "df1['Assignment_Score'] = df1['Assignment_Score'].astype(float)"
   ]
  },
  {
   "cell_type": "code",
   "execution_count": 50,
   "id": "de6e45ed",
   "metadata": {},
   "outputs": [],
   "source": [
    "# Adding Time spent on assignments\n",
    "df1[\"Time Spent on Assignments\"]=9*2.67*df1[\"Assignment_Score\"]/100"
   ]
  },
  {
   "cell_type": "code",
   "execution_count": 51,
   "id": "8767683c",
   "metadata": {},
   "outputs": [],
   "source": [
    "# Creating 'Program_Overall_Time_Spent_Hours' by adding all necessary columns\n",
    "df1[\"Program_Overall_Time_Spent_Hours\"]=df1[[\"Program_Total\",\"Time_Spent_On_Quizzes\",\"Time Spent on Assignments\"]].sum(axis=1)"
   ]
  },
  {
   "cell_type": "code",
   "execution_count": 52,
   "id": "e368fc22",
   "metadata": {},
   "outputs": [],
   "source": [
    "# Filling Null values with zero and rounding off upto 2 decimal points\n",
    "df1=df1.fillna(0)\n",
    "df1=df1.round(2)"
   ]
  },
  {
   "cell_type": "code",
   "execution_count": 53,
   "id": "d374c8f3",
   "metadata": {},
   "outputs": [
    {
     "data": {
      "text/plain": [
       "Index(['Email', 'Recorded_Percentage', 'SUK_Recorded_Percentage',\n",
       "       'Masterclass_Percentage', 'Program_Total', 'Program_percentage',\n",
       "       'Overall_Average', 'Assignment_Score', 'Time_Spent_On_Quizzes',\n",
       "       'Time Spent on Assignments', 'Program_Overall_Time_Spent_Hours'],\n",
       "      dtype='object')"
      ]
     },
     "execution_count": 53,
     "metadata": {},
     "output_type": "execute_result"
    }
   ],
   "source": [
    "df1.columns"
   ]
  },
  {
   "cell_type": "code",
   "execution_count": 54,
   "id": "9744d458",
   "metadata": {},
   "outputs": [],
   "source": [
    "# Define a dictionary that maps column names to their desired new names\n",
    "new_names = {\n",
    "    'Recorded_Percentage': 'Recorded_Videos_Percentage_WatchTime_Per_Week',\n",
    "    'SUK_Recorded_Percentage': 'SUK_Sessions_Percentage_WatchTime_Per_Week',\n",
    "    'Masterclass_Percentage': 'MasterClass_Total_WatchTime_Per_Week',\n",
    "    'Program_Total': 'Program_Percentage_WatchTime_Per_Week',\n",
    "    'Program_percentage': 'Program_Total_WatchTime_Per_Week',\n",
    "    'Time Spent on Assignments': 'Time_Spent_On_Assignments',\n",
    "    'Program_Overall_Time_Spent_Hours': 'Program_Overall_Time_Spent_Hours'\n",
    "}\n",
    "\n",
    "\n",
    "# Iterate over the columns in Kalpana DataFrame\n",
    "for col in df1.columns:\n",
    "    # Check if the column name is in the new_names dictionary\n",
    "    if col in new_names:\n",
    "        # Rename the column using the corresponding new name from the dictionary\n",
    "        df1.rename(columns={col: new_names[col]}, inplace=True)\n"
   ]
  },
  {
   "cell_type": "code",
   "execution_count": null,
   "id": "6f3046dd",
   "metadata": {},
   "outputs": [],
   "source": []
  },
  {
   "cell_type": "markdown",
   "id": "34ba9ad8",
   "metadata": {},
   "source": [
    "# Summary Date MySQL Table"
   ]
  },
  {
   "cell_type": "code",
   "execution_count": 55,
   "id": "266cbc49",
   "metadata": {},
   "outputs": [],
   "source": [
    "# Connecting to Database select database and password here\n",
    "conn= msql.connect(host='localhost',user='root',password=\"VS@123\",database=\"kalpana\",auth_plugin='mysql_native_password')\n"
   ]
  },
  {
   "cell_type": "code",
   "execution_count": 56,
   "id": "3e9ddcf1",
   "metadata": {},
   "outputs": [],
   "source": [
    "cursor =conn.cursor()"
   ]
  },
  {
   "cell_type": "code",
   "execution_count": 57,
   "id": "d460cefe",
   "metadata": {},
   "outputs": [],
   "source": [
    "\n",
    "# Get the existing columns in the database\n",
    "cursor.execute(\"SHOW COLUMNS FROM kalpana.07_summary_overall_performance_monitoring\")\n",
    "existing_columns = [col[0] for col in cursor.fetchall()]\n",
    "\n",
    "# Define the column name before which the new column should be added\n",
    "target_column = 'Assignment_Completion_Average_Score'\n",
    "\n",
    "# Check if any new columns exist in the dataframe but not in the database\n",
    "new_columns = [col for col in df1.columns if col not in existing_columns]\n",
    "if new_columns:\n",
    "    # Add new columns to the database before the target column\n",
    "    for col in reversed(new_columns):\n",
    "        if col not in existing_columns:\n",
    "            # Get the index of the target column\n",
    "            target_column_index = existing_columns.index(target_column)\n",
    "            # Set the data type based on whether the column name starts with Comment\n",
    "            data_type = \"INT\" \n",
    "            alter_query = f\"ALTER TABLE kalpana.07_summary_overall_performance_monitoring ADD COLUMN {col} {data_type} AFTER {existing_columns[target_column_index - 1]}\"\n",
    "            cursor.execute(alter_query)\n",
    "            existing_columns.insert(target_column_index - 1, col)\n"
   ]
  },
  {
   "cell_type": "code",
   "execution_count": 58,
   "id": "574a1d78",
   "metadata": {},
   "outputs": [],
   "source": [
    "# Your existing code for inserting data into the database table\n",
    "for i, row in df1.iterrows():\n",
    "    row = [None if isinstance(val, float) and math.isnan(val) else val for val in row] # replace \"nan\" values with None\n",
    "    columns = ','.join(df1.columns)\n",
    "    placeholders = ','.join(['%s']*len(row))\n",
    "    # Construct the INSERT query with ON DUPLICATE KEY UPDATE clause\n",
    "    query = f\"INSERT INTO kalpana.07_summary_overall_performance_monitoring ({columns}) VALUES ({placeholders}) ON DUPLICATE KEY UPDATE \"\n",
    "    query += \", \".join([f\"{col}=VALUES({col})\" for col in df1.columns if col != 'Email'])\n",
    "    # Execute the query\n",
    "    cursor.execute(query, tuple(row))\n"
   ]
  },
  {
   "cell_type": "code",
   "execution_count": 59,
   "id": "01836fa4",
   "metadata": {},
   "outputs": [],
   "source": [
    "conn.commit()"
   ]
  },
  {
   "cell_type": "code",
   "execution_count": 60,
   "id": "168f55dc",
   "metadata": {},
   "outputs": [],
   "source": [
    "conn.close()"
   ]
  },
  {
   "cell_type": "markdown",
   "id": "53ae4991",
   "metadata": {},
   "source": [
    "# Summary data in CSV"
   ]
  },
  {
   "cell_type": "code",
   "execution_count": 61,
   "id": "a0a25343",
   "metadata": {},
   "outputs": [
    {
     "data": {
      "text/plain": [
       "Index(['Email', 'Recorded_Videos_Percentage_WatchTime_Per_Week',\n",
       "       'SUK_Sessions_Percentage_WatchTime_Per_Week',\n",
       "       'MasterClass_Total_WatchTime_Per_Week',\n",
       "       'Program_Percentage_WatchTime_Per_Week',\n",
       "       'Program_Total_WatchTime_Per_Week', 'Overall_Average',\n",
       "       'Assignment_Score', 'Time_Spent_On_Quizzes',\n",
       "       'Time_Spent_On_Assignments', 'Program_Overall_Time_Spent_Hours'],\n",
       "      dtype='object')"
      ]
     },
     "execution_count": 61,
     "metadata": {},
     "output_type": "execute_result"
    }
   ],
   "source": [
    "# Checking columns name in table\n",
    "df1.columns"
   ]
  },
  {
   "cell_type": "code",
   "execution_count": 62,
   "id": "3acce4bd",
   "metadata": {},
   "outputs": [],
   "source": [
    "# Changing name of columns\n",
    "df1.columns=[['Email', 'Recorded Videos- Percentage WatchTime per Week (%)',\n",
    "       'SUK Sessions - Percentage WatchTime per Week (%)',\n",
    "       'MasterClass - Percentage WatchTime per Week (%) ','Time Spent on Video content  (Hours)',\n",
    "       'Program Percentage WatchTime per Week (%', 'Quiz Score Average Score (%)',\n",
    "       'Assignment Completion Average Score (%)', 'Time Spent on quizzes  Quizzes',\n",
    "       'Time Spent on Assignments',\"Program_Overall_Time_Spent_Hours\"]]"
   ]
  },
  {
   "cell_type": "code",
   "execution_count": 63,
   "id": "66c5a354",
   "metadata": {},
   "outputs": [],
   "source": [
    "# Rearranging columns of Final Report\n",
    "cols=[['Email', 'Recorded Videos- Percentage WatchTime per Week (%)',\n",
    "       'SUK Live - Percentage WatchTime per Week (%)',\n",
    "       'SUK Sessions - Percentage WatchTime per Week (%)',\n",
    "       'MasterClass - Percentage WatchTime per Week (%) ',\n",
    "       'Program Percentage WatchTime per Week (%)','Time Spent on Video content  (Hours)' ,'Time Spent on quizzes  Quizzes',\n",
    "       'Time Spent on Assignments' ,\"Program_Overall_Time_Spent_Hours\",'Quiz Score Average Score (%)',\n",
    "       'Assignment Completion Average Score (%)']]\n",
    "df1 = df1.reindex(cols, axis=1)"
   ]
  },
  {
   "cell_type": "code",
   "execution_count": 64,
   "id": "8e714cbf",
   "metadata": {},
   "outputs": [],
   "source": [
    "# Filling Null values with zero and rounding off upto 2 decimal points\n",
    "df1=df1.fillna(0)\n",
    "df1=df1.round(2)"
   ]
  },
  {
   "cell_type": "code",
   "execution_count": 65,
   "id": "9e162acb",
   "metadata": {},
   "outputs": [
    {
     "data": {
      "text/html": [
       "<div>\n",
       "<style scoped>\n",
       "    .dataframe tbody tr th:only-of-type {\n",
       "        vertical-align: middle;\n",
       "    }\n",
       "\n",
       "    .dataframe tbody tr th {\n",
       "        vertical-align: top;\n",
       "    }\n",
       "\n",
       "    .dataframe thead tr th {\n",
       "        text-align: left;\n",
       "    }\n",
       "</style>\n",
       "<table border=\"1\" class=\"dataframe\">\n",
       "  <thead>\n",
       "    <tr>\n",
       "      <th></th>\n",
       "      <th>Email</th>\n",
       "      <th>Recorded Videos- Percentage WatchTime per Week (%)</th>\n",
       "      <th>SUK Live - Percentage WatchTime per Week (%)</th>\n",
       "      <th>SUK Sessions - Percentage WatchTime per Week (%)</th>\n",
       "      <th>MasterClass - Percentage WatchTime per Week (%)</th>\n",
       "      <th>Program Percentage WatchTime per Week (%)</th>\n",
       "      <th>Time Spent on Video content  (Hours)</th>\n",
       "      <th>Time Spent on quizzes  Quizzes</th>\n",
       "      <th>Time Spent on Assignments</th>\n",
       "      <th>Program_Overall_Time_Spent_Hours</th>\n",
       "      <th>Quiz Score Average Score (%)</th>\n",
       "      <th>Assignment Completion Average Score (%)</th>\n",
       "    </tr>\n",
       "  </thead>\n",
       "  <tbody>\n",
       "    <tr>\n",
       "      <th>0</th>\n",
       "      <td>vijayacads@gmail.com</td>\n",
       "      <td>1.72</td>\n",
       "      <td>0.0</td>\n",
       "      <td>0.00</td>\n",
       "      <td>0.17</td>\n",
       "      <td>0.0</td>\n",
       "      <td>0.11</td>\n",
       "      <td>0.0</td>\n",
       "      <td>1.92</td>\n",
       "      <td>2.03</td>\n",
       "      <td>0.0</td>\n",
       "      <td>8.0</td>\n",
       "    </tr>\n",
       "    <tr>\n",
       "      <th>1</th>\n",
       "      <td>monu1288@gmail.com</td>\n",
       "      <td>1.61</td>\n",
       "      <td>0.0</td>\n",
       "      <td>0.19</td>\n",
       "      <td>0.39</td>\n",
       "      <td>0.0</td>\n",
       "      <td>0.08</td>\n",
       "      <td>0.0</td>\n",
       "      <td>1.92</td>\n",
       "      <td>2.00</td>\n",
       "      <td>0.0</td>\n",
       "      <td>8.0</td>\n",
       "    </tr>\n",
       "    <tr>\n",
       "      <th>2</th>\n",
       "      <td>sreejith.sreenivasan@vigyanshaala.com</td>\n",
       "      <td>1.09</td>\n",
       "      <td>0.0</td>\n",
       "      <td>0.00</td>\n",
       "      <td>14.18</td>\n",
       "      <td>0.0</td>\n",
       "      <td>0.50</td>\n",
       "      <td>0.0</td>\n",
       "      <td>0.00</td>\n",
       "      <td>0.50</td>\n",
       "      <td>0.0</td>\n",
       "      <td>0.0</td>\n",
       "    </tr>\n",
       "    <tr>\n",
       "      <th>3</th>\n",
       "      <td>himanigahtori181@gmail.com</td>\n",
       "      <td>0.00</td>\n",
       "      <td>0.0</td>\n",
       "      <td>0.00</td>\n",
       "      <td>0.00</td>\n",
       "      <td>0.0</td>\n",
       "      <td>0.00</td>\n",
       "      <td>0.0</td>\n",
       "      <td>0.00</td>\n",
       "      <td>0.00</td>\n",
       "      <td>0.0</td>\n",
       "      <td>0.0</td>\n",
       "    </tr>\n",
       "    <tr>\n",
       "      <th>4</th>\n",
       "      <td>sanket3212@gmail.com</td>\n",
       "      <td>0.00</td>\n",
       "      <td>0.0</td>\n",
       "      <td>0.00</td>\n",
       "      <td>0.00</td>\n",
       "      <td>0.0</td>\n",
       "      <td>0.00</td>\n",
       "      <td>0.0</td>\n",
       "      <td>0.00</td>\n",
       "      <td>0.00</td>\n",
       "      <td>0.0</td>\n",
       "      <td>0.0</td>\n",
       "    </tr>\n",
       "  </tbody>\n",
       "</table>\n",
       "</div>"
      ],
      "text/plain": [
       "                                   Email  \\\n",
       "0                   vijayacads@gmail.com   \n",
       "1                     monu1288@gmail.com   \n",
       "2  sreejith.sreenivasan@vigyanshaala.com   \n",
       "3             himanigahtori181@gmail.com   \n",
       "4                   sanket3212@gmail.com   \n",
       "\n",
       "  Recorded Videos- Percentage WatchTime per Week (%)  \\\n",
       "0                                               1.72   \n",
       "1                                               1.61   \n",
       "2                                               1.09   \n",
       "3                                               0.00   \n",
       "4                                               0.00   \n",
       "\n",
       "  SUK Live - Percentage WatchTime per Week (%)  \\\n",
       "0                                          0.0   \n",
       "1                                          0.0   \n",
       "2                                          0.0   \n",
       "3                                          0.0   \n",
       "4                                          0.0   \n",
       "\n",
       "  SUK Sessions - Percentage WatchTime per Week (%)  \\\n",
       "0                                             0.00   \n",
       "1                                             0.19   \n",
       "2                                             0.00   \n",
       "3                                             0.00   \n",
       "4                                             0.00   \n",
       "\n",
       "  MasterClass - Percentage WatchTime per Week (%)   \\\n",
       "0                                             0.17   \n",
       "1                                             0.39   \n",
       "2                                            14.18   \n",
       "3                                             0.00   \n",
       "4                                             0.00   \n",
       "\n",
       "  Program Percentage WatchTime per Week (%)  \\\n",
       "0                                       0.0   \n",
       "1                                       0.0   \n",
       "2                                       0.0   \n",
       "3                                       0.0   \n",
       "4                                       0.0   \n",
       "\n",
       "  Time Spent on Video content  (Hours) Time Spent on quizzes  Quizzes  \\\n",
       "0                                 0.11                            0.0   \n",
       "1                                 0.08                            0.0   \n",
       "2                                 0.50                            0.0   \n",
       "3                                 0.00                            0.0   \n",
       "4                                 0.00                            0.0   \n",
       "\n",
       "  Time Spent on Assignments Program_Overall_Time_Spent_Hours  \\\n",
       "0                      1.92                             2.03   \n",
       "1                      1.92                             2.00   \n",
       "2                      0.00                             0.50   \n",
       "3                      0.00                             0.00   \n",
       "4                      0.00                             0.00   \n",
       "\n",
       "  Quiz Score Average Score (%) Assignment Completion Average Score (%)  \n",
       "0                          0.0                                     8.0  \n",
       "1                          0.0                                     8.0  \n",
       "2                          0.0                                     0.0  \n",
       "3                          0.0                                     0.0  \n",
       "4                          0.0                                     0.0  "
      ]
     },
     "execution_count": 65,
     "metadata": {},
     "output_type": "execute_result"
    }
   ],
   "source": [
    "df1.head()"
   ]
  },
  {
   "cell_type": "code",
   "execution_count": 66,
   "id": "10cbe01f",
   "metadata": {},
   "outputs": [],
   "source": [
    "#df1.to_csv('summary_overall_performance_monitoring_Final.csv', mode='a',index=False)"
   ]
  },
  {
   "cell_type": "code",
   "execution_count": 67,
   "id": "d34e6d51",
   "metadata": {},
   "outputs": [],
   "source": [
    "# Exporting final sheet to Output folder\n",
    "df1.to_csv(r\"C:\\Users\\HP\\OneDrive - VigyanShaala\\02 Products  Initiatives\\01 Kalpana\\05 Kalpana M&E\\00 DBMS 1.0\\Kalpana\\Incubator New Remapping Code\\Kalpana Output\\summary_overall_performance_monitoring.csv\",mode='w',index=False)"
   ]
  }
 ],
 "metadata": {
  "kernelspec": {
   "display_name": "Python 3 (ipykernel)",
   "language": "python",
   "name": "python3"
  },
  "language_info": {
   "codemirror_mode": {
    "name": "ipython",
    "version": 3
   },
   "file_extension": ".py",
   "mimetype": "text/x-python",
   "name": "python",
   "nbconvert_exporter": "python",
   "pygments_lexer": "ipython3",
   "version": "3.11.3"
  },
  "varInspector": {
   "cols": {
    "lenName": 16,
    "lenType": 16,
    "lenVar": 40
   },
   "kernels_config": {
    "python": {
     "delete_cmd_postfix": "",
     "delete_cmd_prefix": "del ",
     "library": "var_list.py",
     "varRefreshCmd": "print(var_dic_list())"
    },
    "r": {
     "delete_cmd_postfix": ") ",
     "delete_cmd_prefix": "rm(",
     "library": "var_list.r",
     "varRefreshCmd": "cat(var_dic_list()) "
    }
   },
   "types_to_exclude": [
    "module",
    "function",
    "builtin_function_or_method",
    "instance",
    "_Feature"
   ],
   "window_display": false
  }
 },
 "nbformat": 4,
 "nbformat_minor": 5
}
