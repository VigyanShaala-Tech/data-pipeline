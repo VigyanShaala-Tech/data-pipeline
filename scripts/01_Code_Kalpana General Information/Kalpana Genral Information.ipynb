{
 "cells": [
  {
   "cell_type": "code",
   "execution_count": 1,
   "id": "6a7adbd2",
   "metadata": {},
   "outputs": [],
   "source": [
    "# importing required modules\n",
    "import pandas as pd \n",
    "import mysql.connector as msql\n",
    "import math\n",
    "import os"
   ]
  },
  {
   "cell_type": "code",
   "execution_count": 5,
   "id": "5d408636",
   "metadata": {},
   "outputs": [
    {
     "name": "stdout",
     "output_type": "stream",
     "text": [
      "Data from General Information Source.xlsx:\n"
     ]
    }
   ],
   "source": [
    "# Importing Excel file form directory \n",
    "directory_path =(r\"C:\\Users\\HP\\OneDrive - VigyanShaala\\02 Products  Initiatives\\01 Kalpana\\05 Kalpana M&E\\00 DBMS 1.0\\Kalpana\\Kalpana Incubator Sept- Dec 2023 Batch\\Kalpana Source File\\01_Source_Kalpana General Information\")\n",
    "\n",
    "excel_files = [file for file in os.listdir(directory_path) if file.endswith('.xlsx')]\n",
    "\n",
    "for file in excel_files:\n",
    "    file_path = os.path.join(directory_path, file)\n",
    "    df = pd.read_excel(file_path)\n",
    "    print(f\"Data from {file}:\")"
   ]
  },
  {
   "cell_type": "code",
   "execution_count": 6,
   "id": "487e5851",
   "metadata": {},
   "outputs": [
    {
     "data": {
      "text/html": [
       "<div>\n",
       "<style scoped>\n",
       "    .dataframe tbody tr th:only-of-type {\n",
       "        vertical-align: middle;\n",
       "    }\n",
       "\n",
       "    .dataframe tbody tr th {\n",
       "        vertical-align: top;\n",
       "    }\n",
       "\n",
       "    .dataframe thead th {\n",
       "        text-align: right;\n",
       "    }\n",
       "</style>\n",
       "<table border=\"1\" class=\"dataframe\">\n",
       "  <thead>\n",
       "    <tr style=\"text-align: right;\">\n",
       "      <th></th>\n",
       "      <th>Email</th>\n",
       "      <th>Name</th>\n",
       "      <th>Phone</th>\n",
       "      <th>Gender</th>\n",
       "      <th>Currently pursuing degree</th>\n",
       "      <th>Subject Area</th>\n",
       "      <th>Name of College/University</th>\n",
       "      <th>Country</th>\n",
       "      <th>State/Union Territory</th>\n",
       "      <th>District</th>\n",
       "      <th>City Category</th>\n",
       "      <th>Caste/Category</th>\n",
       "      <th>Annual Income</th>\n",
       "      <th>Assigned Through</th>\n",
       "    </tr>\n",
       "  </thead>\n",
       "  <tbody>\n",
       "    <tr>\n",
       "      <th>0</th>\n",
       "      <td>aparnajayajith97@gmail.com</td>\n",
       "      <td>Aparna S Rajan</td>\n",
       "      <td>9656845889</td>\n",
       "      <td>Female</td>\n",
       "      <td>M.Sc. 1st year</td>\n",
       "      <td>MSc environmental science</td>\n",
       "      <td>All saints college Trivandrum</td>\n",
       "      <td>India</td>\n",
       "      <td>Kerala (KL)</td>\n",
       "      <td>Thiruvananthapuram</td>\n",
       "      <td>Towns and Rural Villages (Not Cities, typicall...</td>\n",
       "      <td>OBC</td>\n",
       "      <td>Below or Equal to 3 lacs per year (INR)</td>\n",
       "      <td>Kerala Chapter</td>\n",
       "    </tr>\n",
       "    <tr>\n",
       "      <th>1</th>\n",
       "      <td>muskaanashiq1@gmail.com</td>\n",
       "      <td>Muskaan binte Ashiq</td>\n",
       "      <td>6006095772</td>\n",
       "      <td>Female</td>\n",
       "      <td>B.Sc. 1st year</td>\n",
       "      <td>Basic Science - Life Science, Bio Chemistry</td>\n",
       "      <td>Islamia college of science and commerce</td>\n",
       "      <td>India</td>\n",
       "      <td>Jammu and Kashmir (JK)</td>\n",
       "      <td>Srinagar</td>\n",
       "      <td>\"Tier 2 and Tier 3 Cities (Guntur, Patna, Chan...</td>\n",
       "      <td>General</td>\n",
       "      <td>Above 3 lacs per year (INR)</td>\n",
       "      <td>Regular</td>\n",
       "    </tr>\n",
       "    <tr>\n",
       "      <th>2</th>\n",
       "      <td>kavikavita930@gmail.com</td>\n",
       "      <td>kavita gabiyar</td>\n",
       "      <td>9019552650</td>\n",
       "      <td>Female</td>\n",
       "      <td>B.Sc. 3rd year</td>\n",
       "      <td>physics, computer science, mathametics</td>\n",
       "      <td>Govt first grade clg dharwad</td>\n",
       "      <td>India</td>\n",
       "      <td>Karnataka (KA)</td>\n",
       "      <td>Dharwad</td>\n",
       "      <td>Tier 1 City (Mumbai, Delhi, and similar cities)</td>\n",
       "      <td>OBC</td>\n",
       "      <td>Below or Equal to 3 lacs per year (INR)</td>\n",
       "      <td>Regular</td>\n",
       "    </tr>\n",
       "    <tr>\n",
       "      <th>3</th>\n",
       "      <td>mallikarp20@iiserbpr.ac.in</td>\n",
       "      <td>MALLIKA PRUSTY</td>\n",
       "      <td>+91 8480744788</td>\n",
       "      <td>Female</td>\n",
       "      <td>B.Sc. 3rd year</td>\n",
       "      <td>Basic Science - Life Science, Bio Chemistry</td>\n",
       "      <td>INDIAN INSTITUTE OF SCIENCE EDUCATION AND RESE...</td>\n",
       "      <td>India</td>\n",
       "      <td>Odisha(OR)</td>\n",
       "      <td>Khordha</td>\n",
       "      <td>\"Tier 2 and Tier 3 Cities (Guntur, Patna, Chan...</td>\n",
       "      <td>OBC</td>\n",
       "      <td>Above 3 lacs per year (INR)</td>\n",
       "      <td>Regular</td>\n",
       "    </tr>\n",
       "    <tr>\n",
       "      <th>4</th>\n",
       "      <td>crystalwinget33@gmail.com</td>\n",
       "      <td>Garima Sangrai</td>\n",
       "      <td>8988398826</td>\n",
       "      <td>Female</td>\n",
       "      <td>B.Sc. 2nd year</td>\n",
       "      <td>Mathematics</td>\n",
       "      <td>Kamala Nehru College</td>\n",
       "      <td>India</td>\n",
       "      <td>New Delhi (DEL)</td>\n",
       "      <td>South Delhi</td>\n",
       "      <td>Tier 1 City (Mumbai, Delhi, and similar cities)</td>\n",
       "      <td>General</td>\n",
       "      <td>Above 3 lacs per year (INR)</td>\n",
       "      <td>Regular</td>\n",
       "    </tr>\n",
       "  </tbody>\n",
       "</table>\n",
       "</div>"
      ],
      "text/plain": [
       "                       Email                 Name           Phone  Gender   \\\n",
       "0  aparnajayajith97@gmail.com      Aparna S Rajan       9656845889  Female   \n",
       "1     muskaanashiq1@gmail.com  Muskaan binte Ashiq      6006095772  Female   \n",
       "2     kavikavita930@gmail.com       kavita gabiyar      9019552650  Female   \n",
       "3  mallikarp20@iiserbpr.ac.in       MALLIKA PRUSTY  +91 8480744788  Female   \n",
       "4   crystalwinget33@gmail.com      Garima Sangrai       8988398826  Female   \n",
       "\n",
       "  Currently pursuing degree                                  Subject Area  \\\n",
       "0             M.Sc. 1st year                   MSc environmental science    \n",
       "1             B.Sc. 1st year  Basic Science - Life Science, Bio Chemistry   \n",
       "2             B.Sc. 3rd year       physics, computer science, mathametics   \n",
       "3             B.Sc. 3rd year  Basic Science - Life Science, Bio Chemistry   \n",
       "4             B.Sc. 2nd year                                 Mathematics    \n",
       "\n",
       "                         Name of College/University  Country  \\\n",
       "0                     All saints college Trivandrum    India   \n",
       "1            Islamia college of science and commerce   India   \n",
       "2                       Govt first grade clg dharwad   India   \n",
       "3  INDIAN INSTITUTE OF SCIENCE EDUCATION AND RESE...   India   \n",
       "4                              Kamala Nehru College    India   \n",
       "\n",
       "    State/Union Territory            District  \\\n",
       "0             Kerala (KL)  Thiruvananthapuram   \n",
       "1  Jammu and Kashmir (JK)            Srinagar   \n",
       "2          Karnataka (KA)             Dharwad   \n",
       "3              Odisha(OR)             Khordha   \n",
       "4         New Delhi (DEL)         South Delhi   \n",
       "\n",
       "                                       City Category Caste/Category  \\\n",
       "0  Towns and Rural Villages (Not Cities, typicall...            OBC   \n",
       "1  \"Tier 2 and Tier 3 Cities (Guntur, Patna, Chan...        General   \n",
       "2    Tier 1 City (Mumbai, Delhi, and similar cities)            OBC   \n",
       "3  \"Tier 2 and Tier 3 Cities (Guntur, Patna, Chan...            OBC   \n",
       "4    Tier 1 City (Mumbai, Delhi, and similar cities)        General   \n",
       "\n",
       "                            Annual Income  Assigned Through  \n",
       "0  Below or Equal to 3 lacs per year (INR)   Kerala Chapter  \n",
       "1              Above 3 lacs per year (INR)          Regular  \n",
       "2  Below or Equal to 3 lacs per year (INR)          Regular  \n",
       "3              Above 3 lacs per year (INR)          Regular  \n",
       "4              Above 3 lacs per year (INR)          Regular  "
      ]
     },
     "execution_count": 6,
     "metadata": {},
     "output_type": "execute_result"
    }
   ],
   "source": [
    "# Few rows of data\n",
    "df.head()"
   ]
  },
  {
   "cell_type": "code",
   "execution_count": 7,
   "id": "2fd34c94",
   "metadata": {},
   "outputs": [
    {
     "data": {
      "text/plain": [
       "Index(['Email ', 'Name ', 'Phone ', 'Gender ', 'Currently pursuing degree ',\n",
       "       'Subject Area', 'Name of College/University ', 'Country',\n",
       "       'State/Union Territory', 'District', 'City Category', 'Caste/Category',\n",
       "       'Annual Income ', 'Assigned Through'],\n",
       "      dtype='object')"
      ]
     },
     "execution_count": 7,
     "metadata": {},
     "output_type": "execute_result"
    }
   ],
   "source": [
    "# Column Names of data\n",
    "df.columns"
   ]
  },
  {
   "cell_type": "code",
   "execution_count": 8,
   "id": "f57cf4e5",
   "metadata": {},
   "outputs": [],
   "source": [
    "# Renaming Column name in data\n",
    "df.columns =['Email', 'Name', 'Phone', 'Gender', 'Currently_pursuing_degree',\n",
    "       'Subject_Area', 'Name_of_College_University', 'Country',\n",
    "       'State_Union_Territory', 'District', 'City_category', 'Caste_Category',\n",
    "       'Annual_Family_Income', 'Assigned_Through']"
   ]
  },
  {
   "cell_type": "code",
   "execution_count": null,
   "id": "1025de09",
   "metadata": {},
   "outputs": [],
   "source": [
    "#df.to_csv('General_Info.csv', mode='a',index=False)"
   ]
  },
  {
   "cell_type": "code",
   "execution_count": 9,
   "id": "7634f787",
   "metadata": {},
   "outputs": [],
   "source": [
    "df.to_csv(r\"C:\\Users\\HP\\OneDrive - VigyanShaala\\02 Products  Initiatives\\01 Kalpana\\05 Kalpana M&E\\00 DBMS 1.0\\Kalpana\\Kalpana Incubator Sept- Dec 2023 Batch\\Kalpana Output\\General_Info.csv\",mode='w',index=False)"
   ]
  },
  {
   "cell_type": "code",
   "execution_count": 10,
   "id": "0f372f36",
   "metadata": {},
   "outputs": [],
   "source": [
    "# Connecting to MySQL Database\n",
    "conn= msql.connect(host='localhost',user='root',password=\"VS@123\",database=\"Kalpana_Incubator_Sept_Dec_2023_Batch\",auth_plugin='mysql_native_password')\n"
   ]
  },
  {
   "cell_type": "code",
   "execution_count": 11,
   "id": "87717a9b",
   "metadata": {},
   "outputs": [],
   "source": [
    "cursor =conn.cursor()"
   ]
  },
  {
   "cell_type": "code",
   "execution_count": 12,
   "id": "0f995bfb",
   "metadata": {},
   "outputs": [],
   "source": [
    "for i, row in df.iterrows():\n",
    "    row = [None if isinstance(val, float) and math.isnan(val) else val for val in row] # replace \"nan\" values with None\n",
    "    columns = ','.join(df.columns)\n",
    "    placeholders = ','.join(['%s']*len(row))\n",
    "    # Construct the INSERT query with ON DUPLICATE KEY UPDATE clause\n",
    "    query = f\"INSERT INTO Kalpana_Incubator_Sept_Dec_2023_Batch.01_general_information ({columns}) VALUES ({placeholders}) ON DUPLICATE KEY UPDATE \"\n",
    "    query += \", \".join([f\"{col}=VALUES({col})\" for col in df.columns if col != 'Email'])\n",
    "    # Execute the query\n",
    "    cursor.execute(query, tuple(row))"
   ]
  },
  {
   "cell_type": "code",
   "execution_count": 13,
   "id": "6f788d10",
   "metadata": {},
   "outputs": [],
   "source": [
    "# Inserting records from data file, if already present ignoring it.\n",
    "for i,row in df.iterrows():\n",
    "    row = [None if isinstance(val, float) and math.isnan(val) else val for val in row] # replace \"nan\" values with None\n",
    "    cursor.execute(\"INSERT IGNORE INTO Kalpana_Incubator_Sept_Dec_2023_Batch.01_general_information(Email, Name, Phone, Gender, Currently_pursuing_degree, Subject_Area, Name_of_College_University, Country, State_Union_Territory, District, City_category, Caste_Category, Annual_Family_Income, Assigned_Through) VALUES (%s,%s,%s,%s,%s,%s,%s,%s,%s,%s,%s,%s,%s,%s)\", tuple(row))\n"
   ]
  },
  {
   "cell_type": "code",
   "execution_count": 14,
   "id": "8d198299",
   "metadata": {},
   "outputs": [],
   "source": [
    "conn.commit()"
   ]
  },
  {
   "cell_type": "code",
   "execution_count": null,
   "id": "cecc9475",
   "metadata": {},
   "outputs": [],
   "source": []
  },
  {
   "cell_type": "code",
   "execution_count": null,
   "id": "a7ec7784",
   "metadata": {},
   "outputs": [],
   "source": []
  }
 ],
 "metadata": {
  "kernelspec": {
   "display_name": "Python 3 (ipykernel)",
   "language": "python",
   "name": "python3"
  },
  "language_info": {
   "codemirror_mode": {
    "name": "ipython",
    "version": 3
   },
   "file_extension": ".py",
   "mimetype": "text/x-python",
   "name": "python",
   "nbconvert_exporter": "python",
   "pygments_lexer": "ipython3",
   "version": "3.11.3"
  }
 },
 "nbformat": 4,
 "nbformat_minor": 5
}
