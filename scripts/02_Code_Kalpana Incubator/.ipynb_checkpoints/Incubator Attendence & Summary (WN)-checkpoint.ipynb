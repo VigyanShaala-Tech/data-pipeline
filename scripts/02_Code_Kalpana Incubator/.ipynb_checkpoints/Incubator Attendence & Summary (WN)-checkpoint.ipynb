{
 "cells": [
  {
   "cell_type": "code",
   "execution_count": 734,
   "id": "3163ae5b",
   "metadata": {},
   "outputs": [],
   "source": [
    "# Importing Required modules\n",
    "import pandas as pd\n",
    "import mysql.connector as msql\n",
    "import math\n",
    "import os\n",
    "import datetime"
   ]
  },
  {
   "cell_type": "code",
   "execution_count": 735,
   "id": "73d69552",
   "metadata": {},
   "outputs": [],
   "source": [
    "# Displaying all columns and rows\n",
    "pd.set_option('display.max_columns',None)\n",
    "pd.set_option('display.max_rows',None)"
   ]
  },
  {
   "cell_type": "code",
   "execution_count": 736,
   "id": "66c6648a",
   "metadata": {},
   "outputs": [],
   "source": [
    "#Reading She for STEM Incubator file present on source files\n",
    "directory_path =(r\"C:\\Users\\HP\\OneDrive - VigyanShaala\\02 Products  Initiatives\\01 Kalpana\\05 Kalpana M&E\\00 DBMS 1.0\\Kalpana\\Remapping\\Kalpana Source File\\02_Source_Kalpana incubator WN\")\n",
    "csv_files = [file for file in os.listdir(directory_path) if file.endswith('.csv')]\n",
    "\n",
    "for file in csv_files:\n",
    "    file_path = os.path.join(directory_path, file)\n",
    "    data = pd.read_csv(file_path)\n",
    "    print(f\"Data from {file}:\")"
   ]
  },
  {
   "cell_type": "code",
   "execution_count": 737,
   "id": "ba153b93",
   "metadata": {},
   "outputs": [],
   "source": [
    "data.head()"
   ]
  },
  {
   "cell_type": "code",
   "execution_count": 738,
   "id": "bb7912e5",
   "metadata": {},
   "outputs": [],
   "source": [
    "# Define a list of column names to extract for putting into database \n",
    "columns_to_extract = ['Name', 'Email', 'Segment', 'Mobile', 'Enroll Date', 'Assigned Through', 'Course Name']\n",
    "\n",
    "# Use the loc method to extract the specified columns\n",
    "df = data.loc[:, columns_to_extract]\n"
   ]
  },
  {
   "cell_type": "code",
   "execution_count": 739,
   "id": "947e066c",
   "metadata": {},
   "outputs": [],
   "source": [
    "# Create a new dataframe with 'email' column and columns that start with 'Week' 'Video', 'Recording', and 'Master class'\n",
    "data = data[['Email'] + [col for col in data.columns if col.startswith(('Week','Video', 'SUK', 'Master Class'))]]\n"
   ]
  },
  {
   "cell_type": "code",
   "execution_count": 740,
   "id": "4bb40371",
   "metadata": {},
   "outputs": [],
   "source": [
    "oldcol = list(data.columns)\n"
   ]
  },
  {
   "cell_type": "code",
   "execution_count": 741,
   "id": "9dfb38c6",
   "metadata": {},
   "outputs": [],
   "source": [
    "#oldcol =data.columns"
   ]
  },
  {
   "cell_type": "code",
   "execution_count": 742,
   "id": "14caa5fb",
   "metadata": {},
   "outputs": [],
   "source": [
    "oldcol"
   ]
  },
  {
   "cell_type": "code",
   "execution_count": 743,
   "id": "1c0d1325",
   "metadata": {},
   "outputs": [],
   "source": [
    "# Cheaking shape of our dataset\n",
    "data.shape"
   ]
  },
  {
   "cell_type": "code",
   "execution_count": 744,
   "id": "6ed3e955",
   "metadata": {},
   "outputs": [],
   "source": [
    "# Initialize variables to keep track of the current week, video count, recording count, and master class count\n",
    "week_col = None\n",
    "video_count = 0\n",
    "recording_count = 0\n",
    "master_count = 0\n",
    "\n",
    "# Create an empty list to store the new column names\n",
    "new_cols = []\n",
    "\n",
    "# Iterate over each column in the data\n",
    "for col in data.columns:\n",
    "    # If the column starts with 'Week'\n",
    "    if col.startswith('Week'):\n",
    "        # Split the column name by space and get the second element (the week number)\n",
    "        week_col = col.split()[1]\n",
    "        # Reset the video, recording, and master class counts for the new week\n",
    "        video_count = 0\n",
    "        recording_count = 0\n",
    "    # If the column starts with 'Video'\n",
    "    elif col.startswith('Video'):\n",
    "        # Increment the video count for the current week\n",
    "        video_count += 1\n",
    "        # Append a new column name to the list using f-string formatting\n",
    "        new_cols.append(f'WK{week_col}_V{video_count}')\n",
    "    # If the column starts with 'Recording'\n",
    "    elif col.startswith('SUK'):\n",
    "        # Increment the recording count for the current week\n",
    "        recording_count += 1\n",
    "        # Append a new column name to the list using f-string formatting\n",
    "        new_cols.append(f'WK{week_col}_SUK_V')\n",
    "    # If the column starts with 'Master Class'\n",
    "    elif col.startswith('Master Class'):\n",
    "        # Increment the master class count for the current week\n",
    "        master_count += 1\n",
    "        # Append a new column name to the list using f-string formatting\n",
    "        new_cols.append(f'WK{week_col}_Master{master_count}')\n",
    "    # If the column doesn't start with any of the above prefixes\n",
    "    else:\n",
    "        # Append the original column name to the list\n",
    "        new_cols.append(col)\n",
    "\n",
    "# Remove all columns that start with 'Week' from the data\n",
    "data = data.loc[:, ~data.columns.str.startswith('Week')]\n",
    "# Assign the new column names to the data\n",
    "data.columns = new_cols\n"
   ]
  },
  {
   "cell_type": "code",
   "execution_count": 745,
   "id": "e6a0f79b",
   "metadata": {},
   "outputs": [],
   "source": [
    "# Rechecking the shape of dataframe\n",
    "data.shape"
   ]
  },
  {
   "cell_type": "code",
   "execution_count": 746,
   "id": "57433c99",
   "metadata": {},
   "outputs": [],
   "source": [
    "# Cheaking columns name\n",
    "data.columns"
   ]
  },
  {
   "cell_type": "code",
   "execution_count": 747,
   "id": "a347a447",
   "metadata": {},
   "outputs": [],
   "source": [
    "# Check if there are two columns with the name \"WK8_SUK_V\"\n",
    "if sum(data.columns == 'WK8_SUK_V') == 2:\n",
    "    # Find the index of the last occurrence of \"WK8_SUK_V\"\n",
    "    last_index = data.columns.to_list().index('WK8_SUK_V', -2)\n",
    "\n",
    "    # Change the column name to \"WK8_SUK_V_live\"\n",
    "    data.columns.values[last_index] = 'WK8_SUK_1'\n",
    "    # Find the index of the last occurrence of \"WK8_SUK_V\"\n",
    "    last_index = data.columns.to_list().index('WK8_SUK_V', -1)\n",
    "\n",
    "    # Change the column name to \"WK8_SUK_V_live\"\n",
    "    data.columns.values[last_index] = 'WK8_SUK_2'\n"
   ]
  },
  {
   "cell_type": "code",
   "execution_count": 748,
   "id": "8b1b33a4",
   "metadata": {},
   "outputs": [],
   "source": [
    "# This condition happen beacause we dont have week number before it so it doesnt have week number \n",
    "if 'WKNone_SUK_V' in data.columns:\n",
    "    data = data.rename(columns={'WKNone_SUK_V': 'WK0_SUK_V'})\n"
   ]
  },
  {
   "cell_type": "code",
   "execution_count": 749,
   "id": "4387bf93",
   "metadata": {},
   "outputs": [],
   "source": [
    "# Cheaking for duplicate data\n",
    "data.duplicated().sum()"
   ]
  },
  {
   "cell_type": "code",
   "execution_count": 750,
   "id": "d25ae7d1",
   "metadata": {},
   "outputs": [],
   "source": [
    "# Locating columns for extracting only numbers\n",
    "col1 = data.iloc[:,1:]"
   ]
  },
  {
   "cell_type": "code",
   "execution_count": 751,
   "id": "f767acc3",
   "metadata": {},
   "outputs": [],
   "source": [
    "col1.dtypes\n"
   ]
  },
  {
   "cell_type": "code",
   "execution_count": 752,
   "id": "5a785de9",
   "metadata": {},
   "outputs": [],
   "source": [
    "# Code for extracting only numbers from dataset\n",
    "for column in [i for i in col1.columns if col1[i].dtype == 'object']:\n",
    "    data[column] = data[column].astype(str).str.extract('(\\d+)').astype(float)"
   ]
  },
  {
   "cell_type": "code",
   "execution_count": 753,
   "id": "5aff28be",
   "metadata": {},
   "outputs": [],
   "source": [
    "# Filling Null values with zero\n",
    "fillna = data.iloc[:,1:]\n",
    "fillnacol=fillna.columns\n",
    "data[fillnacol]=data[fillnacol].fillna(0)"
   ]
  },
  {
   "cell_type": "code",
   "execution_count": 754,
   "id": "7ac18080",
   "metadata": {},
   "outputs": [],
   "source": [
    "data.head()"
   ]
  },
  {
   "cell_type": "markdown",
   "id": "10feb962",
   "metadata": {},
   "source": [
    "# Enroll Date MySQL Table"
   ]
  },
  {
   "cell_type": "code",
   "execution_count": 755,
   "id": "29288023",
   "metadata": {},
   "outputs": [],
   "source": [
    "# Creating new table which for Enroll_Dates which is taken from incubator graphy sheet\n",
    "Enroll=pd.DataFrame(df[[\"Email\", 'Enroll Date']])"
   ]
  },
  {
   "cell_type": "code",
   "execution_count": 756,
   "id": "eee1cf10",
   "metadata": {},
   "outputs": [],
   "source": [
    "# Extracting only Enroll_Date\n",
    "Enroll[['Enroll Date','Time']]=Enroll['Enroll Date'].str.split(' ',expand=True)\n",
    "Enroll=Enroll.drop([\"Time\"],axis=1)"
   ]
  },
  {
   "cell_type": "code",
   "execution_count": 757,
   "id": "266cbc49",
   "metadata": {},
   "outputs": [],
   "source": [
    "# Connecting to MySQL Database\n",
    "conn= msql.connect(host='localhost',user='root',password=\"VS@123\",database=\"Kalpana_Incubator_Sept_Dec_2023_Batch\",auth_plugin='mysql_native_password')\n",
    "cursor =conn.cursor()"
   ]
  },
  {
   "cell_type": "code",
   "execution_count": 758,
   "id": "69960bd1",
   "metadata": {
    "scrolled": true
   },
   "outputs": [],
   "source": [
    "# Inserting data to 03_enroll_date table\n",
    "for i,row in Enroll.iterrows():\n",
    "    cursor.execute(\"insert IGNORE into 03_enroll_date (Email,Incubator) values(%s,%s)\",tuple(row))"
   ]
  },
  {
   "cell_type": "code",
   "execution_count": 759,
   "id": "2360c802",
   "metadata": {},
   "outputs": [],
   "source": [
    "# Replacing data  with new data to 03_enroll_date table\n",
    "for i,row in Enroll.iterrows():\n",
    "    cursor.execute(\"REPLACE into 03_enroll_date (Email,incubator) values(%s,%s)\",tuple(row))"
   ]
  },
  {
   "cell_type": "code",
   "execution_count": 760,
   "id": "80b552e6",
   "metadata": {},
   "outputs": [],
   "source": [
    "conn.commit()"
   ]
  },
  {
   "cell_type": "markdown",
   "id": "5a887fd3",
   "metadata": {},
   "source": [
    "# Payment details MySQL table"
   ]
  },
  {
   "cell_type": "code",
   "execution_count": 761,
   "id": "e33fd7d2",
   "metadata": {},
   "outputs": [],
   "source": [
    "# Creating new table which for Payment which is taken from incubator graphy sheet\n",
    "Payment=pd.DataFrame(df[[\"Email\",\"Assigned Through\"]])"
   ]
  },
  {
   "cell_type": "code",
   "execution_count": 762,
   "id": "e457b8f6",
   "metadata": {},
   "outputs": [],
   "source": [
    "# Extracting only Payment removing Order Id\n",
    "Payment[[\"Assigned Through\",\"Order_ID\"]]=Payment[\"Assigned Through\"].str.split(\"-\",expand=True)\n",
    "Payment.drop([\"Order_ID\"],axis=1,inplace=True)"
   ]
  },
  {
   "cell_type": "code",
   "execution_count": 763,
   "id": "2958182c",
   "metadata": {},
   "outputs": [],
   "source": [
    "# Assigning fee cost to different cathegory of enrollment\n",
    "Payment[\"Assigned Through\"]=Payment[\"Assigned Through\"].replace(['Admin'],'0')\n",
    "Payment[\"Assigned Through\"]=Payment[\"Assigned Through\"].replace(['Excel Upload'],'0')\n",
    "Payment[\"Assigned Through\"]=Payment[\"Assigned Through\"].replace(['Paid Transaction '],'1899')"
   ]
  },
  {
   "cell_type": "code",
   "execution_count": 764,
   "id": "59d3c00f",
   "metadata": {},
   "outputs": [],
   "source": [
    "# Connecting to MySQL Database\n",
    "conn= msql.connect(host='localhost',user='root',password=\"VS@123\",database=\"Kalpana_Incubator_Sept_Dec_2023_Batch\",auth_plugin='mysql_native_password')\n",
    "cursor =conn.cursor()"
   ]
  },
  {
   "cell_type": "code",
   "execution_count": 765,
   "id": "39eb5a3f",
   "metadata": {
    "scrolled": true
   },
   "outputs": [],
   "source": [
    "# Inserting data into 02_payment_details \n",
    "for i,row in Payment.iterrows():\n",
    "    cursor.execute(\"insert Ignore into 02_payment_details (Email,Incubator_Fee) values(%s,%s)\",tuple(row))"
   ]
  },
  {
   "cell_type": "code",
   "execution_count": 766,
   "id": "56a1a152",
   "metadata": {},
   "outputs": [],
   "source": [
    "# Replacing data with new data into 02_payment_details \n",
    "for i,row in Payment.iterrows():\n",
    "    cursor.execute(\"REPLACE into 02_payment_details (Email,Incubator_Fee) values(%s,%s)\",tuple(row))"
   ]
  },
  {
   "cell_type": "code",
   "execution_count": 767,
   "id": "c69c9abf",
   "metadata": {},
   "outputs": [],
   "source": [
    "conn.commit()"
   ]
  },
  {
   "cell_type": "markdown",
   "id": "0c17e19c",
   "metadata": {
    "scrolled": true
   },
   "source": [
    "# Changing seconds to Percentage"
   ]
  },
  {
   "cell_type": "code",
   "execution_count": 768,
   "id": "2ed22662",
   "metadata": {},
   "outputs": [],
   "source": [
    "# Saving previous column name \n",
    "newcol = list(data.columns)\n"
   ]
  },
  {
   "cell_type": "code",
   "execution_count": 769,
   "id": "bbbf5a0c",
   "metadata": {},
   "outputs": [],
   "source": [
    "newcol"
   ]
  },
  {
   "cell_type": "code",
   "execution_count": 770,
   "id": "9fb4991b",
   "metadata": {},
   "outputs": [],
   "source": [
    "print(len(data1col))"
   ]
  },
  {
   "cell_type": "code",
   "execution_count": 771,
   "id": "0553f592",
   "metadata": {},
   "outputs": [],
   "source": [
    "# Saving previous column name for data1 by removing \"Email column\"\n",
    "data_columns = list(data.columns)\n",
    "\n",
    "# Exclude the 'email' column if it exists\n",
    "if 'Email' in data_columns:\n",
    "    data_columns.remove('Email')\n",
    "\n",
    "data1col = data_columns\n",
    "\n",
    "\n"
   ]
  },
  {
   "cell_type": "code",
   "execution_count": 772,
   "id": "6631ea4a",
   "metadata": {},
   "outputs": [],
   "source": [
    "oldcol = [col for col in oldcol if not col.startswith(\"Week\")]\n",
    "num_columns_to_rename = min(len(data.columns), len(oldcol))\n",
    "data.rename(columns=dict(zip(data.columns[:num_columns_to_rename], oldcol[:num_columns_to_rename])), inplace=True)\n",
    "data.columns = data.columns.str.split (':').str [0]\n",
    "data.columns = data.columns.str.strip()\n"
   ]
  },
  {
   "cell_type": "code",
   "execution_count": 773,
   "id": "448e4144",
   "metadata": {},
   "outputs": [],
   "source": [
    "def rename_column(col):\n",
    "    # Split the column name by space\n",
    "    parts = col.split()\n",
    "    special_chars = {'!': '1', '@': '2', '#': '3', '$': '4', '%': '5', '^': '6', '&': '7', '*': '8', '?': '9', '+': '0'}\n",
    "    \n",
    "    # If the first part is 'SUK', add the number corresponding to the last character\n",
    "    if parts[0] == 'SUK':\n",
    "        return parts[0] + special_chars.get(parts[1][-1], '0')\n",
    "    \n",
    "    # If the first part is 'Video', use the prefix 'VID' and the numbers corresponding to the last two characters\n",
    "    elif parts[0] == 'Video':\n",
    "        last_char = parts[1][-1]\n",
    "        second_last_char = parts[1][-2] if len(parts[1]) > 1 else '+'\n",
    "        return 'VID' + special_chars.get(second_last_char, '0') + special_chars.get(last_char, '0')\n",
    "    \n",
    "    # If the first part contains 'Master' and 'Class' is present, use the prefix 'MC' and the numbers corresponding to the last two characters\n",
    "    elif 'Master' in parts and 'Class' in parts:\n",
    "        index = parts.index('Master')\n",
    "        last_char = parts[index + 2][-1]\n",
    "        second_last_char = parts[index + 2][-2] if len(parts[index + 2]) > 1 else '+'\n",
    "        return 'MC' + special_chars.get(second_last_char, '0') + special_chars.get(last_char, '0')\n",
    "    \n",
    "    # Otherwise, return the column name as it is\n",
    "    else:\n",
    "        return col\n"
   ]
  },
  {
   "cell_type": "code",
   "execution_count": 774,
   "id": "cef09c17",
   "metadata": {},
   "outputs": [],
   "source": [
    "# Rename the column names using the rename_column function\n",
    "data.rename(columns=rename_column, inplace=True)"
   ]
  },
  {
   "cell_type": "code",
   "execution_count": 775,
   "id": "8362edd1",
   "metadata": {},
   "outputs": [],
   "source": [
    "data.columns"
   ]
  },
  {
   "cell_type": "code",
   "execution_count": 776,
   "id": "7a978424",
   "metadata": {},
   "outputs": [],
   "source": [
    "# Reading Excel file form our source\n",
    "excel_file  = pd.read_excel(r\"C:\\Users\\HP\\OneDrive - VigyanShaala\\02 Products  Initiatives\\01 Kalpana\\05 Kalpana M&E\\00 DBMS 1.0\\Kalpana\\Remapping\\Kalpana Source File\\00_Source_Kalpana Video Details\\Timestamp_of_Videos.xlsx\")"
   ]
  },
  {
   "cell_type": "code",
   "execution_count": 777,
   "id": "29430c0d",
   "metadata": {},
   "outputs": [],
   "source": [
    "data1=pd.DataFrame()"
   ]
  },
  {
   "cell_type": "code",
   "execution_count": 778,
   "id": "c753d205",
   "metadata": {},
   "outputs": [],
   "source": [
    "# Iterate over each column in the 'data' DataFrame\n",
    "for column_name in data.columns:\n",
    "    # Check if the column exists in the Excel file\n",
    "    if column_name in excel_file['Code'].values:\n",
    "        # Get the corresponding value in the \"Time\" column from the Excel file\n",
    "        value = excel_file.loc[excel_file['Code'] == column_name, 'Time'].values[0]\n",
    "        \n",
    "        # Calculate the percentage value\n",
    "        percentage_value = (data[column_name] * 100) / value\n",
    "        \n",
    "        # Assign the calculated percentage value to a new column in the \"data1\" DataFrame with the same name as the \"Code\" column\n",
    "        data1[column_name] = percentage_value\n",
    "    else:\n",
    "        # Handle the case when the column is present in 'data' but not in the Excel file\n",
    "        print(f\"Column '{column_name}' present in 'data' but not in the Excel file. Skipping.\")\n"
   ]
  },
  {
   "cell_type": "code",
   "execution_count": 779,
   "id": "a8e259cd",
   "metadata": {},
   "outputs": [],
   "source": [
    "# Iterate over each row in the Excel file\n",
    "for index, row in excel_file.iterrows():\n",
    "    # Get the value in the \"Code\" column\n",
    "    column_name = row['Code']\n",
    "    \n",
    "    # Get the value in the \"Time\" column\n",
    "    value = row['Time']\n",
    "    \n",
    "    # Check if the 'Code' column exists in the 'data' DataFrame\n",
    "    if column_name in data.columns:\n",
    "        # Calculate the percentage value\n",
    "        percentage_value = (data[column_name] * 100) / value\n",
    "        \n",
    "        # Assign the calculated percentage value to a new column in the \"data1\" DataFrame with the same name as the \"Code\" column\n",
    "        data1[column_name] = percentage_value"
   ]
  },
  {
   "cell_type": "code",
   "execution_count": 780,
   "id": "68b57c46",
   "metadata": {},
   "outputs": [],
   "source": [
    "data.head(15)"
   ]
  },
  {
   "cell_type": "code",
   "execution_count": 781,
   "id": "c19289c2",
   "metadata": {},
   "outputs": [],
   "source": [
    "# Changing column name back to new column\n",
    "data.columns = newcol \n",
    "data1.columns = data1col"
   ]
  },
  {
   "cell_type": "code",
   "execution_count": 782,
   "id": "bd7b5ae6",
   "metadata": {},
   "outputs": [],
   "source": [
    "data.columns"
   ]
  },
  {
   "cell_type": "code",
   "execution_count": 783,
   "id": "66ce69ac",
   "metadata": {},
   "outputs": [],
   "source": [
    "data1.columns"
   ]
  },
  {
   "cell_type": "code",
   "execution_count": 784,
   "id": "de1ed33a",
   "metadata": {},
   "outputs": [],
   "source": [
    "# Creating a function \"Max_Value\" for converting % max 100 if values are above 100\n",
    "def Max_Value(value):\n",
    "    if value >=100:\n",
    "        return 100\n",
    "    else:\n",
    "        return value"
   ]
  },
  {
   "cell_type": "code",
   "execution_count": 785,
   "id": "7bf6adef",
   "metadata": {},
   "outputs": [],
   "source": [
    "# Applying Max_Value function\n",
    "per1=data1.iloc[:,0:]\n",
    "per1c=per1.columns\n",
    "data1[per1c]=data1[per1c].applymap(Max_Value)"
   ]
  },
  {
   "cell_type": "markdown",
   "id": "b5aa7b1a",
   "metadata": {},
   "source": [
    "# Code for converting seconds to hours"
   ]
  },
  {
   "cell_type": "code",
   "execution_count": 786,
   "id": "b941d2d2",
   "metadata": {},
   "outputs": [],
   "source": [
    "# Creating a function for converting seconds to hours\n",
    "def Convert_Hours(seconds):\n",
    "    hours = seconds / (3600)\n",
    "    return hours\n",
    "n = 5400\n",
    "print(Convert_Hours(n))\n"
   ]
  },
  {
   "cell_type": "code",
   "execution_count": 787,
   "id": "0975e96b",
   "metadata": {},
   "outputs": [],
   "source": [
    "# Applying Convert_Hours function\n",
    "col1 = data.iloc[:,1:]\n",
    "col=col1.columns\n",
    "data[col]=data[col].apply(Convert_Hours)"
   ]
  },
  {
   "cell_type": "markdown",
   "id": "3744605c",
   "metadata": {},
   "source": [
    "# Code for Recorded Videos: Total hours, Average & Percentage"
   ]
  },
  {
   "cell_type": "markdown",
   "id": "0d38d5a7",
   "metadata": {},
   "source": [
    "## Input Weeks Here ↓ "
   ]
  },
  {
   "cell_type": "code",
   "execution_count": 788,
   "id": "3047c32f",
   "metadata": {},
   "outputs": [],
   "source": [
    "# Define the week number up to which you want to include columns\n",
    "end_week = 8"
   ]
  },
  {
   "cell_type": "code",
   "execution_count": 789,
   "id": "3a9db805",
   "metadata": {},
   "outputs": [],
   "source": [
    "# Create a list of all column names up to the end week\n",
    "cols_to_select = []\n",
    "for week in range(end_week + 1):\n",
    "    for video in range(1, 10):\n",
    "        col_name = f'WK{week}_V{video}'\n",
    "        if col_name in data.columns:\n",
    "            cols_to_select.append(col_name)\n",
    "\n",
    "# Select the desired columns and create a new DataFrame\n",
    "Recorded_Total = data[cols_to_select]"
   ]
  },
  {
   "cell_type": "code",
   "execution_count": 790,
   "id": "95549994",
   "metadata": {},
   "outputs": [],
   "source": [
    "Recorded_Total.head()"
   ]
  },
  {
   "cell_type": "code",
   "execution_count": 791,
   "id": "2955953d",
   "metadata": {},
   "outputs": [],
   "source": [
    "data[\"Recorded_Total\"]=Recorded_Total.sum(axis=1)"
   ]
  },
  {
   "cell_type": "code",
   "execution_count": 792,
   "id": "6acfe145",
   "metadata": {},
   "outputs": [],
   "source": [
    "data[\"Recorded_Average\"]=Recorded_Total.mean(axis=1)"
   ]
  },
  {
   "cell_type": "code",
   "execution_count": 793,
   "id": "a6267a4d",
   "metadata": {},
   "outputs": [],
   "source": [
    "# Create a list of all column names up to the end week\n",
    "cols_to_select_per = []\n",
    "for week in range(end_week + 1):\n",
    "    for video in range(1, 10):\n",
    "        col_name = f'WK{week}_V{video}'\n",
    "        if col_name in data1.columns:\n",
    "            cols_to_select_per.append(col_name)\n",
    "\n",
    "# Select the desired columns and create a new DataFrame\n",
    "Recorded_Percent = data1[cols_to_select_per]"
   ]
  },
  {
   "cell_type": "code",
   "execution_count": 794,
   "id": "a95b4ba9",
   "metadata": {},
   "outputs": [],
   "source": [
    "Recorded_Percent.head()"
   ]
  },
  {
   "cell_type": "code",
   "execution_count": 795,
   "id": "12e886f6",
   "metadata": {},
   "outputs": [],
   "source": [
    "data[\"Recorded_Percentage\"]=Recorded_Percent.mean(axis=1)"
   ]
  },
  {
   "cell_type": "markdown",
   "id": "5a4f68a5",
   "metadata": {},
   "source": [
    "# Code for SUK Recorded Videos: Total hours, Average & Percentage"
   ]
  },
  {
   "cell_type": "code",
   "execution_count": 796,
   "id": "a84e6385",
   "metadata": {},
   "outputs": [],
   "source": [
    "# Create a list of all column names up to the end week\n",
    "cols_to_select = []\n",
    "for week in range(end_week + 1):\n",
    "    col_name = f'WK{week}_SUK_V'\n",
    "    if col_name in data.columns:\n",
    "        cols_to_select.append(col_name)\n",
    "\n",
    "# Select the desired columns and create a new DataFrame\n",
    "SUK_Recorded_Total = data[cols_to_select]"
   ]
  },
  {
   "cell_type": "code",
   "execution_count": 797,
   "id": "1d15c072",
   "metadata": {},
   "outputs": [],
   "source": [
    "SUK_Recorded_Total.head()"
   ]
  },
  {
   "cell_type": "code",
   "execution_count": 798,
   "id": "ee3cc323",
   "metadata": {},
   "outputs": [],
   "source": [
    "data[\"SUK_Recorded_Total\"]=SUK_Recorded_Total.sum(axis=1)"
   ]
  },
  {
   "cell_type": "code",
   "execution_count": 799,
   "id": "82a4cd6c",
   "metadata": {},
   "outputs": [],
   "source": [
    "data[\"SUK_Recorded_Average\"]=SUK_Recorded_Total.mean(axis=1)"
   ]
  },
  {
   "cell_type": "code",
   "execution_count": 800,
   "id": "67bcb0d4",
   "metadata": {},
   "outputs": [],
   "source": [
    "# Create a list of all column names up to the end week\n",
    "cols_to_select = []\n",
    "for week in range(end_week + 1):\n",
    "    col_name = f'WK{week}_SUK_V'\n",
    "    if col_name in data1.columns:\n",
    "        cols_to_select.append(col_name)\n",
    "\n",
    "# Select the desired columns and create a new DataFrame\n",
    "SUK_Recorded_Percent = data1[cols_to_select]"
   ]
  },
  {
   "cell_type": "code",
   "execution_count": 801,
   "id": "e1d40f73",
   "metadata": {},
   "outputs": [],
   "source": [
    "data[\"SUK_Recorded_Percentage\"]=SUK_Recorded_Percent.mean(axis=1)"
   ]
  },
  {
   "cell_type": "markdown",
   "id": "20013b8e",
   "metadata": {},
   "source": [
    "# Code for Master Class: Total hours, Average & Percentage"
   ]
  },
  {
   "cell_type": "code",
   "execution_count": 802,
   "id": "7ac9a1d5",
   "metadata": {},
   "outputs": [],
   "source": [
    "# Create a list of all column names up to the end week\n",
    "cols_to_select = []\n",
    "for week in range(end_week + 2):\n",
    "    for masterclass in range(1, 10):\n",
    "        col_name = f'WK{week}_Master{masterclass}'\n",
    "        if col_name in data.columns:\n",
    "            cols_to_select.append(col_name)\n",
    "\n",
    "# Select the desired columns and create a new DataFrame\n",
    "Masterclass_Total = data[cols_to_select]\n"
   ]
  },
  {
   "cell_type": "code",
   "execution_count": 803,
   "id": "0e17d303",
   "metadata": {},
   "outputs": [],
   "source": [
    "data[\"Masterclass_Total\"]=Masterclass_Total.sum(axis=1)"
   ]
  },
  {
   "cell_type": "code",
   "execution_count": 804,
   "id": "e4748071",
   "metadata": {},
   "outputs": [],
   "source": [
    "data[\"Masterclass_Average\"]=Masterclass_Total.mean(axis=1)"
   ]
  },
  {
   "cell_type": "code",
   "execution_count": 805,
   "id": "0aac8c3b",
   "metadata": {},
   "outputs": [],
   "source": [
    "# Create a list of all column names up to the end week\n",
    "cols_to_select = []\n",
    "for week in range(end_week + 1):\n",
    "    for masterclass in range(1, 10):\n",
    "        col_name = f'WK{week}_Master{masterclass}'\n",
    "        if col_name in data1.columns:\n",
    "            cols_to_select.append(col_name)\n",
    "\n",
    "# Select the desired columns and create a new DataFrame\n",
    "Masterclass_Percent = data1[cols_to_select]\n"
   ]
  },
  {
   "cell_type": "code",
   "execution_count": 806,
   "id": "d3e0e711",
   "metadata": {},
   "outputs": [],
   "source": [
    "Masterclass_Percent.head()"
   ]
  },
  {
   "cell_type": "code",
   "execution_count": 807,
   "id": "85f5082c",
   "metadata": {},
   "outputs": [],
   "source": [
    "data[\"Masterclass_Percentage\"]=Masterclass_Percent.mean(axis=1)"
   ]
  },
  {
   "cell_type": "markdown",
   "id": "63929f07",
   "metadata": {},
   "source": [
    "# Code for Program: Total hours, Average & Percentage"
   ]
  },
  {
   "cell_type": "code",
   "execution_count": 808,
   "id": "99cebd79",
   "metadata": {},
   "outputs": [],
   "source": [
    "# select columns from data where the column names start with \"WK\"\n",
    "selected_cols = [col for col in data.columns if col.startswith('WK')]\n",
    "\n",
    "# create a new dataframe called Whole_Program_Total with the selected columns\n",
    "Whole_Program_Total = data[selected_cols]"
   ]
  },
  {
   "cell_type": "code",
   "execution_count": 809,
   "id": "2eacfd98",
   "metadata": {},
   "outputs": [],
   "source": [
    "Whole_Program_Total.head()"
   ]
  },
  {
   "cell_type": "code",
   "execution_count": 810,
   "id": "94c11f73",
   "metadata": {},
   "outputs": [],
   "source": [
    "data[\"Program_Total\"]=Whole_Program_Total.sum(axis=1)"
   ]
  },
  {
   "cell_type": "code",
   "execution_count": 811,
   "id": "aabd0206",
   "metadata": {
    "scrolled": true
   },
   "outputs": [],
   "source": [
    "data[\"Program_Average\"]=Whole_Program_Total.mean(axis=1)"
   ]
  },
  {
   "cell_type": "code",
   "execution_count": 812,
   "id": "66baeb70",
   "metadata": {},
   "outputs": [],
   "source": [
    "# select columns from data where the column names start with \"WK\"\n",
    "selected_cols = [col for col in data1.columns if col.startswith('WK')]\n",
    "\n",
    "# create a new dataframe called Whole_Program_Total with the selected columns\n",
    "Whole_Program_Percent = data1[selected_cols]"
   ]
  },
  {
   "cell_type": "code",
   "execution_count": 813,
   "id": "a23c8fca",
   "metadata": {},
   "outputs": [],
   "source": [
    "data[\"Program_percentage\"]=Whole_Program_Percent.mean(axis=1)"
   ]
  },
  {
   "cell_type": "code",
   "execution_count": 814,
   "id": "a5eab004",
   "metadata": {},
   "outputs": [],
   "source": [
    "data=data.round(2)"
   ]
  },
  {
   "cell_type": "code",
   "execution_count": 815,
   "id": "d56dd896",
   "metadata": {},
   "outputs": [],
   "source": [
    "# Saving In Database\n",
    "data.to_csv(r\"C:\\Users\\HP\\OneDrive - VigyanShaala\\02 Products  Initiatives\\01 Kalpana\\05 Kalpana M&E\\00 DBMS 1.0\\Kalpana\\Kalpana Incubator Sept- Dec 2023 Batch\\Kalpana Output\\Incubator_and_attendence_monitoring_WithoutNotation.csv\",mode='w',index=False)"
   ]
  },
  {
   "cell_type": "code",
   "execution_count": null,
   "id": "5ee03d7a",
   "metadata": {},
   "outputs": [],
   "source": []
  },
  {
   "cell_type": "markdown",
   "id": "20d19f3a",
   "metadata": {},
   "source": [
    "# Incubator and attendance monitoring MySQL table"
   ]
  },
  {
   "cell_type": "code",
   "execution_count": null,
   "id": "06a0da8d",
   "metadata": {},
   "outputs": [],
   "source": []
  },
  {
   "cell_type": "code",
   "execution_count": 816,
   "id": "25b25aba",
   "metadata": {},
   "outputs": [],
   "source": [
    "data.columns"
   ]
  },
  {
   "cell_type": "code",
   "execution_count": 817,
   "id": "c052e8c0",
   "metadata": {},
   "outputs": [],
   "source": [
    "data.head()"
   ]
  },
  {
   "cell_type": "code",
   "execution_count": 818,
   "id": "6c38894b",
   "metadata": {},
   "outputs": [],
   "source": [
    "data.columns"
   ]
  },
  {
   "cell_type": "code",
   "execution_count": 819,
   "id": "9689969a",
   "metadata": {},
   "outputs": [],
   "source": [
    "oldcol"
   ]
  },
  {
   "cell_type": "code",
   "execution_count": 820,
   "id": "a68cbbcd",
   "metadata": {},
   "outputs": [],
   "source": [
    "oldcol = [col for col in oldcol if not col.startswith(\"Week\")]\n"
   ]
  },
  {
   "cell_type": "code",
   "execution_count": 821,
   "id": "1b7a2173",
   "metadata": {},
   "outputs": [],
   "source": [
    "oldcol"
   ]
  },
  {
   "cell_type": "code",
   "execution_count": 822,
   "id": "44870a4d",
   "metadata": {},
   "outputs": [],
   "source": [
    "#data.columns = oldcol[:len(data.columns)]\n",
    "# Now, let's say you want to change the column names of 'old_dataset' based on 'filtered_column_names'\n",
    "num_columns_to_rename = min(len(data.columns), len(oldcol))\n",
    "print(num_columns_to_rename)"
   ]
  },
  {
   "cell_type": "code",
   "execution_count": 823,
   "id": "04ccc2bc",
   "metadata": {},
   "outputs": [],
   "source": [
    "data.rename(columns=dict(zip(data.columns[:num_columns_to_rename], oldcol[:num_columns_to_rename])), inplace=True)\n"
   ]
  },
  {
   "cell_type": "code",
   "execution_count": 824,
   "id": "d960fb78",
   "metadata": {},
   "outputs": [],
   "source": [
    "data.columns"
   ]
  },
  {
   "cell_type": "code",
   "execution_count": 825,
   "id": "ce10e063",
   "metadata": {},
   "outputs": [],
   "source": [
    "# Split the columns by ':' and keep only the first part\n",
    "data.columns = data.columns.str.split (':').str [0]"
   ]
  },
  {
   "cell_type": "code",
   "execution_count": 826,
   "id": "e19babfd",
   "metadata": {},
   "outputs": [],
   "source": [
    "data.columns"
   ]
  },
  {
   "cell_type": "code",
   "execution_count": 827,
   "id": "6627f228",
   "metadata": {},
   "outputs": [],
   "source": [
    "data.columns = data.columns.str.strip()\n"
   ]
  },
  {
   "cell_type": "code",
   "execution_count": 828,
   "id": "8938f644",
   "metadata": {},
   "outputs": [],
   "source": [
    "def rename_column(col):\n",
    "    # Split the column name by space\n",
    "    parts = col.split()\n",
    "    special_chars = {'!': '1', '@': '2', '#': '3', '$': '4', '%': '5', '^': '6', '&': '7', '*': '8', '?': '9', '+': '0'}\n",
    "    \n",
    "    # If the first part is 'SUK', add the number corresponding to the last character\n",
    "    if parts[0] == 'SUK':\n",
    "        return parts[0] + special_chars.get(parts[1][-1], '0')\n",
    "    \n",
    "    # If the first part is 'Video', use the prefix 'VID' and the numbers corresponding to the last two characters\n",
    "    elif parts[0] == 'Video':\n",
    "        last_char = parts[1][-1]\n",
    "        second_last_char = parts[1][-2] if len(parts[1]) > 1 else '+'\n",
    "        return 'VID' + special_chars.get(second_last_char, '0') + special_chars.get(last_char, '0')\n",
    "    \n",
    "    # If the first part contains 'Master' and 'Class' is present, use the prefix 'MC' and the numbers corresponding to the last two characters\n",
    "    elif 'Master' in parts and 'Class' in parts:\n",
    "        index = parts.index('Master')\n",
    "        last_char = parts[index + 2][-1]\n",
    "        second_last_char = parts[index + 2][-2] if len(parts[index + 2]) > 1 else '+'\n",
    "        return 'MC' + special_chars.get(second_last_char, '0') + special_chars.get(last_char, '0')\n",
    "    \n",
    "    # Otherwise, return the column name as it is\n",
    "    else:\n",
    "        return col\n"
   ]
  },
  {
   "cell_type": "code",
   "execution_count": 829,
   "id": "b37d79d4",
   "metadata": {},
   "outputs": [],
   "source": [
    "# Rename the column names using the rename_column function\n",
    "data.rename(columns=rename_column, inplace=True)"
   ]
  },
  {
   "cell_type": "code",
   "execution_count": 830,
   "id": "4a2c6fc6",
   "metadata": {},
   "outputs": [],
   "source": [
    "data.columns"
   ]
  },
  {
   "cell_type": "code",
   "execution_count": 834,
   "id": "40edf405",
   "metadata": {},
   "outputs": [],
   "source": [
    "data.head()"
   ]
  },
  {
   "cell_type": "code",
   "execution_count": 832,
   "id": "a002ea26",
   "metadata": {},
   "outputs": [],
   "source": [
    "mask = data.columns.duplicated().sum()\n",
    "print(mask)"
   ]
  },
  {
   "cell_type": "markdown",
   "id": "ebb154fd",
   "metadata": {},
   "source": [
    "# Storing data on MySQL"
   ]
  },
  {
   "cell_type": "code",
   "execution_count": 642,
   "id": "27f7a679",
   "metadata": {},
   "outputs": [],
   "source": [
    "merged = df.merge(data, on ='Email', how = 'inner') "
   ]
  },
  {
   "cell_type": "code",
   "execution_count": 643,
   "id": "00cd1831",
   "metadata": {},
   "outputs": [],
   "source": [
    "merged = merged.drop('Enroll Date', axis=1)"
   ]
  },
  {
   "cell_type": "code",
   "execution_count": 646,
   "id": "ed57bf09",
   "metadata": {
    "scrolled": true
   },
   "outputs": [],
   "source": [
    "merged = merged.rename(columns={'Assigned Through': 'Assigned_Through'})\n",
    "merged = merged.rename(columns={'Mobile': 'Phone'})\n",
    "merged = merged.rename(columns={'Course Name': 'Course_Name'})"
   ]
  },
  {
   "cell_type": "code",
   "execution_count": 648,
   "id": "ff413e9e",
   "metadata": {},
   "outputs": [
    {
     "data": {
      "text/html": [
       "<div>\n",
       "<style scoped>\n",
       "    .dataframe tbody tr th:only-of-type {\n",
       "        vertical-align: middle;\n",
       "    }\n",
       "\n",
       "    .dataframe tbody tr th {\n",
       "        vertical-align: top;\n",
       "    }\n",
       "\n",
       "    .dataframe thead th {\n",
       "        text-align: right;\n",
       "    }\n",
       "</style>\n",
       "<table border=\"1\" class=\"dataframe\">\n",
       "  <thead>\n",
       "    <tr style=\"text-align: right;\">\n",
       "      <th></th>\n",
       "      <th>Name</th>\n",
       "      <th>Email</th>\n",
       "      <th>Segment</th>\n",
       "      <th>Phone</th>\n",
       "      <th>Assigned_Through</th>\n",
       "      <th>Course_Name</th>\n",
       "      <th>VID01</th>\n",
       "      <th>VID02</th>\n",
       "      <th>MC08</th>\n",
       "      <th>VID07</th>\n",
       "      <th>VID09</th>\n",
       "      <th>VID08</th>\n",
       "      <th>VID10</th>\n",
       "      <th>MC02</th>\n",
       "      <th>VID11</th>\n",
       "      <th>VID12</th>\n",
       "      <th>VID22</th>\n",
       "      <th>VID05</th>\n",
       "      <th>VID06</th>\n",
       "      <th>MC02</th>\n",
       "      <th>VID23</th>\n",
       "      <th>VID24</th>\n",
       "      <th>VID25</th>\n",
       "      <th>VID26</th>\n",
       "      <th>VID27</th>\n",
       "      <th>VID28</th>\n",
       "      <th>MC05</th>\n",
       "      <th>MC04</th>\n",
       "      <th>VID29</th>\n",
       "      <th>VID30</th>\n",
       "      <th>VID31</th>\n",
       "      <th>VID32</th>\n",
       "      <th>VID33</th>\n",
       "      <th>VID34</th>\n",
       "      <th>VID35</th>\n",
       "      <th>VID36</th>\n",
       "      <th>VID37</th>\n",
       "      <th>VID38</th>\n",
       "      <th>VID39</th>\n",
       "      <th>VID40</th>\n",
       "      <th>VID41</th>\n",
       "      <th>VID42</th>\n",
       "      <th>VID43</th>\n",
       "      <th>VID44</th>\n",
       "      <th>MC09</th>\n",
       "      <th>VID45</th>\n",
       "      <th>VID46</th>\n",
       "      <th>VID47</th>\n",
       "      <th>VID48</th>\n",
       "      <th>VID21</th>\n",
       "      <th>MC11</th>\n",
       "      <th>MC10</th>\n",
       "    </tr>\n",
       "  </thead>\n",
       "  <tbody>\n",
       "    <tr>\n",
       "      <th>0</th>\n",
       "      <td>VigyanShaala International</td>\n",
       "      <td>managing.trustee@vigyanshaala.com</td>\n",
       "      <td>trial</td>\n",
       "      <td>+917028422265</td>\n",
       "      <td>Paid Transaction - Order Id: OhUkP16553937330412</td>\n",
       "      <td>Kalpana SHE for STEM Incubator_July 22 Batch</td>\n",
       "      <td>10.0</td>\n",
       "      <td>206.0</td>\n",
       "      <td>1925.0</td>\n",
       "      <td>0.0</td>\n",
       "      <td>0.0</td>\n",
       "      <td>0.0</td>\n",
       "      <td>0.0</td>\n",
       "      <td>0.0</td>\n",
       "      <td>5.0</td>\n",
       "      <td>0.0</td>\n",
       "      <td>0.0</td>\n",
       "      <td>0.0</td>\n",
       "      <td>0.0</td>\n",
       "      <td>0.0</td>\n",
       "      <td>61.0</td>\n",
       "      <td>0.0</td>\n",
       "      <td>0.0</td>\n",
       "      <td>0.0</td>\n",
       "      <td>0.0</td>\n",
       "      <td>0.0</td>\n",
       "      <td>0.0</td>\n",
       "      <td>0.0</td>\n",
       "      <td>0.0</td>\n",
       "      <td>0.0</td>\n",
       "      <td>0.0</td>\n",
       "      <td>0.0</td>\n",
       "      <td>0.0</td>\n",
       "      <td>0.0</td>\n",
       "      <td>0.0</td>\n",
       "      <td>0.0</td>\n",
       "      <td>0.0</td>\n",
       "      <td>0.0</td>\n",
       "      <td>0.0</td>\n",
       "      <td>0.0</td>\n",
       "      <td>6.0</td>\n",
       "      <td>0.0</td>\n",
       "      <td>0.0</td>\n",
       "      <td>0.0</td>\n",
       "      <td>0.0</td>\n",
       "      <td>0.0</td>\n",
       "      <td>0.0</td>\n",
       "      <td>0.0</td>\n",
       "      <td>0.0</td>\n",
       "      <td>0.0</td>\n",
       "      <td>0.0</td>\n",
       "      <td>0.0</td>\n",
       "    </tr>\n",
       "    <tr>\n",
       "      <th>1</th>\n",
       "      <td>Sreejith Sreenivasan</td>\n",
       "      <td>sreejithsreenivasan2147@yahoo.co.in</td>\n",
       "      <td>trial</td>\n",
       "      <td>+919981521888</td>\n",
       "      <td>Admin</td>\n",
       "      <td>Kalpana SHE for STEM Incubator_July 22 Batch</td>\n",
       "      <td>0.0</td>\n",
       "      <td>0.0</td>\n",
       "      <td>0.0</td>\n",
       "      <td>0.0</td>\n",
       "      <td>0.0</td>\n",
       "      <td>0.0</td>\n",
       "      <td>0.0</td>\n",
       "      <td>0.0</td>\n",
       "      <td>0.0</td>\n",
       "      <td>0.0</td>\n",
       "      <td>0.0</td>\n",
       "      <td>0.0</td>\n",
       "      <td>0.0</td>\n",
       "      <td>0.0</td>\n",
       "      <td>0.0</td>\n",
       "      <td>0.0</td>\n",
       "      <td>0.0</td>\n",
       "      <td>0.0</td>\n",
       "      <td>0.0</td>\n",
       "      <td>0.0</td>\n",
       "      <td>0.0</td>\n",
       "      <td>0.0</td>\n",
       "      <td>0.0</td>\n",
       "      <td>0.0</td>\n",
       "      <td>0.0</td>\n",
       "      <td>0.0</td>\n",
       "      <td>0.0</td>\n",
       "      <td>0.0</td>\n",
       "      <td>0.0</td>\n",
       "      <td>0.0</td>\n",
       "      <td>0.0</td>\n",
       "      <td>0.0</td>\n",
       "      <td>0.0</td>\n",
       "      <td>0.0</td>\n",
       "      <td>0.0</td>\n",
       "      <td>0.0</td>\n",
       "      <td>0.0</td>\n",
       "      <td>0.0</td>\n",
       "      <td>0.0</td>\n",
       "      <td>0.0</td>\n",
       "      <td>0.0</td>\n",
       "      <td>0.0</td>\n",
       "      <td>0.0</td>\n",
       "      <td>0.0</td>\n",
       "      <td>0.0</td>\n",
       "      <td>0.0</td>\n",
       "    </tr>\n",
       "    <tr>\n",
       "      <th>2</th>\n",
       "      <td>Vijay Venugopalan</td>\n",
       "      <td>vijayacads@gmail.com</td>\n",
       "      <td>trial</td>\n",
       "      <td>+919890656439</td>\n",
       "      <td>Access Code: AWWBSEJG</td>\n",
       "      <td>Kalpana SHE for STEM Incubator_July 22 Batch</td>\n",
       "      <td>0.0</td>\n",
       "      <td>0.0</td>\n",
       "      <td>0.0</td>\n",
       "      <td>483.0</td>\n",
       "      <td>8.0</td>\n",
       "      <td>12.0</td>\n",
       "      <td>0.0</td>\n",
       "      <td>12.0</td>\n",
       "      <td>24.0</td>\n",
       "      <td>29.0</td>\n",
       "      <td>0.0</td>\n",
       "      <td>0.0</td>\n",
       "      <td>0.0</td>\n",
       "      <td>0.0</td>\n",
       "      <td>0.0</td>\n",
       "      <td>0.0</td>\n",
       "      <td>212.0</td>\n",
       "      <td>1.0</td>\n",
       "      <td>0.0</td>\n",
       "      <td>0.0</td>\n",
       "      <td>0.0</td>\n",
       "      <td>14.0</td>\n",
       "      <td>0.0</td>\n",
       "      <td>0.0</td>\n",
       "      <td>0.0</td>\n",
       "      <td>0.0</td>\n",
       "      <td>0.0</td>\n",
       "      <td>0.0</td>\n",
       "      <td>0.0</td>\n",
       "      <td>0.0</td>\n",
       "      <td>0.0</td>\n",
       "      <td>0.0</td>\n",
       "      <td>0.0</td>\n",
       "      <td>0.0</td>\n",
       "      <td>0.0</td>\n",
       "      <td>0.0</td>\n",
       "      <td>0.0</td>\n",
       "      <td>0.0</td>\n",
       "      <td>0.0</td>\n",
       "      <td>0.0</td>\n",
       "      <td>0.0</td>\n",
       "      <td>0.0</td>\n",
       "      <td>0.0</td>\n",
       "      <td>0.0</td>\n",
       "      <td>0.0</td>\n",
       "      <td>0.0</td>\n",
       "    </tr>\n",
       "    <tr>\n",
       "      <th>3</th>\n",
       "      <td>VigyanShaala</td>\n",
       "      <td>vigyanshaala@gmail.com</td>\n",
       "      <td>trial</td>\n",
       "      <td>+917822010479</td>\n",
       "      <td>Paid Transaction - Order Id: HzNKt16551053285391</td>\n",
       "      <td>Kalpana SHE for STEM Incubator_July 22 Batch</td>\n",
       "      <td>11.0</td>\n",
       "      <td>6.0</td>\n",
       "      <td>0.0</td>\n",
       "      <td>36.0</td>\n",
       "      <td>0.0</td>\n",
       "      <td>0.0</td>\n",
       "      <td>6.0</td>\n",
       "      <td>4.0</td>\n",
       "      <td>14.0</td>\n",
       "      <td>3.0</td>\n",
       "      <td>2.0</td>\n",
       "      <td>2.0</td>\n",
       "      <td>1.0</td>\n",
       "      <td>0.0</td>\n",
       "      <td>0.0</td>\n",
       "      <td>0.0</td>\n",
       "      <td>0.0</td>\n",
       "      <td>0.0</td>\n",
       "      <td>0.0</td>\n",
       "      <td>0.0</td>\n",
       "      <td>0.0</td>\n",
       "      <td>0.0</td>\n",
       "      <td>0.0</td>\n",
       "      <td>0.0</td>\n",
       "      <td>0.0</td>\n",
       "      <td>0.0</td>\n",
       "      <td>0.0</td>\n",
       "      <td>0.0</td>\n",
       "      <td>0.0</td>\n",
       "      <td>0.0</td>\n",
       "      <td>0.0</td>\n",
       "      <td>0.0</td>\n",
       "      <td>0.0</td>\n",
       "      <td>0.0</td>\n",
       "      <td>0.0</td>\n",
       "      <td>0.0</td>\n",
       "      <td>0.0</td>\n",
       "      <td>0.0</td>\n",
       "      <td>0.0</td>\n",
       "      <td>0.0</td>\n",
       "      <td>0.0</td>\n",
       "      <td>0.0</td>\n",
       "      <td>0.0</td>\n",
       "      <td>0.0</td>\n",
       "      <td>0.0</td>\n",
       "      <td>0.0</td>\n",
       "    </tr>\n",
       "    <tr>\n",
       "      <th>4</th>\n",
       "      <td>Ankita Kandalkar</td>\n",
       "      <td>kandalkarankita@gmail.com</td>\n",
       "      <td>paid</td>\n",
       "      <td>+919967835338</td>\n",
       "      <td>Paid Transaction - Order Id: KAuKQ165546768672...</td>\n",
       "      <td>Kalpana SHE for STEM Incubator_July 22 Batch</td>\n",
       "      <td>314.0</td>\n",
       "      <td>294.0</td>\n",
       "      <td>0.0</td>\n",
       "      <td>170.0</td>\n",
       "      <td>1384.0</td>\n",
       "      <td>18.0</td>\n",
       "      <td>14.0</td>\n",
       "      <td>837.0</td>\n",
       "      <td>23.0</td>\n",
       "      <td>21.0</td>\n",
       "      <td>10.0</td>\n",
       "      <td>7.0</td>\n",
       "      <td>9.0</td>\n",
       "      <td>7.0</td>\n",
       "      <td>12.0</td>\n",
       "      <td>8.0</td>\n",
       "      <td>4.0</td>\n",
       "      <td>6.0</td>\n",
       "      <td>7.0</td>\n",
       "      <td>10.0</td>\n",
       "      <td>6.0</td>\n",
       "      <td>12.0</td>\n",
       "      <td>15.0</td>\n",
       "      <td>19.0</td>\n",
       "      <td>8.0</td>\n",
       "      <td>35.0</td>\n",
       "      <td>13.0</td>\n",
       "      <td>16.0</td>\n",
       "      <td>19.0</td>\n",
       "      <td>13.0</td>\n",
       "      <td>18.0</td>\n",
       "      <td>16.0</td>\n",
       "      <td>18.0</td>\n",
       "      <td>33.0</td>\n",
       "      <td>19.0</td>\n",
       "      <td>13.0</td>\n",
       "      <td>13.0</td>\n",
       "      <td>53.0</td>\n",
       "      <td>10.0</td>\n",
       "      <td>259.0</td>\n",
       "      <td>284.0</td>\n",
       "      <td>19.0</td>\n",
       "      <td>15.0</td>\n",
       "      <td>25.0</td>\n",
       "      <td>9.0</td>\n",
       "      <td>0.0</td>\n",
       "    </tr>\n",
       "  </tbody>\n",
       "</table>\n",
       "</div>"
      ],
      "text/plain": [
       "                         Name                                Email Segment  \\\n",
       "0  VigyanShaala International    managing.trustee@vigyanshaala.com   trial   \n",
       "1        Sreejith Sreenivasan  sreejithsreenivasan2147@yahoo.co.in   trial   \n",
       "2           Vijay Venugopalan                 vijayacads@gmail.com   trial   \n",
       "3                VigyanShaala               vigyanshaala@gmail.com   trial   \n",
       "4            Ankita Kandalkar            kandalkarankita@gmail.com    paid   \n",
       "\n",
       "           Phone                                   Assigned_Through  \\\n",
       "0  +917028422265   Paid Transaction - Order Id: OhUkP16553937330412   \n",
       "1  +919981521888                                              Admin   \n",
       "2  +919890656439                              Access Code: AWWBSEJG   \n",
       "3  +917822010479   Paid Transaction - Order Id: HzNKt16551053285391   \n",
       "4  +919967835338  Paid Transaction - Order Id: KAuKQ165546768672...   \n",
       "\n",
       "                                    Course_Name  VID01  VID02    MC08  VID07  \\\n",
       "0  Kalpana SHE for STEM Incubator_July 22 Batch   10.0  206.0  1925.0    0.0   \n",
       "1  Kalpana SHE for STEM Incubator_July 22 Batch    0.0    0.0     0.0    0.0   \n",
       "2  Kalpana SHE for STEM Incubator_July 22 Batch    0.0    0.0     0.0  483.0   \n",
       "3  Kalpana SHE for STEM Incubator_July 22 Batch   11.0    6.0     0.0   36.0   \n",
       "4  Kalpana SHE for STEM Incubator_July 22 Batch  314.0  294.0     0.0  170.0   \n",
       "\n",
       "    VID09  VID08  VID10   MC02  VID11  VID12  VID22  VID05  VID06  MC02  \\\n",
       "0     0.0    0.0    0.0    0.0    5.0    0.0    0.0    0.0    0.0   0.0   \n",
       "1     0.0    0.0    0.0    0.0    0.0    0.0    0.0    0.0    0.0   0.0   \n",
       "2     8.0   12.0    0.0   12.0   24.0   29.0    0.0    0.0    0.0   0.0   \n",
       "3     0.0    0.0    6.0    4.0   14.0    3.0    2.0    2.0    1.0   0.0   \n",
       "4  1384.0   18.0   14.0  837.0   23.0   21.0   10.0    7.0    9.0   7.0   \n",
       "\n",
       "   VID23  VID24  VID25  VID26  VID27  VID28  MC05  MC04  VID29  VID30  VID31  \\\n",
       "0   61.0    0.0    0.0    0.0    0.0    0.0   0.0   0.0    0.0    0.0    0.0   \n",
       "1    0.0    0.0    0.0    0.0    0.0    0.0   0.0   0.0    0.0    0.0    0.0   \n",
       "2    0.0    0.0  212.0    1.0    0.0    0.0   0.0  14.0    0.0    0.0    0.0   \n",
       "3    0.0    0.0    0.0    0.0    0.0    0.0   0.0   0.0    0.0    0.0    0.0   \n",
       "4   12.0    8.0    4.0    6.0    7.0   10.0   6.0  12.0   15.0   19.0    8.0   \n",
       "\n",
       "   VID32  VID33  VID34  VID35  VID36  VID37  VID38  VID39  VID40  VID41  \\\n",
       "0    0.0    0.0    0.0    0.0    0.0    0.0    0.0    0.0    0.0    6.0   \n",
       "1    0.0    0.0    0.0    0.0    0.0    0.0    0.0    0.0    0.0    0.0   \n",
       "2    0.0    0.0    0.0    0.0    0.0    0.0    0.0    0.0    0.0    0.0   \n",
       "3    0.0    0.0    0.0    0.0    0.0    0.0    0.0    0.0    0.0    0.0   \n",
       "4   35.0   13.0   16.0   19.0   13.0   18.0   16.0   18.0   33.0   19.0   \n",
       "\n",
       "   VID42  VID43  VID44  MC09  VID45  VID46  VID47  VID48  VID21  MC11  MC10  \n",
       "0    0.0    0.0    0.0   0.0    0.0    0.0    0.0    0.0    0.0   0.0   0.0  \n",
       "1    0.0    0.0    0.0   0.0    0.0    0.0    0.0    0.0    0.0   0.0   0.0  \n",
       "2    0.0    0.0    0.0   0.0    0.0    0.0    0.0    0.0    0.0   0.0   0.0  \n",
       "3    0.0    0.0    0.0   0.0    0.0    0.0    0.0    0.0    0.0   0.0   0.0  \n",
       "4   13.0   13.0   53.0  10.0  259.0  284.0   19.0   15.0   25.0   9.0   0.0  "
      ]
     },
     "execution_count": 648,
     "metadata": {},
     "output_type": "execute_result"
    }
   ],
   "source": [
    "merged.head()"
   ]
  },
  {
   "cell_type": "code",
   "execution_count": 184,
   "id": "d456bd5a",
   "metadata": {},
   "outputs": [],
   "source": [
    "conn= msql.connect(host='localhost',user='root',password=\"VS@123\",database=\"Kalpana_Incubator_Sept_Dec_2023_Batch\",auth_plugin='mysql_native_password')\n",
    "cursor =conn.cursor() "
   ]
  },
  {
   "cell_type": "code",
   "execution_count": 185,
   "id": "24cbb91e",
   "metadata": {},
   "outputs": [],
   "source": [
    "# Get the existing columns in the database\n",
    "cursor.execute(\"SHOW COLUMNS FROM 08_incubator_and_attendance_monitoring\")\n",
    "existing_columns = [col[0] for col in cursor.fetchall()]\n",
    "\n",
    "# Define the column name before which the new column should be added\n",
    "target_column = 'Recorded_Total'\n",
    "\n",
    "# Check if any new columns exist in the dataframe but not in the database\n",
    "new_columns = [col for col in merged.columns if col not in existing_columns]\n",
    "if new_columns:\n",
    "    # Add new columns to the database before the target column\n",
    "    for col in reversed(new_columns):\n",
    "        if col not in existing_columns:\n",
    "            # Get the index of the target column\n",
    "            target_column_index = existing_columns.index(target_column)\n",
    "            # Set the data type based on whether the column name starts with Comment\n",
    "            data_type = \"INT\" \n",
    "            alter_query = f\"ALTER TABLE 08_incubator_and_attendence_monitoring ADD COLUMN {col} {data_type} AFTER {existing_columns[target_column_index - 1]}\"\n",
    "            cursor.execute(alter_query)\n",
    "            existing_columns.insert(target_column_index - 1, col)"
   ]
  },
  {
   "cell_type": "code",
   "execution_count": 186,
   "id": "c532992e",
   "metadata": {},
   "outputs": [],
   "source": [
    "# Your existing code for inserting data into the database table\n",
    "for i, row in merged.iterrows():\n",
    "    row = [None if isinstance(val, float) and math.isnan(val) else val for val in row] # replace \"nan\" values with None\n",
    "    columns = ','.join(merged.columns)\n",
    "    placeholders = ','.join(['%s']*len(row))\n",
    "    # Construct the INSERT query with ON DUPLICATE KEY UPDATE clause\n",
    "    query = f\"INSERT INTO 08_incubator_and_attendance_monitoring ({columns}) VALUES ({placeholders}) ON DUPLICATE KEY UPDATE \"\n",
    "    query += \", \".join([f\"{col}=VALUES({col})\" for col in merged.columns if col != 'Email'])\n",
    "    # Execute the query\n",
    "    cursor.execute(query, tuple(row))"
   ]
  },
  {
   "cell_type": "code",
   "execution_count": 187,
   "id": "6764e14f",
   "metadata": {},
   "outputs": [],
   "source": [
    "conn.commit()"
   ]
  },
  {
   "cell_type": "markdown",
   "id": "b76f135a",
   "metadata": {},
   "source": [
    "# Extracting desire output to excel sheet"
   ]
  },
  {
   "cell_type": "code",
   "execution_count": 188,
   "id": "fba955e4",
   "metadata": {},
   "outputs": [
    {
     "data": {
      "text/html": [
       "<div>\n",
       "<style scoped>\n",
       "    .dataframe tbody tr th:only-of-type {\n",
       "        vertical-align: middle;\n",
       "    }\n",
       "\n",
       "    .dataframe tbody tr th {\n",
       "        vertical-align: top;\n",
       "    }\n",
       "\n",
       "    .dataframe thead th {\n",
       "        text-align: right;\n",
       "    }\n",
       "</style>\n",
       "<table border=\"1\" class=\"dataframe\">\n",
       "  <thead>\n",
       "    <tr style=\"text-align: right;\">\n",
       "      <th></th>\n",
       "      <th>Email</th>\n",
       "      <th>WK0_SUK_V</th>\n",
       "      <th>WK0_Master1</th>\n",
       "      <th>WK1_V1</th>\n",
       "      <th>WK1_V2</th>\n",
       "      <th>WK1_Master2</th>\n",
       "      <th>WK2_V1</th>\n",
       "      <th>WK2_V2</th>\n",
       "      <th>WK2_V3</th>\n",
       "      <th>WK2_V4</th>\n",
       "      <th>WK2_Master3</th>\n",
       "      <th>WK3_V1</th>\n",
       "      <th>WK3_V2</th>\n",
       "      <th>WK3_V3</th>\n",
       "      <th>WK3_V4</th>\n",
       "      <th>WK3_Master4</th>\n",
       "      <th>WK4_V1</th>\n",
       "      <th>WK4_V2</th>\n",
       "      <th>WK4_V3</th>\n",
       "      <th>WK4_V4</th>\n",
       "      <th>WK4_V5</th>\n",
       "      <th>WK4_V6</th>\n",
       "      <th>WK4_V7</th>\n",
       "      <th>WK4_Master5</th>\n",
       "      <th>WK5_V1</th>\n",
       "      <th>WK6_SUK_V</th>\n",
       "      <th>WK7_V1</th>\n",
       "      <th>WK8_SUK_1</th>\n",
       "      <th>WK8_SUK_2</th>\n",
       "      <th>Recorded_Total</th>\n",
       "      <th>Recorded_Average</th>\n",
       "      <th>Recorded_Percentage</th>\n",
       "      <th>SUK_Recorded_Total</th>\n",
       "      <th>SUK_Recorded_Average</th>\n",
       "      <th>SUK_Recorded_Percentage</th>\n",
       "      <th>Masterclass_Total</th>\n",
       "      <th>Masterclass_Average</th>\n",
       "      <th>Masterclass_Percentage</th>\n",
       "      <th>Program_Total</th>\n",
       "      <th>Program_Average</th>\n",
       "      <th>Program_percentage</th>\n",
       "    </tr>\n",
       "  </thead>\n",
       "  <tbody>\n",
       "    <tr>\n",
       "      <th>0</th>\n",
       "      <td>vijayacads@gmail.com</td>\n",
       "      <td>0.00</td>\n",
       "      <td>0.00</td>\n",
       "      <td>0.0</td>\n",
       "      <td>0.0</td>\n",
       "      <td>0.00</td>\n",
       "      <td>0.0</td>\n",
       "      <td>0.0</td>\n",
       "      <td>0.0</td>\n",
       "      <td>0.0</td>\n",
       "      <td>0.0</td>\n",
       "      <td>0.0</td>\n",
       "      <td>0.0</td>\n",
       "      <td>0.0</td>\n",
       "      <td>0.0</td>\n",
       "      <td>0.0</td>\n",
       "      <td>0.0</td>\n",
       "      <td>0.0</td>\n",
       "      <td>0.0</td>\n",
       "      <td>0.0</td>\n",
       "      <td>0.0</td>\n",
       "      <td>0.0</td>\n",
       "      <td>0.0</td>\n",
       "      <td>0.04</td>\n",
       "      <td>0.0</td>\n",
       "      <td>0.0</td>\n",
       "      <td>0.0</td>\n",
       "      <td>0.00</td>\n",
       "      <td>0.0</td>\n",
       "      <td>0.0</td>\n",
       "      <td>0.0</td>\n",
       "      <td>0.00</td>\n",
       "      <td>0.00</td>\n",
       "      <td>0.00</td>\n",
       "      <td>0.25</td>\n",
       "      <td>0.04</td>\n",
       "      <td>0.01</td>\n",
       "      <td>0.89</td>\n",
       "      <td>0.05</td>\n",
       "      <td>0.00</td>\n",
       "      <td>0.18</td>\n",
       "    </tr>\n",
       "    <tr>\n",
       "      <th>1</th>\n",
       "      <td>sreejith.sreenivasan@vigyanshaala.com</td>\n",
       "      <td>0.63</td>\n",
       "      <td>0.47</td>\n",
       "      <td>0.0</td>\n",
       "      <td>0.0</td>\n",
       "      <td>0.02</td>\n",
       "      <td>0.0</td>\n",
       "      <td>0.0</td>\n",
       "      <td>0.0</td>\n",
       "      <td>0.0</td>\n",
       "      <td>0.0</td>\n",
       "      <td>0.0</td>\n",
       "      <td>0.0</td>\n",
       "      <td>0.0</td>\n",
       "      <td>0.0</td>\n",
       "      <td>0.0</td>\n",
       "      <td>0.0</td>\n",
       "      <td>0.0</td>\n",
       "      <td>0.0</td>\n",
       "      <td>0.0</td>\n",
       "      <td>0.0</td>\n",
       "      <td>0.0</td>\n",
       "      <td>0.0</td>\n",
       "      <td>0.00</td>\n",
       "      <td>0.0</td>\n",
       "      <td>0.0</td>\n",
       "      <td>0.0</td>\n",
       "      <td>0.00</td>\n",
       "      <td>0.0</td>\n",
       "      <td>0.0</td>\n",
       "      <td>0.0</td>\n",
       "      <td>0.09</td>\n",
       "      <td>0.63</td>\n",
       "      <td>0.32</td>\n",
       "      <td>31.54</td>\n",
       "      <td>0.50</td>\n",
       "      <td>0.10</td>\n",
       "      <td>9.95</td>\n",
       "      <td>1.13</td>\n",
       "      <td>0.04</td>\n",
       "      <td>4.09</td>\n",
       "    </tr>\n",
       "    <tr>\n",
       "      <th>2</th>\n",
       "      <td>monikadaw5353@gmail.com</td>\n",
       "      <td>0.00</td>\n",
       "      <td>0.00</td>\n",
       "      <td>0.0</td>\n",
       "      <td>0.0</td>\n",
       "      <td>0.00</td>\n",
       "      <td>0.0</td>\n",
       "      <td>0.0</td>\n",
       "      <td>0.0</td>\n",
       "      <td>0.0</td>\n",
       "      <td>0.0</td>\n",
       "      <td>0.0</td>\n",
       "      <td>0.0</td>\n",
       "      <td>0.0</td>\n",
       "      <td>0.0</td>\n",
       "      <td>0.0</td>\n",
       "      <td>0.0</td>\n",
       "      <td>0.0</td>\n",
       "      <td>0.0</td>\n",
       "      <td>0.0</td>\n",
       "      <td>0.0</td>\n",
       "      <td>0.0</td>\n",
       "      <td>0.0</td>\n",
       "      <td>0.00</td>\n",
       "      <td>0.0</td>\n",
       "      <td>0.0</td>\n",
       "      <td>0.0</td>\n",
       "      <td>0.00</td>\n",
       "      <td>0.0</td>\n",
       "      <td>0.0</td>\n",
       "      <td>0.0</td>\n",
       "      <td>0.00</td>\n",
       "      <td>0.00</td>\n",
       "      <td>0.00</td>\n",
       "      <td>0.00</td>\n",
       "      <td>0.00</td>\n",
       "      <td>0.00</td>\n",
       "      <td>0.00</td>\n",
       "      <td>0.00</td>\n",
       "      <td>0.00</td>\n",
       "      <td>0.00</td>\n",
       "    </tr>\n",
       "    <tr>\n",
       "      <th>3</th>\n",
       "      <td>prachijagdale0123@gmail.com</td>\n",
       "      <td>0.00</td>\n",
       "      <td>0.00</td>\n",
       "      <td>0.0</td>\n",
       "      <td>0.0</td>\n",
       "      <td>0.00</td>\n",
       "      <td>0.0</td>\n",
       "      <td>0.0</td>\n",
       "      <td>0.0</td>\n",
       "      <td>0.0</td>\n",
       "      <td>0.0</td>\n",
       "      <td>0.0</td>\n",
       "      <td>0.0</td>\n",
       "      <td>0.0</td>\n",
       "      <td>0.0</td>\n",
       "      <td>0.0</td>\n",
       "      <td>0.0</td>\n",
       "      <td>0.0</td>\n",
       "      <td>0.0</td>\n",
       "      <td>0.0</td>\n",
       "      <td>0.0</td>\n",
       "      <td>0.0</td>\n",
       "      <td>0.0</td>\n",
       "      <td>0.00</td>\n",
       "      <td>0.0</td>\n",
       "      <td>0.0</td>\n",
       "      <td>0.0</td>\n",
       "      <td>0.00</td>\n",
       "      <td>0.0</td>\n",
       "      <td>0.0</td>\n",
       "      <td>0.0</td>\n",
       "      <td>0.00</td>\n",
       "      <td>0.00</td>\n",
       "      <td>0.00</td>\n",
       "      <td>0.00</td>\n",
       "      <td>0.00</td>\n",
       "      <td>0.00</td>\n",
       "      <td>0.00</td>\n",
       "      <td>0.00</td>\n",
       "      <td>0.00</td>\n",
       "      <td>0.00</td>\n",
       "    </tr>\n",
       "    <tr>\n",
       "      <th>4</th>\n",
       "      <td>nikitasingh4615@gmail.com</td>\n",
       "      <td>0.00</td>\n",
       "      <td>0.00</td>\n",
       "      <td>0.0</td>\n",
       "      <td>0.0</td>\n",
       "      <td>0.00</td>\n",
       "      <td>0.0</td>\n",
       "      <td>0.0</td>\n",
       "      <td>0.0</td>\n",
       "      <td>0.0</td>\n",
       "      <td>0.0</td>\n",
       "      <td>0.0</td>\n",
       "      <td>0.0</td>\n",
       "      <td>0.0</td>\n",
       "      <td>0.0</td>\n",
       "      <td>0.0</td>\n",
       "      <td>0.0</td>\n",
       "      <td>0.0</td>\n",
       "      <td>0.0</td>\n",
       "      <td>0.0</td>\n",
       "      <td>0.0</td>\n",
       "      <td>0.0</td>\n",
       "      <td>0.0</td>\n",
       "      <td>1.44</td>\n",
       "      <td>0.0</td>\n",
       "      <td>0.0</td>\n",
       "      <td>0.0</td>\n",
       "      <td>0.78</td>\n",
       "      <td>0.0</td>\n",
       "      <td>0.0</td>\n",
       "      <td>0.0</td>\n",
       "      <td>0.00</td>\n",
       "      <td>0.00</td>\n",
       "      <td>0.00</td>\n",
       "      <td>0.00</td>\n",
       "      <td>1.44</td>\n",
       "      <td>0.29</td>\n",
       "      <td>20.02</td>\n",
       "      <td>2.22</td>\n",
       "      <td>0.08</td>\n",
       "      <td>6.35</td>\n",
       "    </tr>\n",
       "  </tbody>\n",
       "</table>\n",
       "</div>"
      ],
      "text/plain": [
       "                                   Email  WK0_SUK_V  WK0_Master1  WK1_V1  \\\n",
       "0                   vijayacads@gmail.com       0.00         0.00     0.0   \n",
       "1  sreejith.sreenivasan@vigyanshaala.com       0.63         0.47     0.0   \n",
       "2                monikadaw5353@gmail.com       0.00         0.00     0.0   \n",
       "3            prachijagdale0123@gmail.com       0.00         0.00     0.0   \n",
       "4              nikitasingh4615@gmail.com       0.00         0.00     0.0   \n",
       "\n",
       "   WK1_V2  WK1_Master2  WK2_V1  WK2_V2  WK2_V3  WK2_V4  WK2_Master3  WK3_V1  \\\n",
       "0     0.0         0.00     0.0     0.0     0.0     0.0          0.0     0.0   \n",
       "1     0.0         0.02     0.0     0.0     0.0     0.0          0.0     0.0   \n",
       "2     0.0         0.00     0.0     0.0     0.0     0.0          0.0     0.0   \n",
       "3     0.0         0.00     0.0     0.0     0.0     0.0          0.0     0.0   \n",
       "4     0.0         0.00     0.0     0.0     0.0     0.0          0.0     0.0   \n",
       "\n",
       "   WK3_V2  WK3_V3  WK3_V4  WK3_Master4  WK4_V1  WK4_V2  WK4_V3  WK4_V4  \\\n",
       "0     0.0     0.0     0.0          0.0     0.0     0.0     0.0     0.0   \n",
       "1     0.0     0.0     0.0          0.0     0.0     0.0     0.0     0.0   \n",
       "2     0.0     0.0     0.0          0.0     0.0     0.0     0.0     0.0   \n",
       "3     0.0     0.0     0.0          0.0     0.0     0.0     0.0     0.0   \n",
       "4     0.0     0.0     0.0          0.0     0.0     0.0     0.0     0.0   \n",
       "\n",
       "   WK4_V5  WK4_V6  WK4_V7  WK4_Master5  WK5_V1  WK6_SUK_V  WK7_V1  WK8_SUK_1  \\\n",
       "0     0.0     0.0     0.0         0.04     0.0        0.0     0.0       0.00   \n",
       "1     0.0     0.0     0.0         0.00     0.0        0.0     0.0       0.00   \n",
       "2     0.0     0.0     0.0         0.00     0.0        0.0     0.0       0.00   \n",
       "3     0.0     0.0     0.0         0.00     0.0        0.0     0.0       0.00   \n",
       "4     0.0     0.0     0.0         1.44     0.0        0.0     0.0       0.78   \n",
       "\n",
       "   WK8_SUK_2  Recorded_Total  Recorded_Average  Recorded_Percentage  \\\n",
       "0        0.0             0.0               0.0                 0.00   \n",
       "1        0.0             0.0               0.0                 0.09   \n",
       "2        0.0             0.0               0.0                 0.00   \n",
       "3        0.0             0.0               0.0                 0.00   \n",
       "4        0.0             0.0               0.0                 0.00   \n",
       "\n",
       "   SUK_Recorded_Total  SUK_Recorded_Average  SUK_Recorded_Percentage  \\\n",
       "0                0.00                  0.00                     0.25   \n",
       "1                0.63                  0.32                    31.54   \n",
       "2                0.00                  0.00                     0.00   \n",
       "3                0.00                  0.00                     0.00   \n",
       "4                0.00                  0.00                     0.00   \n",
       "\n",
       "   Masterclass_Total  Masterclass_Average  Masterclass_Percentage  \\\n",
       "0               0.04                 0.01                    0.89   \n",
       "1               0.50                 0.10                    9.95   \n",
       "2               0.00                 0.00                    0.00   \n",
       "3               0.00                 0.00                    0.00   \n",
       "4               1.44                 0.29                   20.02   \n",
       "\n",
       "   Program_Total  Program_Average  Program_percentage  \n",
       "0           0.05             0.00                0.18  \n",
       "1           1.13             0.04                4.09  \n",
       "2           0.00             0.00                0.00  \n",
       "3           0.00             0.00                0.00  \n",
       "4           2.22             0.08                6.35  "
      ]
     },
     "execution_count": 188,
     "metadata": {},
     "output_type": "execute_result"
    }
   ],
   "source": [
    "data.head()"
   ]
  },
  {
   "cell_type": "code",
   "execution_count": 189,
   "id": "c9c1c49e",
   "metadata": {},
   "outputs": [],
   "source": [
    "data.to_csv(r\"C:\\Users\\HP\\OneDrive - VigyanShaala\\02 Products  Initiatives\\01 Kalpana\\05 Kalpana M&E\\00 DBMS 1.0\\Kalpana\\Kalpana Incubator Sept- Dec 2023 Batch\\Kalpana Output\\Incubator_and_attendence_monitoring_WithoutNotation.csv\",mode='w',index=False)"
   ]
  },
  {
   "cell_type": "code",
   "execution_count": null,
   "id": "7e4d3a5a",
   "metadata": {},
   "outputs": [],
   "source": []
  },
  {
   "cell_type": "code",
   "execution_count": null,
   "id": "e6b1dc9c",
   "metadata": {},
   "outputs": [],
   "source": []
  }
 ],
 "metadata": {
  "kernelspec": {
   "display_name": "Python 3 (ipykernel)",
   "language": "python",
   "name": "python3"
  },
  "language_info": {
   "codemirror_mode": {
    "name": "ipython",
    "version": 3
   },
   "file_extension": ".py",
   "mimetype": "text/x-python",
   "name": "python",
   "nbconvert_exporter": "python",
   "pygments_lexer": "ipython3",
   "version": "3.11.3"
  },
  "varInspector": {
   "cols": {
    "lenName": 16,
    "lenType": 16,
    "lenVar": 40
   },
   "kernels_config": {
    "python": {
     "delete_cmd_postfix": "",
     "delete_cmd_prefix": "del ",
     "library": "var_list.py",
     "varRefreshCmd": "print(var_dic_list())"
    },
    "r": {
     "delete_cmd_postfix": ") ",
     "delete_cmd_prefix": "rm(",
     "library": "var_list.r",
     "varRefreshCmd": "cat(var_dic_list()) "
    }
   },
   "types_to_exclude": [
    "module",
    "function",
    "builtin_function_or_method",
    "instance",
    "_Feature"
   ],
   "window_display": false
  }
 },
 "nbformat": 4,
 "nbformat_minor": 5
}
