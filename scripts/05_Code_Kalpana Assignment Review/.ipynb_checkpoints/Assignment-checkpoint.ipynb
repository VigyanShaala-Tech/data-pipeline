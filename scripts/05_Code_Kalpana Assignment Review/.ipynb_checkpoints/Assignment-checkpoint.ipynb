{
 "cells": [
  {
   "cell_type": "code",
   "execution_count": 1,
   "id": "433a3317",
   "metadata": {},
   "outputs": [],
   "source": [
    "# importing required modules\n",
    "import pandas as pd\n",
    "import mysql.connector as msql\n",
    "import math\n",
    "import os"
   ]
  },
  {
   "cell_type": "markdown",
   "id": "82d64b4a",
   "metadata": {},
   "source": [
    "# Source file should be named as \"Incubator Assignment Review\""
   ]
  },
  {
   "cell_type": "code",
   "execution_count": 2,
   "id": "fd18fd7f",
   "metadata": {},
   "outputs": [],
   "source": [
    "\n",
    "directory_path = r\"C:\\Users\\HP\\OneDrive - VigyanShaala\\02 Products  Initiatives\\01 Kalpana\\05 Kalpana M&E\\00 DBMS 1.0\\Kalpana\\Kalpana Incubator Sept- Dec 2023 Batch\\Kalpana Source File\\04_Source_Kalpana Assignment Review\"\n",
    "sheet_name = \"Assignment Review\"\n",
    "\n",
    "excel_files = [file for file in os.listdir(directory_path) if file.endswith('.xlsx')]\n",
    "\n",
    "for file in excel_files:\n",
    "    file_path = os.path.join(directory_path, file)\n",
    "    df = pd.read_excel(file_path, sheet_name=sheet_name)\n",
    "    print(f\"Data from {file}:\")\n"
   ]
  },
  {
   "cell_type": "code",
   "execution_count": 3,
   "id": "17c3ddb5",
   "metadata": {},
   "outputs": [],
   "source": [
    "df.head()"
   ]
  },
  {
   "cell_type": "code",
   "execution_count": 4,
   "id": "00d0c258",
   "metadata": {},
   "outputs": [],
   "source": [
    "# Dispalying All columns\n",
    "pd.set_option('display.max_columns',None)\n",
    "pd.options.display.float_format='{:.0f}'.format"
   ]
  },
  {
   "cell_type": "code",
   "execution_count": 5,
   "id": "3f68e567",
   "metadata": {},
   "outputs": [],
   "source": [
    "# Selecting desired columns\n",
    "df = df.iloc[:, :df.columns.get_loc('Assignment Score %')]\n"
   ]
  },
  {
   "cell_type": "code",
   "execution_count": 6,
   "id": "7ce1a273",
   "metadata": {},
   "outputs": [],
   "source": [
    "# Dropping columns containing 'Current Status' in their column name\n",
    "cols_to_drop = [col for col in df.columns if 'Current Status' in col]\n",
    "df.drop(cols_to_drop, axis=1, inplace=True)\n"
   ]
  },
  {
   "cell_type": "code",
   "execution_count": 7,
   "id": "fa29bd95",
   "metadata": {},
   "outputs": [],
   "source": [
    "# Create a list of columns that start with 'MC' or 'WK'\n",
    "assign = [col for col in df.columns if col.startswith('MC') or col.startswith('WK')]"
   ]
  },
  {
   "cell_type": "code",
   "execution_count": 8,
   "id": "e1c00ae0",
   "metadata": {},
   "outputs": [],
   "source": [
    "assign"
   ]
  },
  {
   "cell_type": "code",
   "execution_count": null,
   "id": "1a4b4989",
   "metadata": {},
   "outputs": [],
   "source": []
  },
  {
   "cell_type": "code",
   "execution_count": 9,
   "id": "6605ee6b",
   "metadata": {},
   "outputs": [],
   "source": [
    "# Remove leading/trailing spaces in the selected columns\n",
    "df[assign] = df[assign].applymap(lambda x: x.strip() if isinstance(x, str) else x)"
   ]
  },
  {
   "cell_type": "code",
   "execution_count": 10,
   "id": "16c02976",
   "metadata": {},
   "outputs": [],
   "source": [
    "df['MC_Career Exploration'].unique()"
   ]
  },
  {
   "cell_type": "code",
   "execution_count": 11,
   "id": "c7fddaca",
   "metadata": {},
   "outputs": [],
   "source": [
    "# Replace values in selected columns\n",
    "replace_dict = {'Accepted': 100, 'Submit 1': 30, 'Review 1': 30, 'Submit 2': 80, 'Rejected': 80}\n",
    "df[assign] = df[assign].replace(replace_dict)"
   ]
  },
  {
   "cell_type": "code",
   "execution_count": 12,
   "id": "6bc02e8e",
   "metadata": {},
   "outputs": [],
   "source": [
    "# Convert the selected columns to float\n",
    "df[assign] = df[assign].astype(float)"
   ]
  },
  {
   "cell_type": "code",
   "execution_count": 13,
   "id": "3962e2e7",
   "metadata": {},
   "outputs": [],
   "source": [
    "# Filling NaN Values with zero\n",
    "df[assign]=df[assign].fillna(0)"
   ]
  },
  {
   "cell_type": "code",
   "execution_count": 14,
   "id": "01b79bbc",
   "metadata": {},
   "outputs": [],
   "source": [
    "df.head()"
   ]
  },
  {
   "cell_type": "code",
   "execution_count": 15,
   "id": "01377c67",
   "metadata": {},
   "outputs": [],
   "source": [
    "df.columns\n"
   ]
  },
  {
   "cell_type": "code",
   "execution_count": null,
   "id": "1396e0d3",
   "metadata": {},
   "outputs": [],
   "source": []
  },
  {
   "cell_type": "code",
   "execution_count": 16,
   "id": "8b1e228a",
   "metadata": {},
   "outputs": [],
   "source": [
    "# Calculate the sum of selected columns\n",
    "sum_of_scores = df[assign].sum(axis=1)\n",
    "\n",
    "# Count the number of selected columns\n",
    "num_of_columns = len(assign)\n",
    "\n",
    "# Calculate the average score\n",
    "df['Assignment_Score'] = sum_of_scores / num_of_columns\n"
   ]
  },
  {
   "cell_type": "code",
   "execution_count": 17,
   "id": "20631255",
   "metadata": {},
   "outputs": [],
   "source": [
    "# Rounding Off values of Assignment score to two digits\n",
    "df['Assignment_Score']=df['Assignment_Score'].round(2)"
   ]
  },
  {
   "cell_type": "code",
   "execution_count": 18,
   "id": "e05a354d",
   "metadata": {},
   "outputs": [],
   "source": [
    "df=df.fillna('')"
   ]
  },
  {
   "cell_type": "code",
   "execution_count": 19,
   "id": "4b013dae",
   "metadata": {},
   "outputs": [],
   "source": [
    "df.head()"
   ]
  },
  {
   "cell_type": "code",
   "execution_count": 20,
   "id": "a022dbb1",
   "metadata": {},
   "outputs": [],
   "source": [
    "#df.to_csv('Assignment_Review.csv', mode='a',index=False)"
   ]
  },
  {
   "cell_type": "code",
   "execution_count": 21,
   "id": "944bead7",
   "metadata": {},
   "outputs": [],
   "source": [
    "df.head(1)"
   ]
  },
  {
   "cell_type": "code",
   "execution_count": 22,
   "id": "528988b4",
   "metadata": {},
   "outputs": [],
   "source": [
    "df.columns"
   ]
  },
  {
   "cell_type": "code",
   "execution_count": 23,
   "id": "fa58045b",
   "metadata": {},
   "outputs": [],
   "source": [
    "new_names = {\n",
    "    'Name ': \"Name\",\n",
    "    'Email': \"Email\",\n",
    "    'Category': \"Category\",\n",
    "   'MC_Career Exploration': 'MC_Career_Exploration',\n",
    "    'Comments ': 'Comments_MC_Career_Exploration',\n",
    "    'WK_1_Goal Setting': 'WK_1_Goal_Setting',\n",
    "    'Comments .1': 'Comments_WK_1_Goal_Setting',\n",
    "    'WK_1_SMART Goals': 'WK_1_SMART_Goals',\n",
    "    'Comments .2': 'Comments_WK_1_SMART_Goals',\n",
    "    'WK_2_SWOT': 'WK_2_SWOT',\n",
    "    'Comments .3': 'Comments_WK_2_SWOT',\n",
    "    'WK_3_RIASEC': 'WK_3_RIASEC',\n",
    "    'Comments .4': 'Comments_WK_3_RIASEC',\n",
    "    'WK_3_Career Action Plan ': 'WK_3_Career_Action_Plan',\n",
    "    'Comments .5': 'Comments_WK_3_Career_Action_Plan',\n",
    "    'MC_LinkedIn Profile ': 'MC_LinkedIn_Profile',\n",
    "    'Comments .6': 'Comments_MC_LinkedIn_Profile',\n",
    "    'MC_CV/Resume ': 'MC_CV_Resume',\n",
    "    'Comments .7': 'Comments_MC_CV_Resume',\n",
    "    'MC_Intership_Searching': 'MC_Internship_Searching',\n",
    "    'Comments .8': 'Comments_MC_Internship_Searching',\n",
    "    'MC_Planning Masters': 'MC_Planning_Masters',\n",
    "    'Comments .9': 'Comments_MC_Planning_Masters'\n",
    "}\n",
    "\n",
    "for col in df.columns:\n",
    "    if col in new_names:\n",
    "        df.rename(columns={col: new_names[col]}, inplace=True)\n"
   ]
  },
  {
   "cell_type": "code",
   "execution_count": 24,
   "id": "b598f179",
   "metadata": {},
   "outputs": [],
   "source": [
    "df.columns"
   ]
  },
  {
   "cell_type": "code",
   "execution_count": 25,
   "id": "7b4289ae",
   "metadata": {},
   "outputs": [],
   "source": [
    "# Exporting the dataset to output folder\n",
    "df.to_csv(r\"C:\\Users\\HP\\OneDrive - VigyanShaala\\02 Products  Initiatives\\01 Kalpana\\05 Kalpana M&E\\00 DBMS 1.0\\Kalpana\\Kalpana Incubator Sept- Dec 2023 Batch\\Kalpana Output\\Assignment_Review.csv\",mode='w',index=False)"
   ]
  },
  {
   "cell_type": "markdown",
   "id": "ebb154fd",
   "metadata": {},
   "source": [
    "# Storing data on MySQL"
   ]
  },
  {
   "cell_type": "code",
   "execution_count": 26,
   "id": "266cbc49",
   "metadata": {},
   "outputs": [],
   "source": [
    "# Connecting MySQL Kalpana Database\n",
    "conn= msql.connect(host='localhost',user='root',password=\"VS@123\",database=\"Kalpana_Incubator_Sept_Dec_2023_Batch\",auth_plugin='mysql_native_password')\n",
    "cursor =conn.cursor()"
   ]
  },
  {
   "cell_type": "code",
   "execution_count": 27,
   "id": "574a1d78",
   "metadata": {},
   "outputs": [],
   "source": [
    "# Get the existing columns in the database\n",
    "cursor.execute(\"SHOW COLUMNS FROM Kalpana_Incubator_Sept_Dec_2023_Batch.11_incubator_assignment_monitoring\")\n",
    "existing_columns = [col[0] for col in cursor.fetchall()]\n",
    "\n",
    "# Define the column name before which the new column should be added\n",
    "target_column = 'Assignment_Score'\n",
    "\n",
    "# Check if any new columns exist in the dataframe but not in the database\n",
    "new_columns = [col for col in df.columns if col not in existing_columns]\n",
    "if new_columns:\n",
    "    # Add new columns to the database before the target column\n",
    "    for col in reversed(new_columns):\n",
    "        if col not in existing_columns:\n",
    "            # Get the index of the target column\n",
    "            target_column_index = existing_columns.index(target_column)\n",
    "            # Set the data type based on whether the column name starts with Comment\n",
    "            data_type = \"INT\" if not col.startswith(\"Comment\") else \"TEXT\"\n",
    "            alter_query = f\"ALTER TABLE Kalpana_Incubator_Sept_Dec_2023_Batch.11_incubator_assignment_monitoring ADD COLUMN {col} {data_type} AFTER {existing_columns[target_column_index - 1]}\"\n",
    "            cursor.execute(alter_query)\n",
    "            existing_columns.insert(target_column_index - 1, col)"
   ]
  },
  {
   "cell_type": "code",
   "execution_count": 28,
   "id": "60138dff",
   "metadata": {},
   "outputs": [],
   "source": [
    "# Your existing code for inserting data into the database table\n",
    "for i, row in df.iterrows():\n",
    "    row = [None if isinstance(val, float) and math.isnan(val) else val for val in row] # replace \"nan\" values with None\n",
    "    columns = ','.join(df.columns)\n",
    "    placeholders = ','.join(['%s']*len(row))\n",
    "    # Construct the INSERT query with ON DUPLICATE KEY UPDATE clause\n",
    "    query = f\"INSERT INTO Kalpana_Incubator_Sept_Dec_2023_Batch.11_incubator_assignment_monitoring ({columns}) VALUES ({placeholders}) ON DUPLICATE KEY UPDATE \"\n",
    "    query += \", \".join([f\"{col}=VALUES({col})\" for col in df.columns if col != 'Email'])\n",
    "    # Execute the query\n",
    "    cursor.execute(query, tuple(row))"
   ]
  },
  {
   "cell_type": "code",
   "execution_count": 29,
   "id": "80b552e6",
   "metadata": {},
   "outputs": [],
   "source": [
    "conn.commit()"
   ]
  }
 ],
 "metadata": {
  "kernelspec": {
   "display_name": "Python 3 (ipykernel)",
   "language": "python",
   "name": "python3"
  },
  "language_info": {
   "codemirror_mode": {
    "name": "ipython",
    "version": 3
   },
   "file_extension": ".py",
   "mimetype": "text/x-python",
   "name": "python",
   "nbconvert_exporter": "python",
   "pygments_lexer": "ipython3",
   "version": "3.11.3"
  },
  "varInspector": {
   "cols": {
    "lenName": 16,
    "lenType": 16,
    "lenVar": 40
   },
   "kernels_config": {
    "python": {
     "delete_cmd_postfix": "",
     "delete_cmd_prefix": "del ",
     "library": "var_list.py",
     "varRefreshCmd": "print(var_dic_list())"
    },
    "r": {
     "delete_cmd_postfix": ") ",
     "delete_cmd_prefix": "rm(",
     "library": "var_list.r",
     "varRefreshCmd": "cat(var_dic_list()) "
    }
   },
   "types_to_exclude": [
    "module",
    "function",
    "builtin_function_or_method",
    "instance",
    "_Feature"
   ],
   "window_display": false
  }
 },
 "nbformat": 4,
 "nbformat_minor": 5
}
