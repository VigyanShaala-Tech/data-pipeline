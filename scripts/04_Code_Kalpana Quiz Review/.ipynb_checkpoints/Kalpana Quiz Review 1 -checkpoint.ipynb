{
 "cells": [
  {
   "cell_type": "code",
   "execution_count": 1,
   "id": "02627cb3",
   "metadata": {},
   "outputs": [],
   "source": [
    "# Importing libraries\n",
    "import os\n",
    "import glob\n",
    "import pandas as pd \n",
    "import mysql.connector as msql\n",
    "import warnings\n",
    "warnings.filterwarnings('ignore')\n",
    "import math "
   ]
  },
  {
   "cell_type": "code",
   "execution_count": 2,
   "id": "218d8577",
   "metadata": {},
   "outputs": [],
   "source": [
    "# Specify the directory path where the CSV files are located\n",
    "path = r'C:\\Users\\spjay\\Desktop\\VigaynShaala Sorted\\Incubator remapping\\Kalpana Source File\\03_Source_Kalpana Quiz Review'\n",
    "\n",
    "# Change the current working directory to the specified path\n",
    "os.chdir(path)\n",
    "\n",
    "# Use glob to get a list of file paths for all CSV files in the current directory\n",
    "file_paths = glob.glob('*.csv')"
   ]
  },
  {
   "cell_type": "code",
   "execution_count": 3,
   "id": "34a6aac2",
   "metadata": {},
   "outputs": [],
   "source": [
    "# Creating empty list to store data\n",
    "keywords = []\n",
    "\n",
    "# Iterate over each file path in the file_paths list\n",
    "for file in file_paths:\n",
    "    # Find the starting index of the keyword by locating the position of 'Quiz_' in the file name and adding 5 to skip the 'Quiz_' prefix\n",
    "    start = file.find('Quiz_') + 5\n",
    "    \n",
    "    # Find the ending index of the keyword by locating the last occurrence of '-' in the file name\n",
    "    end = file.rfind('-')\n",
    "    \n",
    "    # Extract the keyword from the file name by slicing the string between the start and end indices, and remove any leading/trailing whitespaces\n",
    "    keyword = file[start:end].strip().replace(' ', '_')\n",
    "    \n",
    "    # Append the modified keyword to the keywords list\n",
    "    keywords.append(keyword)\n"
   ]
  },
  {
   "cell_type": "code",
   "execution_count": 4,
   "id": "5823fbbd",
   "metadata": {},
   "outputs": [
    {
     "data": {
      "text/plain": [
       "['21st_Century_skills_-_Collaboration_and_problem_solving',\n",
       " '21st_Century_skills_-_Communication',\n",
       " '21st_Century_skills_-_Creativity_&_growth_mindset',\n",
       " '21st_Century_skills_-_Critical_thinking',\n",
       " 'Individual_Development_Plan_(IDP)',\n",
       " 'Strategic_planning_tools_for_STEM_(SWOT)']"
      ]
     },
     "execution_count": 4,
     "metadata": {},
     "output_type": "execute_result"
    }
   ],
   "source": [
    "# List of all keywords present in our folder \n",
    "keywords"
   ]
  },
  {
   "cell_type": "code",
   "execution_count": 5,
   "id": "c17f1603",
   "metadata": {},
   "outputs": [],
   "source": [
    "# Reading Kalpana SHE for STEM Incubator file from Source files\n",
    "Kalpana = pd.read_csv(r'C:\\Users\\spjay\\Desktop\\VigyanShaala\\OneDrive_2023-03-17\\OneDrive_1_3-29-2023\\Kalpana Incubator Jan - Mar 2023 Batch-1679893018819.csv',usecols=['Email'])"
   ]
  },
  {
   "cell_type": "code",
   "execution_count": 6,
   "id": "4856d477",
   "metadata": {},
   "outputs": [],
   "source": [
    "# Iterate over file_paths and keywords simultaneously using zip\n",
    "for file, keyword in zip(file_paths, keywords):\n",
    "    # Read the CSV file into a DataFrame\n",
    "    df = pd.read_csv(file)\n",
    "    \n",
    "    # Identify the columns containing 'marks' (case-insensitive) in their names\n",
    "    marks_cols = [col for col in df.columns if 'marks' in col.lower()]\n",
    "    \n",
    "    # Calculate the maximum value across the marks columns for each row\n",
    "    df[f'Marks_{keyword}'] = df[marks_cols].max(axis=1, skipna=True)\n",
    "    \n",
    "    # Select only the 'Email' column and the newly created Marks column\n",
    "    df = df[['Email', f'Marks_{keyword}']]\n",
    "    \n",
    "    # Merge the DataFrame with Kalpana on the 'Email' column using an outer join\n",
    "    Kalpana = Kalpana.merge(df, on='Email', how='outer')\n"
   ]
  },
  {
   "cell_type": "code",
   "execution_count": 7,
   "id": "fbabc542",
   "metadata": {},
   "outputs": [],
   "source": [
    "# Define percent function\n",
    "def percent(value):\n",
    "    # Check if the value is NaN (missing value)\n",
    "    if pd.isna(value):\n",
    "        # Return 0 if the value is NaN\n",
    "        return 0\n",
    "    else:\n",
    "        # Multiply the value by 10 if it's not NaN\n",
    "        return value * 10\n"
   ]
  },
  {
   "cell_type": "code",
   "execution_count": 8,
   "id": "77eeb219",
   "metadata": {},
   "outputs": [],
   "source": [
    "# Create a list of column names in Kalpana DataFrame that start with 'Marks'\n",
    "marks_cols = [col for col in Kalpana.columns if col.startswith('Marks')]\n",
    "\n",
    "# Apply the percent function to each element in the selected columns using applymap()\n",
    "Kalpana[marks_cols] = Kalpana[marks_cols].applymap(percent)\n"
   ]
  },
  {
   "cell_type": "code",
   "execution_count": 9,
   "id": "36d567a8",
   "metadata": {},
   "outputs": [],
   "source": [
    "# Creating Overall_Score column which is average of columns of all quizzes\n",
    "Kalpana[\"Overall_Average\"]=Kalpana.iloc[:,1:].mean(axis=1)"
   ]
  },
  {
   "cell_type": "code",
   "execution_count": 10,
   "id": "954b9476",
   "metadata": {},
   "outputs": [],
   "source": [
    "# DataFrame df6 to 2 decimal places using the round() \n",
    "Kalpana[\"Overall_Average\"]=Kalpana[\"Overall_Average\"].round(2)"
   ]
  },
  {
   "cell_type": "code",
   "execution_count": 11,
   "id": "81ddff00",
   "metadata": {},
   "outputs": [],
   "source": [
    "# Define a dictionary that maps column names to their desired new names\n",
    "new_names = {\n",
    "    'Marks_21st_Century_skills_-_Collaboration_and_problem_solving_x': 'Marks_Collaboration',\n",
    "    'Marks_21st_Century_skills_-_Collaboration_and_problem_solving': 'Marks_Collaboration',\n",
    "    'Marks_21st_Century_skills_-_Communication': 'Marks_Communication_review',\n",
    "    'Marks_21st_Century_skills_-_Creativity_&_growth_mindset': 'Marks_Creativity_Growth',\n",
    "    'Marks_21st_Century_skills_-_Critical_thinking': 'Marks_Critical_Thinking',\n",
    "    'Marks_Individual_Development_Plan_(IDP)': 'Marks_IDP_review',\n",
    "    'Marks_Strategic_planning_tools_for_STEM_(SWOT)': 'Marks_SWOT_review'\n",
    "}\n",
    "\n",
    "# Iterate over the columns in Kalpana DataFrame\n",
    "for col in Kalpana.columns:\n",
    "    # Check if the column name is in the new_names dictionary\n",
    "    if col in new_names:\n",
    "        # Rename the column using the corresponding new name from the dictionary\n",
    "        Kalpana.rename(columns={col: new_names[col]}, inplace=True)\n"
   ]
  },
  {
   "cell_type": "code",
   "execution_count": 12,
   "id": "fc3cbd3c",
   "metadata": {},
   "outputs": [
    {
     "data": {
      "text/plain": [
       "Index(['Email', 'Marks_Collaboration', 'Marks_Communication_review',\n",
       "       'Marks_Creativity_Growth', 'Marks_Critical_Thinking',\n",
       "       'Marks_IDP_review', 'Marks_SWOT_review', 'Overall_Average'],\n",
       "      dtype='object')"
      ]
     },
     "execution_count": 12,
     "metadata": {},
     "output_type": "execute_result"
    }
   ],
   "source": [
    "# Check columns name\n",
    "Kalpana.columns"
   ]
  },
  {
   "cell_type": "code",
   "execution_count": 13,
   "id": "3ff8faf0",
   "metadata": {},
   "outputs": [
    {
     "data": {
      "text/html": [
       "<div>\n",
       "<style scoped>\n",
       "    .dataframe tbody tr th:only-of-type {\n",
       "        vertical-align: middle;\n",
       "    }\n",
       "\n",
       "    .dataframe tbody tr th {\n",
       "        vertical-align: top;\n",
       "    }\n",
       "\n",
       "    .dataframe thead th {\n",
       "        text-align: right;\n",
       "    }\n",
       "</style>\n",
       "<table border=\"1\" class=\"dataframe\">\n",
       "  <thead>\n",
       "    <tr style=\"text-align: right;\">\n",
       "      <th></th>\n",
       "      <th>Email</th>\n",
       "      <th>Marks_Collaboration</th>\n",
       "      <th>Marks_Communication_review</th>\n",
       "      <th>Marks_Creativity_Growth</th>\n",
       "      <th>Marks_Critical_Thinking</th>\n",
       "      <th>Marks_IDP_review</th>\n",
       "      <th>Marks_SWOT_review</th>\n",
       "      <th>Overall_Average</th>\n",
       "    </tr>\n",
       "  </thead>\n",
       "  <tbody>\n",
       "    <tr>\n",
       "      <th>0</th>\n",
       "      <td>abhiakhilabhiakhil505@gmail.com</td>\n",
       "      <td>0.0</td>\n",
       "      <td>0.0</td>\n",
       "      <td>0.0</td>\n",
       "      <td>0.0</td>\n",
       "      <td>0.0</td>\n",
       "      <td>0.0</td>\n",
       "      <td>0.00</td>\n",
       "    </tr>\n",
       "    <tr>\n",
       "      <th>1</th>\n",
       "      <td>deepshikhatyagi94@gmail.com</td>\n",
       "      <td>0.0</td>\n",
       "      <td>0.0</td>\n",
       "      <td>0.0</td>\n",
       "      <td>0.0</td>\n",
       "      <td>0.0</td>\n",
       "      <td>0.0</td>\n",
       "      <td>0.00</td>\n",
       "    </tr>\n",
       "    <tr>\n",
       "      <th>2</th>\n",
       "      <td>suvarnaanu91@gmail.com</td>\n",
       "      <td>0.0</td>\n",
       "      <td>80.0</td>\n",
       "      <td>0.0</td>\n",
       "      <td>0.0</td>\n",
       "      <td>0.0</td>\n",
       "      <td>0.0</td>\n",
       "      <td>13.33</td>\n",
       "    </tr>\n",
       "    <tr>\n",
       "      <th>3</th>\n",
       "      <td>malasaritha419@gmail.com</td>\n",
       "      <td>50.0</td>\n",
       "      <td>60.0</td>\n",
       "      <td>100.0</td>\n",
       "      <td>50.0</td>\n",
       "      <td>60.0</td>\n",
       "      <td>50.0</td>\n",
       "      <td>61.67</td>\n",
       "    </tr>\n",
       "    <tr>\n",
       "      <th>4</th>\n",
       "      <td>umeghana77@gmail.com</td>\n",
       "      <td>0.0</td>\n",
       "      <td>0.0</td>\n",
       "      <td>0.0</td>\n",
       "      <td>0.0</td>\n",
       "      <td>0.0</td>\n",
       "      <td>0.0</td>\n",
       "      <td>0.00</td>\n",
       "    </tr>\n",
       "  </tbody>\n",
       "</table>\n",
       "</div>"
      ],
      "text/plain": [
       "                             Email  Marks_Collaboration  \\\n",
       "0  abhiakhilabhiakhil505@gmail.com                  0.0   \n",
       "1      deepshikhatyagi94@gmail.com                  0.0   \n",
       "2           suvarnaanu91@gmail.com                  0.0   \n",
       "3         malasaritha419@gmail.com                 50.0   \n",
       "4             umeghana77@gmail.com                  0.0   \n",
       "\n",
       "   Marks_Communication_review  Marks_Creativity_Growth  \\\n",
       "0                         0.0                      0.0   \n",
       "1                         0.0                      0.0   \n",
       "2                        80.0                      0.0   \n",
       "3                        60.0                    100.0   \n",
       "4                         0.0                      0.0   \n",
       "\n",
       "   Marks_Critical_Thinking  Marks_IDP_review  Marks_SWOT_review  \\\n",
       "0                      0.0               0.0                0.0   \n",
       "1                      0.0               0.0                0.0   \n",
       "2                      0.0               0.0                0.0   \n",
       "3                     50.0              60.0               50.0   \n",
       "4                      0.0               0.0                0.0   \n",
       "\n",
       "   Overall_Average  \n",
       "0             0.00  \n",
       "1             0.00  \n",
       "2            13.33  \n",
       "3            61.67  \n",
       "4             0.00  "
      ]
     },
     "execution_count": 13,
     "metadata": {},
     "output_type": "execute_result"
    }
   ],
   "source": [
    "Kalpana.head()"
   ]
  },
  {
   "cell_type": "code",
   "execution_count": 14,
   "id": "ca8425fd",
   "metadata": {},
   "outputs": [
    {
     "data": {
      "text/html": [
       "<div>\n",
       "<style scoped>\n",
       "    .dataframe tbody tr th:only-of-type {\n",
       "        vertical-align: middle;\n",
       "    }\n",
       "\n",
       "    .dataframe tbody tr th {\n",
       "        vertical-align: top;\n",
       "    }\n",
       "\n",
       "    .dataframe thead th {\n",
       "        text-align: right;\n",
       "    }\n",
       "</style>\n",
       "<table border=\"1\" class=\"dataframe\">\n",
       "  <thead>\n",
       "    <tr style=\"text-align: right;\">\n",
       "      <th></th>\n",
       "      <th>Email</th>\n",
       "      <th>Marks_Collaboration</th>\n",
       "      <th>Marks_Communication_review</th>\n",
       "      <th>Marks_Creativity_Growth</th>\n",
       "      <th>Marks_Critical_Thinking</th>\n",
       "      <th>Marks_IDP_review</th>\n",
       "      <th>Marks_SWOT_review</th>\n",
       "      <th>Overall_Average</th>\n",
       "    </tr>\n",
       "  </thead>\n",
       "  <tbody>\n",
       "    <tr>\n",
       "      <th>370</th>\n",
       "      <td>ankithaguguloth46@gmail.com</td>\n",
       "      <td>0.0</td>\n",
       "      <td>0.0</td>\n",
       "      <td>0.0</td>\n",
       "      <td>0.0</td>\n",
       "      <td>70.0</td>\n",
       "      <td>80.0</td>\n",
       "      <td>25.0</td>\n",
       "    </tr>\n",
       "  </tbody>\n",
       "</table>\n",
       "</div>"
      ],
      "text/plain": [
       "                           Email  Marks_Collaboration  \\\n",
       "370  ankithaguguloth46@gmail.com                  0.0   \n",
       "\n",
       "     Marks_Communication_review  Marks_Creativity_Growth  \\\n",
       "370                         0.0                      0.0   \n",
       "\n",
       "     Marks_Critical_Thinking  Marks_IDP_review  Marks_SWOT_review  \\\n",
       "370                      0.0              70.0               80.0   \n",
       "\n",
       "     Overall_Average  \n",
       "370             25.0  "
      ]
     },
     "execution_count": 14,
     "metadata": {},
     "output_type": "execute_result"
    }
   ],
   "source": [
    "Kalpana[Kalpana['Email'] == 'ankithaguguloth46@gmail.com']\n"
   ]
  },
  {
   "cell_type": "markdown",
   "id": "c4fd7f0d",
   "metadata": {},
   "source": [
    "At last we have to just create a loop which will tell that if that file name doest prsent in mysql create a file name and add to mysql\n"
   ]
  },
  {
   "cell_type": "code",
   "execution_count": 15,
   "id": "50fc58de",
   "metadata": {},
   "outputs": [],
   "source": [
    "#Kalpana.to_csv('Quiz_Information_Final.csv', mode='a',index=False)"
   ]
  },
  {
   "cell_type": "code",
   "execution_count": 16,
   "id": "ec82b892",
   "metadata": {},
   "outputs": [],
   "source": [
    "Kalpana.to_csv(r\"C:\\Users\\spjay\\Desktop\\VigaynShaala Sorted\\Incubator remapping\\Kalpana Output\\Quiz_Information_Final.csv\",mode='w',index=False)"
   ]
  },
  {
   "cell_type": "markdown",
   "id": "f06bf745",
   "metadata": {},
   "source": [
    "# Storing data on MySQL"
   ]
  },
  {
   "cell_type": "code",
   "execution_count": 17,
   "id": "1b6be341",
   "metadata": {},
   "outputs": [],
   "source": [
    "# Connecting to MySQL Database\n",
    "conn= msql.connect(host='localhost',user='root',password=\"11042001\",database=\"kalpana\",auth_plugin='mysql_native_password')\n",
    "cursor =conn.cursor()"
   ]
  },
  {
   "cell_type": "code",
   "execution_count": 18,
   "id": "90171495",
   "metadata": {},
   "outputs": [],
   "source": [
    "\n",
    "# Get the existing columns in the database\n",
    "cursor.execute(\"SHOW COLUMNS FROM kalpana.10_incubator_quiz_monitoring\")\n",
    "existing_columns = [col[0] for col in cursor.fetchall()]\n",
    "\n",
    "# Define the column name before which the new column should be added\n",
    "target_column = 'Overall_Average'\n",
    "\n",
    "# Check if any new columns exist in the dataframe but not in the database\n",
    "new_columns = [col for col in Kalpana.columns if col not in existing_columns]\n",
    "if new_columns:\n",
    "    # Add new columns to the database before the target column\n",
    "    for col in reversed(new_columns):\n",
    "        if col not in existing_columns:\n",
    "            # Get the index of the target column\n",
    "            target_column_index = existing_columns.index(target_column)\n",
    "            # Set the data type based on whether the column name starts with Comment\n",
    "            data_type = \"INT\" \n",
    "            alter_query = f\"ALTER TABLE kalpana.10_incubator_quiz_monitoring ADD COLUMN {col} {data_type} AFTER {existing_columns[target_column_index - 1]}\"\n",
    "            cursor.execute(alter_query)\n",
    "            existing_columns.insert(target_column_index - 1, col)\n"
   ]
  },
  {
   "cell_type": "code",
   "execution_count": 19,
   "id": "02f7f0c2",
   "metadata": {},
   "outputs": [],
   "source": [
    "# Your existing code for inserting data into the database table\n",
    "for i, row in Kalpana.iterrows():\n",
    "    row = [None if isinstance(val, float) and math.isnan(val) else val for val in row] # replace \"nan\" values with None\n",
    "    columns = ','.join(Kalpana.columns)\n",
    "    placeholders = ','.join(['%s']*len(row))\n",
    "    # Construct the INSERT query with ON DUPLICATE KEY UPDATE clause\n",
    "    query = f\"INSERT INTO kalpana.10_incubator_quiz_monitoring ({columns}) VALUES ({placeholders}) ON DUPLICATE KEY UPDATE \"\n",
    "    query += \", \".join([f\"{col}=VALUES({col})\" for col in Kalpana.columns if col != 'Email'])\n",
    "    # Execute the query\n",
    "    cursor.execute(query, tuple(row))\n"
   ]
  },
  {
   "cell_type": "code",
   "execution_count": 20,
   "id": "19b73621",
   "metadata": {},
   "outputs": [],
   "source": [
    "conn.commit()"
   ]
  }
 ],
 "metadata": {
  "kernelspec": {
   "display_name": "Python 3 (ipykernel)",
   "language": "python",
   "name": "python3"
  },
  "language_info": {
   "codemirror_mode": {
    "name": "ipython",
    "version": 3
   },
   "file_extension": ".py",
   "mimetype": "text/x-python",
   "name": "python",
   "nbconvert_exporter": "python",
   "pygments_lexer": "ipython3",
   "version": "3.8.5"
  },
  "varInspector": {
   "cols": {
    "lenName": 16,
    "lenType": 16,
    "lenVar": 40
   },
   "kernels_config": {
    "python": {
     "delete_cmd_postfix": "",
     "delete_cmd_prefix": "del ",
     "library": "var_list.py",
     "varRefreshCmd": "print(var_dic_list())"
    },
    "r": {
     "delete_cmd_postfix": ") ",
     "delete_cmd_prefix": "rm(",
     "library": "var_list.r",
     "varRefreshCmd": "cat(var_dic_list()) "
    }
   },
   "types_to_exclude": [
    "module",
    "function",
    "builtin_function_or_method",
    "instance",
    "_Feature"
   ],
   "window_display": false
  }
 },
 "nbformat": 4,
 "nbformat_minor": 5
}
