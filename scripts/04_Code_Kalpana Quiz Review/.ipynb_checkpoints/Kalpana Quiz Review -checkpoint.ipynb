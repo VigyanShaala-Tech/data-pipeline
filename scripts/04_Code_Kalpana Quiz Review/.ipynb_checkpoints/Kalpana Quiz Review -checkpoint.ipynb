{
 "cells": [
  {
   "cell_type": "code",
   "execution_count": 1,
   "id": "02627cb3",
   "metadata": {},
   "outputs": [],
   "source": [
    "# Importing libraries\n",
    "import os\n",
    "import glob\n",
    "import pandas as pd \n",
    "import mysql.connector as msql\n",
    "import warnings\n",
    "warnings.filterwarnings('ignore')\n",
    "import math "
   ]
  },
  {
   "cell_type": "code",
   "execution_count": 2,
   "id": "218d8577",
   "metadata": {},
   "outputs": [],
   "source": [
    "# Specify the directory path where the CSV files are located\n",
    "path = r'C:\\Users\\HP\\OneDrive - VigyanShaala\\02 Products  Initiatives\\01 Kalpana\\05 Kalpana M&E\\00 DBMS 1.0\\Kalpana\\Kalpana Incubator Sept- Dec 2023 Batch\\Kalpana Source File\\03_Source_Kalpana Quiz Review'\n",
    " \n",
    "# Change the current working directory to the specified path\n",
    "os.chdir(path)\n",
    "\n",
    "# Use glob to get a list of file paths for all CSV files in the current directory\n",
    "file_paths = glob.glob('*.csv')"
   ]
  },
  {
   "cell_type": "code",
   "execution_count": null,
   "id": "d95cabe4",
   "metadata": {},
   "outputs": [],
   "source": []
  },
  {
   "cell_type": "code",
   "execution_count": 3,
   "id": "34a6aac2",
   "metadata": {},
   "outputs": [],
   "source": [
    "# Creating empty list to store data\n",
    "keywords = []\n",
    "\n",
    "# Iterate over each file path in the file_paths list\n",
    "for file in file_paths:\n",
    "    # Find the starting index of the keyword by locating the position of 'Quiz_' in the file name and adding 5 to skip the 'Quiz_' prefix\n",
    "    start = file.find('Batch-Quiz_') + 3\n",
    "    \n",
    "    # Find the ending index of the keyword by locating the last occurrence of '-' in the file name\n",
    "    end = file.rfind('-')\n",
    "    \n",
    "    # Extract the keyword from the file name by slicing the string between the start and end indices, and remove any leading/trailing whitespaces\n",
    "    keyword = os.path.splitext(os.path.basename(file))[0]\n",
    "    \n",
    "    # Append the modified keyword to the keywords list\n",
    "    keywords.append(keyword)\n"
   ]
  },
  {
   "cell_type": "code",
   "execution_count": 4,
   "id": "5823fbbd",
   "metadata": {},
   "outputs": [
    {
     "data": {
      "text/plain": [
       "['Individual Development Planning', 'Strategic planning tools for STEM (SWOT)']"
      ]
     },
     "execution_count": 4,
     "metadata": {},
     "output_type": "execute_result"
    }
   ],
   "source": [
    "# List of all keywords present in our folder \n",
    "keywords"
   ]
  },
  {
   "cell_type": "code",
   "execution_count": 5,
   "id": "c17f1603",
   "metadata": {},
   "outputs": [],
   "source": [
    "\n",
    "#Kalpana = pd.read_csv(r'C:\\Users\\HP\\OneDrive - VigyanShaala\\02 Products  Initiatives-LAPTOP-D2TFS89H\\01 Kalpana\\05 Kalpana M&E\\00 DBMS 1.0\\Kalpana\\Incubator New Remapping Code\\Kalpana Source File\\02_Source_Kalpana incubator\\Kalpana Incubator Jan - Mar 2023 Batch-1690281131766.csv',usecols=['Email'])"
   ]
  },
  {
   "cell_type": "code",
   "execution_count": 6,
   "id": "2a35d72d",
   "metadata": {},
   "outputs": [
    {
     "name": "stdout",
     "output_type": "stream",
     "text": [
      "Data from Kalpana Incubator Sept- Dec 2023 Batch-1700888678049 (1).csv:\n"
     ]
    }
   ],
   "source": [
    "# Reading Kalpana SHE for STEM Incubator file from Directory \n",
    "directory_path =(r\"C:\\Users\\HP\\OneDrive - VigyanShaala\\02 Products  Initiatives\\01 Kalpana\\05 Kalpana M&E\\00 DBMS 1.0\\Kalpana\\Kalpana Incubator Sept- Dec 2023 Batch\\Kalpana Source File\\02_Source_Kalpana incubator WN\")\n",
    "\n",
    "csv_files = [file for file in os.listdir(directory_path) if file.endswith('.csv')]\n",
    "\n",
    "for file in csv_files:\n",
    "    file_path = os.path.join(directory_path, file)\n",
    "    Kalpana = pd.read_csv(file_path,usecols=['Email'])\n",
    "    print(f\"Data from {file}:\")"
   ]
  },
  {
   "cell_type": "code",
   "execution_count": 7,
   "id": "4856d477",
   "metadata": {},
   "outputs": [],
   "source": [
    "# Iterate over file_paths and keywords simultaneously using zip\n",
    "for file, keyword in zip(file_paths, keywords):\n",
    "    # Read the CSV file into a DataFrame\n",
    "    df = pd.read_csv(file)\n",
    "    \n",
    "    # Identify the columns containing 'marks' (case-insensitive) in their names\n",
    "    marks_cols = [col for col in df.columns if 'marks' in col.lower()]\n",
    "    \n",
    "    # Calculate the maximum value across the marks columns for each row\n",
    "    df[f'Marks_{keyword}'] = df[marks_cols].max(axis=1, skipna=True)\n",
    "    \n",
    "    # Select only the 'Email' column and the newly created Marks column\n",
    "    df = df[['Email', f'Marks_{keyword}']]\n",
    "    \n",
    "    # Merge the DataFrame with Kalpana on the 'Email' column using an outer join\n",
    "    Kalpana = Kalpana.merge(df, on='Email', how='outer')\n"
   ]
  },
  {
   "cell_type": "code",
   "execution_count": 8,
   "id": "fbabc542",
   "metadata": {},
   "outputs": [],
   "source": [
    "# Define percent function\n",
    "def percent(value):\n",
    "    # Check if the value is NaN (missing value)\n",
    "    if pd.isna(value):\n",
    "        # Return 0 if the value is NaN\n",
    "        return 0\n",
    "    else:\n",
    "        # Multiply the value by 10 if it's not NaN\n",
    "        return value * 10\n"
   ]
  },
  {
   "cell_type": "code",
   "execution_count": 9,
   "id": "77eeb219",
   "metadata": {},
   "outputs": [],
   "source": [
    "# Create a list of column names in Kalpana DataFrame that start with 'Marks'\n",
    "marks_cols = [col for col in Kalpana.columns if col.startswith('Marks')]\n",
    "\n",
    "# Apply the percent function to each element in the selected columns using applymap()\n",
    "Kalpana[marks_cols] = Kalpana[marks_cols].applymap(percent)\n"
   ]
  },
  {
   "cell_type": "code",
   "execution_count": 10,
   "id": "36d567a8",
   "metadata": {},
   "outputs": [],
   "source": [
    "# Creating Overall_Score column which is average of columns of all quizzes\n",
    "Kalpana[\"Overall_Average\"]=Kalpana.iloc[:,1:].mean(axis=1)"
   ]
  },
  {
   "cell_type": "code",
   "execution_count": 11,
   "id": "954b9476",
   "metadata": {},
   "outputs": [],
   "source": [
    "# DataFrame df6 to 2 decimal places using the round() \n",
    "Kalpana[\"Overall_Average\"]=Kalpana[\"Overall_Average\"].round(2)"
   ]
  },
  {
   "cell_type": "code",
   "execution_count": 12,
   "id": "041b49f0",
   "metadata": {},
   "outputs": [],
   "source": [
    "Kalpana.columns = Kalpana.columns.str.replace(' ', '_')\n"
   ]
  },
  {
   "cell_type": "code",
   "execution_count": 13,
   "id": "b79c22d5",
   "metadata": {},
   "outputs": [
    {
     "data": {
      "text/plain": [
       "Index(['Email', 'Marks_Individual_Development_Planning',\n",
       "       'Marks_Strategic_planning_tools_for_STEM_(SWOT)', 'Overall_Average'],\n",
       "      dtype='object')"
      ]
     },
     "execution_count": 13,
     "metadata": {},
     "output_type": "execute_result"
    }
   ],
   "source": [
    "Kalpana.columns"
   ]
  },
  {
   "cell_type": "code",
   "execution_count": 14,
   "id": "81ddff00",
   "metadata": {},
   "outputs": [],
   "source": [
    "# Define a dictionary that maps column names to their desired new names\n",
    "new_names = {\n",
    "    'Marks_21st_Century_skills_-_Collaboration_and_problem_solving_x': 'Marks_Collaboration',\n",
    "    'Marks_Collaboration_and_problem_solving': 'Marks_Collaboration',\n",
    "    'Marks_Communication': 'Marks_Communication_review',\n",
    "    'Marks_Creativity_&_growth_mindset': 'Marks_Creativity_Growth',\n",
    "    'Marks_Critical_thinking': 'Marks_Critical_Thinking',\n",
    "    'Marks_Individual_Development_Planning': 'Marks_IDP',\n",
    "    'Marks_Strategic_planning_tools_for_STEM_(SWOT)': 'Marks_SWOT'\n",
    "}\n",
    "\n",
    "# Iterate over the columns in Kalpana DataFrame\n",
    "for col in Kalpana.columns:\n",
    "    # Check if the column name is in the new_names dictionary\n",
    "    if col in new_names:\n",
    "        # Rename the column using the corresponding new name from the dictionary\n",
    "        Kalpana.rename(columns={col: new_names[col]}, inplace=True)\n"
   ]
  },
  {
   "cell_type": "code",
   "execution_count": 15,
   "id": "fc3cbd3c",
   "metadata": {},
   "outputs": [
    {
     "data": {
      "text/plain": [
       "Index(['Email', 'Marks_IDP', 'Marks_SWOT', 'Overall_Average'], dtype='object')"
      ]
     },
     "execution_count": 15,
     "metadata": {},
     "output_type": "execute_result"
    }
   ],
   "source": [
    "# Check columns name\n",
    "Kalpana.columns"
   ]
  },
  {
   "cell_type": "code",
   "execution_count": 16,
   "id": "3ff8faf0",
   "metadata": {},
   "outputs": [
    {
     "data": {
      "text/html": [
       "<div>\n",
       "<style scoped>\n",
       "    .dataframe tbody tr th:only-of-type {\n",
       "        vertical-align: middle;\n",
       "    }\n",
       "\n",
       "    .dataframe tbody tr th {\n",
       "        vertical-align: top;\n",
       "    }\n",
       "\n",
       "    .dataframe thead th {\n",
       "        text-align: right;\n",
       "    }\n",
       "</style>\n",
       "<table border=\"1\" class=\"dataframe\">\n",
       "  <thead>\n",
       "    <tr style=\"text-align: right;\">\n",
       "      <th></th>\n",
       "      <th>Email</th>\n",
       "      <th>Marks_IDP</th>\n",
       "      <th>Marks_SWOT</th>\n",
       "      <th>Overall_Average</th>\n",
       "    </tr>\n",
       "  </thead>\n",
       "  <tbody>\n",
       "    <tr>\n",
       "      <th>0</th>\n",
       "      <td>vijayacads@gmail.com</td>\n",
       "      <td>0.0</td>\n",
       "      <td>0.0</td>\n",
       "      <td>0.0</td>\n",
       "    </tr>\n",
       "    <tr>\n",
       "      <th>1</th>\n",
       "      <td>sreejith.sreenivasan@vigyanshaala.com</td>\n",
       "      <td>40.0</td>\n",
       "      <td>30.0</td>\n",
       "      <td>35.0</td>\n",
       "    </tr>\n",
       "    <tr>\n",
       "      <th>2</th>\n",
       "      <td>monikadaw5353@gmail.com</td>\n",
       "      <td>0.0</td>\n",
       "      <td>0.0</td>\n",
       "      <td>0.0</td>\n",
       "    </tr>\n",
       "    <tr>\n",
       "      <th>3</th>\n",
       "      <td>prachijagdale0123@gmail.com</td>\n",
       "      <td>0.0</td>\n",
       "      <td>0.0</td>\n",
       "      <td>0.0</td>\n",
       "    </tr>\n",
       "    <tr>\n",
       "      <th>4</th>\n",
       "      <td>nikitasingh4615@gmail.com</td>\n",
       "      <td>0.0</td>\n",
       "      <td>0.0</td>\n",
       "      <td>0.0</td>\n",
       "    </tr>\n",
       "  </tbody>\n",
       "</table>\n",
       "</div>"
      ],
      "text/plain": [
       "                                   Email  Marks_IDP  Marks_SWOT  \\\n",
       "0                   vijayacads@gmail.com        0.0         0.0   \n",
       "1  sreejith.sreenivasan@vigyanshaala.com       40.0        30.0   \n",
       "2                monikadaw5353@gmail.com        0.0         0.0   \n",
       "3            prachijagdale0123@gmail.com        0.0         0.0   \n",
       "4              nikitasingh4615@gmail.com        0.0         0.0   \n",
       "\n",
       "   Overall_Average  \n",
       "0              0.0  \n",
       "1             35.0  \n",
       "2              0.0  \n",
       "3              0.0  \n",
       "4              0.0  "
      ]
     },
     "execution_count": 16,
     "metadata": {},
     "output_type": "execute_result"
    }
   ],
   "source": [
    "Kalpana.head()"
   ]
  },
  {
   "cell_type": "code",
   "execution_count": 17,
   "id": "ca8425fd",
   "metadata": {},
   "outputs": [
    {
     "data": {
      "text/html": [
       "<div>\n",
       "<style scoped>\n",
       "    .dataframe tbody tr th:only-of-type {\n",
       "        vertical-align: middle;\n",
       "    }\n",
       "\n",
       "    .dataframe tbody tr th {\n",
       "        vertical-align: top;\n",
       "    }\n",
       "\n",
       "    .dataframe thead th {\n",
       "        text-align: right;\n",
       "    }\n",
       "</style>\n",
       "<table border=\"1\" class=\"dataframe\">\n",
       "  <thead>\n",
       "    <tr style=\"text-align: right;\">\n",
       "      <th></th>\n",
       "      <th>Email</th>\n",
       "      <th>Marks_IDP</th>\n",
       "      <th>Marks_SWOT</th>\n",
       "      <th>Overall_Average</th>\n",
       "    </tr>\n",
       "  </thead>\n",
       "  <tbody>\n",
       "    <tr>\n",
       "      <th>1</th>\n",
       "      <td>sreejith.sreenivasan@vigyanshaala.com</td>\n",
       "      <td>40.0</td>\n",
       "      <td>30.0</td>\n",
       "      <td>35.0</td>\n",
       "    </tr>\n",
       "  </tbody>\n",
       "</table>\n",
       "</div>"
      ],
      "text/plain": [
       "                                   Email  Marks_IDP  Marks_SWOT  \\\n",
       "1  sreejith.sreenivasan@vigyanshaala.com       40.0        30.0   \n",
       "\n",
       "   Overall_Average  \n",
       "1             35.0  "
      ]
     },
     "execution_count": 17,
     "metadata": {},
     "output_type": "execute_result"
    }
   ],
   "source": [
    "Kalpana[Kalpana['Email'] == 'sreejith.sreenivasan@vigyanshaala.com']\n"
   ]
  },
  {
   "cell_type": "markdown",
   "id": "c4fd7f0d",
   "metadata": {},
   "source": [
    "At last we have to just create a loop which will tell that if that file name doest prsent in mysql create a file name and add to mysql\n"
   ]
  },
  {
   "cell_type": "code",
   "execution_count": 18,
   "id": "50fc58de",
   "metadata": {},
   "outputs": [],
   "source": [
    "#Kalpana.to_csv('Quiz_Information_Final.csv', mode='a',index=False)"
   ]
  },
  {
   "cell_type": "code",
   "execution_count": 19,
   "id": "ec82b892",
   "metadata": {},
   "outputs": [],
   "source": [
    "Kalpana.to_csv(r\"C:\\Users\\HP\\OneDrive - VigyanShaala\\02 Products  Initiatives\\01 Kalpana\\05 Kalpana M&E\\00 DBMS 1.0\\Kalpana\\Kalpana Incubator Sept- Dec 2023 Batch\\Kalpana Output\\Quiz_Information.csv\",mode='w',index=False)"
   ]
  },
  {
   "cell_type": "markdown",
   "id": "f06bf745",
   "metadata": {},
   "source": [
    "# Storing data on MySQL"
   ]
  },
  {
   "cell_type": "code",
   "execution_count": 20,
   "id": "1b6be341",
   "metadata": {},
   "outputs": [],
   "source": [
    "# Connecting to MySQL Database\n",
    "conn= msql.connect(host='localhost',user='root',password=\"VS@123\",database=\"Kalpana_Incubator_Sept_Dec_2023_Batch\",auth_plugin='mysql_native_password')\n",
    "cursor =conn.cursor()"
   ]
  },
  {
   "cell_type": "code",
   "execution_count": 21,
   "id": "90171495",
   "metadata": {},
   "outputs": [],
   "source": [
    "\n",
    "# Get the existing columns in the database\n",
    "cursor.execute(\"SHOW COLUMNS FROM 10_incubator_quiz_monitoring\")\n",
    "existing_columns = [col[0] for col in cursor.fetchall()]\n",
    "\n",
    "# Define the column name before which the new column should be added\n",
    "target_column = 'Overall_Average'\n",
    "\n",
    "# Check if any new columns exist in the dataframe but not in the database\n",
    "new_columns = [col for col in Kalpana.columns if col not in existing_columns]\n",
    "if new_columns:\n",
    "    # Add new columns to the database before the target column\n",
    "    for col in reversed(new_columns):\n",
    "        if col not in existing_columns:\n",
    "            # Get the index of the target column\n",
    "            target_column_index = existing_columns.index(target_column)\n",
    "            # Set the data type based on whether the column name starts with Comment\n",
    "            data_type = \"INT\" \n",
    "            alter_query = f\"ALTER TABLE 10_incubator_quiz_monitoring ADD COLUMN {col} {data_type} AFTER {existing_columns[target_column_index - 1]}\"\n",
    "            cursor.execute(alter_query)\n",
    "            existing_columns.insert(target_column_index - 1, col)\n"
   ]
  },
  {
   "cell_type": "code",
   "execution_count": 22,
   "id": "02f7f0c2",
   "metadata": {},
   "outputs": [],
   "source": [
    "# Your existing code for inserting data into the database table\n",
    "for i, row in Kalpana.iterrows():\n",
    "    row = [None if isinstance(val, float) and math.isnan(val) else val for val in row] # replace \"nan\" values with None\n",
    "    columns = ','.join(Kalpana.columns)\n",
    "    placeholders = ','.join(['%s']*len(row))\n",
    "    # Construct the INSERT query with ON DUPLICATE KEY UPDATE clause\n",
    "    query = f\"INSERT INTO 10_incubator_quiz_monitoring ({columns}) VALUES ({placeholders}) ON DUPLICATE KEY UPDATE \"\n",
    "    query += \", \".join([f\"{col}=VALUES({col})\" for col in Kalpana.columns if col != 'Email'])\n",
    "    # Execute the query\n",
    "    cursor.execute(query, tuple(row))\n"
   ]
  },
  {
   "cell_type": "code",
   "execution_count": 23,
   "id": "19b73621",
   "metadata": {},
   "outputs": [],
   "source": [
    "conn.commit()"
   ]
  }
 ],
 "metadata": {
  "kernelspec": {
   "display_name": "Python 3 (ipykernel)",
   "language": "python",
   "name": "python3"
  },
  "language_info": {
   "codemirror_mode": {
    "name": "ipython",
    "version": 3
   },
   "file_extension": ".py",
   "mimetype": "text/x-python",
   "name": "python",
   "nbconvert_exporter": "python",
   "pygments_lexer": "ipython3",
   "version": "3.11.3"
  },
  "varInspector": {
   "cols": {
    "lenName": 16,
    "lenType": 16,
    "lenVar": 40
   },
   "kernels_config": {
    "python": {
     "delete_cmd_postfix": "",
     "delete_cmd_prefix": "del ",
     "library": "var_list.py",
     "varRefreshCmd": "print(var_dic_list())"
    },
    "r": {
     "delete_cmd_postfix": ") ",
     "delete_cmd_prefix": "rm(",
     "library": "var_list.r",
     "varRefreshCmd": "cat(var_dic_list()) "
    }
   },
   "types_to_exclude": [
    "module",
    "function",
    "builtin_function_or_method",
    "instance",
    "_Feature"
   ],
   "window_display": false
  }
 },
 "nbformat": 4,
 "nbformat_minor": 5
}
